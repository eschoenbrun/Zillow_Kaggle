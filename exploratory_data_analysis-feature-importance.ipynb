{
 "cells": [
  {
   "cell_type": "code",
   "execution_count": 5,
   "metadata": {
    "collapsed": true
   },
   "outputs": [],
   "source": [
    "import pandas as pd\n",
    "import numpy as np\n",
    "import matplotlib.pyplot as plt\n",
    "\n",
    "import seaborn as sns\n",
    "import warnings"
   ]
  },
  {
   "cell_type": "code",
   "execution_count": 6,
   "metadata": {
    "collapsed": true
   },
   "outputs": [],
   "source": [
    "warnings.filterwarnings(\"ignore\")"
   ]
  },
  {
   "cell_type": "code",
   "execution_count": 7,
   "metadata": {
    "collapsed": true
   },
   "outputs": [],
   "source": [
    "import gc"
   ]
  },
  {
   "cell_type": "code",
   "execution_count": 8,
   "metadata": {
    "collapsed": true,
    "scrolled": true
   },
   "outputs": [],
   "source": [
    "prop_2016 = pd.read_csv('data/properties_2016.csv')"
   ]
  },
  {
   "cell_type": "code",
   "execution_count": 9,
   "metadata": {},
   "outputs": [
    {
     "data": {
      "text/html": [
       "<div>\n",
       "<style>\n",
       "    .dataframe thead tr:only-child th {\n",
       "        text-align: right;\n",
       "    }\n",
       "\n",
       "    .dataframe thead th {\n",
       "        text-align: left;\n",
       "    }\n",
       "\n",
       "    .dataframe tbody tr th {\n",
       "        vertical-align: top;\n",
       "    }\n",
       "</style>\n",
       "<table border=\"1\" class=\"dataframe\">\n",
       "  <thead>\n",
       "    <tr style=\"text-align: right;\">\n",
       "      <th></th>\n",
       "      <th>parcelid</th>\n",
       "      <th>airconditioningtypeid</th>\n",
       "      <th>architecturalstyletypeid</th>\n",
       "      <th>basementsqft</th>\n",
       "      <th>bathroomcnt</th>\n",
       "      <th>bedroomcnt</th>\n",
       "      <th>buildingclasstypeid</th>\n",
       "      <th>buildingqualitytypeid</th>\n",
       "      <th>calculatedbathnbr</th>\n",
       "      <th>decktypeid</th>\n",
       "      <th>...</th>\n",
       "      <th>numberofstories</th>\n",
       "      <th>fireplaceflag</th>\n",
       "      <th>structuretaxvaluedollarcnt</th>\n",
       "      <th>taxvaluedollarcnt</th>\n",
       "      <th>assessmentyear</th>\n",
       "      <th>landtaxvaluedollarcnt</th>\n",
       "      <th>taxamount</th>\n",
       "      <th>taxdelinquencyflag</th>\n",
       "      <th>taxdelinquencyyear</th>\n",
       "      <th>censustractandblock</th>\n",
       "    </tr>\n",
       "  </thead>\n",
       "  <tbody>\n",
       "    <tr>\n",
       "      <th>0</th>\n",
       "      <td>10754147</td>\n",
       "      <td>NaN</td>\n",
       "      <td>NaN</td>\n",
       "      <td>NaN</td>\n",
       "      <td>0.0</td>\n",
       "      <td>0.0</td>\n",
       "      <td>NaN</td>\n",
       "      <td>NaN</td>\n",
       "      <td>NaN</td>\n",
       "      <td>NaN</td>\n",
       "      <td>...</td>\n",
       "      <td>NaN</td>\n",
       "      <td>NaN</td>\n",
       "      <td>NaN</td>\n",
       "      <td>9.0</td>\n",
       "      <td>2015.0</td>\n",
       "      <td>9.0</td>\n",
       "      <td>NaN</td>\n",
       "      <td>NaN</td>\n",
       "      <td>NaN</td>\n",
       "      <td>NaN</td>\n",
       "    </tr>\n",
       "    <tr>\n",
       "      <th>1</th>\n",
       "      <td>10759547</td>\n",
       "      <td>NaN</td>\n",
       "      <td>NaN</td>\n",
       "      <td>NaN</td>\n",
       "      <td>0.0</td>\n",
       "      <td>0.0</td>\n",
       "      <td>NaN</td>\n",
       "      <td>NaN</td>\n",
       "      <td>NaN</td>\n",
       "      <td>NaN</td>\n",
       "      <td>...</td>\n",
       "      <td>NaN</td>\n",
       "      <td>NaN</td>\n",
       "      <td>NaN</td>\n",
       "      <td>27516.0</td>\n",
       "      <td>2015.0</td>\n",
       "      <td>27516.0</td>\n",
       "      <td>NaN</td>\n",
       "      <td>NaN</td>\n",
       "      <td>NaN</td>\n",
       "      <td>NaN</td>\n",
       "    </tr>\n",
       "    <tr>\n",
       "      <th>2</th>\n",
       "      <td>10843547</td>\n",
       "      <td>NaN</td>\n",
       "      <td>NaN</td>\n",
       "      <td>NaN</td>\n",
       "      <td>0.0</td>\n",
       "      <td>0.0</td>\n",
       "      <td>NaN</td>\n",
       "      <td>NaN</td>\n",
       "      <td>NaN</td>\n",
       "      <td>NaN</td>\n",
       "      <td>...</td>\n",
       "      <td>NaN</td>\n",
       "      <td>NaN</td>\n",
       "      <td>650756.0</td>\n",
       "      <td>1413387.0</td>\n",
       "      <td>2015.0</td>\n",
       "      <td>762631.0</td>\n",
       "      <td>20800.37</td>\n",
       "      <td>NaN</td>\n",
       "      <td>NaN</td>\n",
       "      <td>NaN</td>\n",
       "    </tr>\n",
       "    <tr>\n",
       "      <th>3</th>\n",
       "      <td>10859147</td>\n",
       "      <td>NaN</td>\n",
       "      <td>NaN</td>\n",
       "      <td>NaN</td>\n",
       "      <td>0.0</td>\n",
       "      <td>0.0</td>\n",
       "      <td>3.0</td>\n",
       "      <td>7.0</td>\n",
       "      <td>NaN</td>\n",
       "      <td>NaN</td>\n",
       "      <td>...</td>\n",
       "      <td>1.0</td>\n",
       "      <td>NaN</td>\n",
       "      <td>571346.0</td>\n",
       "      <td>1156834.0</td>\n",
       "      <td>2015.0</td>\n",
       "      <td>585488.0</td>\n",
       "      <td>14557.57</td>\n",
       "      <td>NaN</td>\n",
       "      <td>NaN</td>\n",
       "      <td>NaN</td>\n",
       "    </tr>\n",
       "    <tr>\n",
       "      <th>4</th>\n",
       "      <td>10879947</td>\n",
       "      <td>NaN</td>\n",
       "      <td>NaN</td>\n",
       "      <td>NaN</td>\n",
       "      <td>0.0</td>\n",
       "      <td>0.0</td>\n",
       "      <td>4.0</td>\n",
       "      <td>NaN</td>\n",
       "      <td>NaN</td>\n",
       "      <td>NaN</td>\n",
       "      <td>...</td>\n",
       "      <td>NaN</td>\n",
       "      <td>NaN</td>\n",
       "      <td>193796.0</td>\n",
       "      <td>433491.0</td>\n",
       "      <td>2015.0</td>\n",
       "      <td>239695.0</td>\n",
       "      <td>5725.17</td>\n",
       "      <td>NaN</td>\n",
       "      <td>NaN</td>\n",
       "      <td>NaN</td>\n",
       "    </tr>\n",
       "  </tbody>\n",
       "</table>\n",
       "<p>5 rows × 58 columns</p>\n",
       "</div>"
      ],
      "text/plain": [
       "   parcelid  airconditioningtypeid  architecturalstyletypeid  basementsqft  \\\n",
       "0  10754147                    NaN                       NaN           NaN   \n",
       "1  10759547                    NaN                       NaN           NaN   \n",
       "2  10843547                    NaN                       NaN           NaN   \n",
       "3  10859147                    NaN                       NaN           NaN   \n",
       "4  10879947                    NaN                       NaN           NaN   \n",
       "\n",
       "   bathroomcnt  bedroomcnt  buildingclasstypeid  buildingqualitytypeid  \\\n",
       "0          0.0         0.0                  NaN                    NaN   \n",
       "1          0.0         0.0                  NaN                    NaN   \n",
       "2          0.0         0.0                  NaN                    NaN   \n",
       "3          0.0         0.0                  3.0                    7.0   \n",
       "4          0.0         0.0                  4.0                    NaN   \n",
       "\n",
       "   calculatedbathnbr  decktypeid         ...           numberofstories  \\\n",
       "0                NaN         NaN         ...                       NaN   \n",
       "1                NaN         NaN         ...                       NaN   \n",
       "2                NaN         NaN         ...                       NaN   \n",
       "3                NaN         NaN         ...                       1.0   \n",
       "4                NaN         NaN         ...                       NaN   \n",
       "\n",
       "   fireplaceflag  structuretaxvaluedollarcnt  taxvaluedollarcnt  \\\n",
       "0            NaN                         NaN                9.0   \n",
       "1            NaN                         NaN            27516.0   \n",
       "2            NaN                    650756.0          1413387.0   \n",
       "3            NaN                    571346.0          1156834.0   \n",
       "4            NaN                    193796.0           433491.0   \n",
       "\n",
       "   assessmentyear  landtaxvaluedollarcnt  taxamount  taxdelinquencyflag  \\\n",
       "0          2015.0                    9.0        NaN                 NaN   \n",
       "1          2015.0                27516.0        NaN                 NaN   \n",
       "2          2015.0               762631.0   20800.37                 NaN   \n",
       "3          2015.0               585488.0   14557.57                 NaN   \n",
       "4          2015.0               239695.0    5725.17                 NaN   \n",
       "\n",
       "   taxdelinquencyyear  censustractandblock  \n",
       "0                 NaN                  NaN  \n",
       "1                 NaN                  NaN  \n",
       "2                 NaN                  NaN  \n",
       "3                 NaN                  NaN  \n",
       "4                 NaN                  NaN  \n",
       "\n",
       "[5 rows x 58 columns]"
      ]
     },
     "execution_count": 9,
     "metadata": {},
     "output_type": "execute_result"
    }
   ],
   "source": [
    "prop_2016.head()"
   ]
  },
  {
   "cell_type": "code",
   "execution_count": 10,
   "metadata": {
    "collapsed": true
   },
   "outputs": [],
   "source": [
    "prop_2017 = pd.read_csv('data/properties_2017.csv')"
   ]
  },
  {
   "cell_type": "code",
   "execution_count": 11,
   "metadata": {},
   "outputs": [
    {
     "data": {
      "text/html": [
       "<div>\n",
       "<style>\n",
       "    .dataframe thead tr:only-child th {\n",
       "        text-align: right;\n",
       "    }\n",
       "\n",
       "    .dataframe thead th {\n",
       "        text-align: left;\n",
       "    }\n",
       "\n",
       "    .dataframe tbody tr th {\n",
       "        vertical-align: top;\n",
       "    }\n",
       "</style>\n",
       "<table border=\"1\" class=\"dataframe\">\n",
       "  <thead>\n",
       "    <tr style=\"text-align: right;\">\n",
       "      <th></th>\n",
       "      <th>parcelid</th>\n",
       "      <th>airconditioningtypeid</th>\n",
       "      <th>architecturalstyletypeid</th>\n",
       "      <th>basementsqft</th>\n",
       "      <th>bathroomcnt</th>\n",
       "      <th>bedroomcnt</th>\n",
       "      <th>buildingclasstypeid</th>\n",
       "      <th>buildingqualitytypeid</th>\n",
       "      <th>calculatedbathnbr</th>\n",
       "      <th>decktypeid</th>\n",
       "      <th>...</th>\n",
       "      <th>numberofstories</th>\n",
       "      <th>fireplaceflag</th>\n",
       "      <th>structuretaxvaluedollarcnt</th>\n",
       "      <th>taxvaluedollarcnt</th>\n",
       "      <th>assessmentyear</th>\n",
       "      <th>landtaxvaluedollarcnt</th>\n",
       "      <th>taxamount</th>\n",
       "      <th>taxdelinquencyflag</th>\n",
       "      <th>taxdelinquencyyear</th>\n",
       "      <th>censustractandblock</th>\n",
       "    </tr>\n",
       "  </thead>\n",
       "  <tbody>\n",
       "    <tr>\n",
       "      <th>0</th>\n",
       "      <td>10754147</td>\n",
       "      <td>NaN</td>\n",
       "      <td>NaN</td>\n",
       "      <td>NaN</td>\n",
       "      <td>0.0</td>\n",
       "      <td>0.0</td>\n",
       "      <td>NaN</td>\n",
       "      <td>NaN</td>\n",
       "      <td>NaN</td>\n",
       "      <td>NaN</td>\n",
       "      <td>...</td>\n",
       "      <td>NaN</td>\n",
       "      <td>NaN</td>\n",
       "      <td>NaN</td>\n",
       "      <td>9.0</td>\n",
       "      <td>2016.0</td>\n",
       "      <td>9.0</td>\n",
       "      <td>NaN</td>\n",
       "      <td>NaN</td>\n",
       "      <td>NaN</td>\n",
       "      <td>NaN</td>\n",
       "    </tr>\n",
       "    <tr>\n",
       "      <th>1</th>\n",
       "      <td>10759547</td>\n",
       "      <td>NaN</td>\n",
       "      <td>NaN</td>\n",
       "      <td>NaN</td>\n",
       "      <td>0.0</td>\n",
       "      <td>0.0</td>\n",
       "      <td>NaN</td>\n",
       "      <td>NaN</td>\n",
       "      <td>NaN</td>\n",
       "      <td>NaN</td>\n",
       "      <td>...</td>\n",
       "      <td>NaN</td>\n",
       "      <td>NaN</td>\n",
       "      <td>NaN</td>\n",
       "      <td>27516.0</td>\n",
       "      <td>2015.0</td>\n",
       "      <td>27516.0</td>\n",
       "      <td>NaN</td>\n",
       "      <td>NaN</td>\n",
       "      <td>NaN</td>\n",
       "      <td>NaN</td>\n",
       "    </tr>\n",
       "    <tr>\n",
       "      <th>2</th>\n",
       "      <td>10843547</td>\n",
       "      <td>NaN</td>\n",
       "      <td>NaN</td>\n",
       "      <td>NaN</td>\n",
       "      <td>0.0</td>\n",
       "      <td>0.0</td>\n",
       "      <td>5.0</td>\n",
       "      <td>NaN</td>\n",
       "      <td>NaN</td>\n",
       "      <td>NaN</td>\n",
       "      <td>...</td>\n",
       "      <td>1.0</td>\n",
       "      <td>NaN</td>\n",
       "      <td>660680.0</td>\n",
       "      <td>1434941.0</td>\n",
       "      <td>2016.0</td>\n",
       "      <td>774261.0</td>\n",
       "      <td>20800.37</td>\n",
       "      <td>NaN</td>\n",
       "      <td>NaN</td>\n",
       "      <td>NaN</td>\n",
       "    </tr>\n",
       "    <tr>\n",
       "      <th>3</th>\n",
       "      <td>10859147</td>\n",
       "      <td>NaN</td>\n",
       "      <td>NaN</td>\n",
       "      <td>NaN</td>\n",
       "      <td>0.0</td>\n",
       "      <td>0.0</td>\n",
       "      <td>3.0</td>\n",
       "      <td>6.0</td>\n",
       "      <td>NaN</td>\n",
       "      <td>NaN</td>\n",
       "      <td>...</td>\n",
       "      <td>1.0</td>\n",
       "      <td>NaN</td>\n",
       "      <td>580059.0</td>\n",
       "      <td>1174475.0</td>\n",
       "      <td>2016.0</td>\n",
       "      <td>594416.0</td>\n",
       "      <td>14557.57</td>\n",
       "      <td>NaN</td>\n",
       "      <td>NaN</td>\n",
       "      <td>NaN</td>\n",
       "    </tr>\n",
       "    <tr>\n",
       "      <th>4</th>\n",
       "      <td>10879947</td>\n",
       "      <td>NaN</td>\n",
       "      <td>NaN</td>\n",
       "      <td>NaN</td>\n",
       "      <td>0.0</td>\n",
       "      <td>0.0</td>\n",
       "      <td>4.0</td>\n",
       "      <td>NaN</td>\n",
       "      <td>NaN</td>\n",
       "      <td>NaN</td>\n",
       "      <td>...</td>\n",
       "      <td>1.0</td>\n",
       "      <td>NaN</td>\n",
       "      <td>196751.0</td>\n",
       "      <td>440101.0</td>\n",
       "      <td>2016.0</td>\n",
       "      <td>243350.0</td>\n",
       "      <td>5725.17</td>\n",
       "      <td>NaN</td>\n",
       "      <td>NaN</td>\n",
       "      <td>NaN</td>\n",
       "    </tr>\n",
       "  </tbody>\n",
       "</table>\n",
       "<p>5 rows × 58 columns</p>\n",
       "</div>"
      ],
      "text/plain": [
       "   parcelid  airconditioningtypeid  architecturalstyletypeid  basementsqft  \\\n",
       "0  10754147                    NaN                       NaN           NaN   \n",
       "1  10759547                    NaN                       NaN           NaN   \n",
       "2  10843547                    NaN                       NaN           NaN   \n",
       "3  10859147                    NaN                       NaN           NaN   \n",
       "4  10879947                    NaN                       NaN           NaN   \n",
       "\n",
       "   bathroomcnt  bedroomcnt  buildingclasstypeid  buildingqualitytypeid  \\\n",
       "0          0.0         0.0                  NaN                    NaN   \n",
       "1          0.0         0.0                  NaN                    NaN   \n",
       "2          0.0         0.0                  5.0                    NaN   \n",
       "3          0.0         0.0                  3.0                    6.0   \n",
       "4          0.0         0.0                  4.0                    NaN   \n",
       "\n",
       "   calculatedbathnbr  decktypeid         ...           numberofstories  \\\n",
       "0                NaN         NaN         ...                       NaN   \n",
       "1                NaN         NaN         ...                       NaN   \n",
       "2                NaN         NaN         ...                       1.0   \n",
       "3                NaN         NaN         ...                       1.0   \n",
       "4                NaN         NaN         ...                       1.0   \n",
       "\n",
       "   fireplaceflag  structuretaxvaluedollarcnt  taxvaluedollarcnt  \\\n",
       "0            NaN                         NaN                9.0   \n",
       "1            NaN                         NaN            27516.0   \n",
       "2            NaN                    660680.0          1434941.0   \n",
       "3            NaN                    580059.0          1174475.0   \n",
       "4            NaN                    196751.0           440101.0   \n",
       "\n",
       "   assessmentyear  landtaxvaluedollarcnt  taxamount  taxdelinquencyflag  \\\n",
       "0          2016.0                    9.0        NaN                 NaN   \n",
       "1          2015.0                27516.0        NaN                 NaN   \n",
       "2          2016.0               774261.0   20800.37                 NaN   \n",
       "3          2016.0               594416.0   14557.57                 NaN   \n",
       "4          2016.0               243350.0    5725.17                 NaN   \n",
       "\n",
       "   taxdelinquencyyear  censustractandblock  \n",
       "0                 NaN                  NaN  \n",
       "1                 NaN                  NaN  \n",
       "2                 NaN                  NaN  \n",
       "3                 NaN                  NaN  \n",
       "4                 NaN                  NaN  \n",
       "\n",
       "[5 rows x 58 columns]"
      ]
     },
     "execution_count": 11,
     "metadata": {},
     "output_type": "execute_result"
    }
   ],
   "source": [
    "prop_2017.head()"
   ]
  },
  {
   "cell_type": "code",
   "execution_count": 12,
   "metadata": {},
   "outputs": [
    {
     "data": {
      "text/plain": [
       "(2985217, 2985217)"
      ]
     },
     "execution_count": 12,
     "metadata": {},
     "output_type": "execute_result"
    }
   ],
   "source": [
    "len(prop_2016), len(prop_2017)"
   ]
  },
  {
   "cell_type": "markdown",
   "metadata": {},
   "source": [
    "## Join with target variable"
   ]
  },
  {
   "cell_type": "code",
   "execution_count": 13,
   "metadata": {
    "collapsed": true
   },
   "outputs": [],
   "source": [
    "target_2016 = pd.read_csv('data/train_2016_v2.csv')"
   ]
  },
  {
   "cell_type": "code",
   "execution_count": 14,
   "metadata": {
    "collapsed": true
   },
   "outputs": [],
   "source": [
    "target_2017 = pd.read_csv('data/train_2017.csv')"
   ]
  },
  {
   "cell_type": "code",
   "execution_count": 15,
   "metadata": {},
   "outputs": [
    {
     "data": {
      "text/html": [
       "<div>\n",
       "<style>\n",
       "    .dataframe thead tr:only-child th {\n",
       "        text-align: right;\n",
       "    }\n",
       "\n",
       "    .dataframe thead th {\n",
       "        text-align: left;\n",
       "    }\n",
       "\n",
       "    .dataframe tbody tr th {\n",
       "        vertical-align: top;\n",
       "    }\n",
       "</style>\n",
       "<table border=\"1\" class=\"dataframe\">\n",
       "  <thead>\n",
       "    <tr style=\"text-align: right;\">\n",
       "      <th></th>\n",
       "      <th>parcelid</th>\n",
       "      <th>logerror</th>\n",
       "      <th>transactiondate</th>\n",
       "    </tr>\n",
       "  </thead>\n",
       "  <tbody>\n",
       "    <tr>\n",
       "      <th>0</th>\n",
       "      <td>14297519</td>\n",
       "      <td>0.025595</td>\n",
       "      <td>2017-01-01</td>\n",
       "    </tr>\n",
       "    <tr>\n",
       "      <th>1</th>\n",
       "      <td>17052889</td>\n",
       "      <td>0.055619</td>\n",
       "      <td>2017-01-01</td>\n",
       "    </tr>\n",
       "    <tr>\n",
       "      <th>2</th>\n",
       "      <td>14186244</td>\n",
       "      <td>0.005383</td>\n",
       "      <td>2017-01-01</td>\n",
       "    </tr>\n",
       "    <tr>\n",
       "      <th>3</th>\n",
       "      <td>12177905</td>\n",
       "      <td>-0.103410</td>\n",
       "      <td>2017-01-01</td>\n",
       "    </tr>\n",
       "    <tr>\n",
       "      <th>4</th>\n",
       "      <td>10887214</td>\n",
       "      <td>0.006940</td>\n",
       "      <td>2017-01-01</td>\n",
       "    </tr>\n",
       "  </tbody>\n",
       "</table>\n",
       "</div>"
      ],
      "text/plain": [
       "   parcelid  logerror transactiondate\n",
       "0  14297519  0.025595      2017-01-01\n",
       "1  17052889  0.055619      2017-01-01\n",
       "2  14186244  0.005383      2017-01-01\n",
       "3  12177905 -0.103410      2017-01-01\n",
       "4  10887214  0.006940      2017-01-01"
      ]
     },
     "execution_count": 15,
     "metadata": {},
     "output_type": "execute_result"
    }
   ],
   "source": [
    "target_2017.head()"
   ]
  },
  {
   "cell_type": "code",
   "execution_count": 16,
   "metadata": {
    "collapsed": true
   },
   "outputs": [],
   "source": [
    "joined_data_2016 = pd.merge(target_2016,prop_2016,on=\"parcelid\",how=\"left\")"
   ]
  },
  {
   "cell_type": "code",
   "execution_count": 17,
   "metadata": {
    "collapsed": true
   },
   "outputs": [],
   "source": [
    "joined_data_2017 = pd.merge(target_2017, prop_2017,on='parcelid',how='left')"
   ]
  },
  {
   "cell_type": "code",
   "execution_count": 18,
   "metadata": {},
   "outputs": [
    {
     "data": {
      "text/html": [
       "<div>\n",
       "<style>\n",
       "    .dataframe thead tr:only-child th {\n",
       "        text-align: right;\n",
       "    }\n",
       "\n",
       "    .dataframe thead th {\n",
       "        text-align: left;\n",
       "    }\n",
       "\n",
       "    .dataframe tbody tr th {\n",
       "        vertical-align: top;\n",
       "    }\n",
       "</style>\n",
       "<table border=\"1\" class=\"dataframe\">\n",
       "  <thead>\n",
       "    <tr style=\"text-align: right;\">\n",
       "      <th></th>\n",
       "      <th>parcelid</th>\n",
       "      <th>logerror</th>\n",
       "      <th>transactiondate</th>\n",
       "      <th>airconditioningtypeid</th>\n",
       "      <th>architecturalstyletypeid</th>\n",
       "      <th>basementsqft</th>\n",
       "      <th>bathroomcnt</th>\n",
       "      <th>bedroomcnt</th>\n",
       "      <th>buildingclasstypeid</th>\n",
       "      <th>buildingqualitytypeid</th>\n",
       "      <th>...</th>\n",
       "      <th>numberofstories</th>\n",
       "      <th>fireplaceflag</th>\n",
       "      <th>structuretaxvaluedollarcnt</th>\n",
       "      <th>taxvaluedollarcnt</th>\n",
       "      <th>assessmentyear</th>\n",
       "      <th>landtaxvaluedollarcnt</th>\n",
       "      <th>taxamount</th>\n",
       "      <th>taxdelinquencyflag</th>\n",
       "      <th>taxdelinquencyyear</th>\n",
       "      <th>censustractandblock</th>\n",
       "    </tr>\n",
       "  </thead>\n",
       "  <tbody>\n",
       "    <tr>\n",
       "      <th>0</th>\n",
       "      <td>14297519</td>\n",
       "      <td>0.025595</td>\n",
       "      <td>2017-01-01</td>\n",
       "      <td>NaN</td>\n",
       "      <td>NaN</td>\n",
       "      <td>NaN</td>\n",
       "      <td>3.5</td>\n",
       "      <td>4.0</td>\n",
       "      <td>NaN</td>\n",
       "      <td>NaN</td>\n",
       "      <td>...</td>\n",
       "      <td>NaN</td>\n",
       "      <td>NaN</td>\n",
       "      <td>485713.0</td>\n",
       "      <td>1023282.0</td>\n",
       "      <td>2016.0</td>\n",
       "      <td>537569.0</td>\n",
       "      <td>11013.72</td>\n",
       "      <td>NaN</td>\n",
       "      <td>NaN</td>\n",
       "      <td>6.059063e+13</td>\n",
       "    </tr>\n",
       "    <tr>\n",
       "      <th>1</th>\n",
       "      <td>17052889</td>\n",
       "      <td>0.055619</td>\n",
       "      <td>2017-01-01</td>\n",
       "      <td>NaN</td>\n",
       "      <td>NaN</td>\n",
       "      <td>NaN</td>\n",
       "      <td>1.0</td>\n",
       "      <td>2.0</td>\n",
       "      <td>NaN</td>\n",
       "      <td>NaN</td>\n",
       "      <td>...</td>\n",
       "      <td>1.0</td>\n",
       "      <td>NaN</td>\n",
       "      <td>88000.0</td>\n",
       "      <td>464000.0</td>\n",
       "      <td>2016.0</td>\n",
       "      <td>376000.0</td>\n",
       "      <td>5672.48</td>\n",
       "      <td>NaN</td>\n",
       "      <td>NaN</td>\n",
       "      <td>6.111001e+13</td>\n",
       "    </tr>\n",
       "    <tr>\n",
       "      <th>2</th>\n",
       "      <td>14186244</td>\n",
       "      <td>0.005383</td>\n",
       "      <td>2017-01-01</td>\n",
       "      <td>NaN</td>\n",
       "      <td>NaN</td>\n",
       "      <td>NaN</td>\n",
       "      <td>2.0</td>\n",
       "      <td>3.0</td>\n",
       "      <td>NaN</td>\n",
       "      <td>NaN</td>\n",
       "      <td>...</td>\n",
       "      <td>1.0</td>\n",
       "      <td>NaN</td>\n",
       "      <td>85289.0</td>\n",
       "      <td>564778.0</td>\n",
       "      <td>2016.0</td>\n",
       "      <td>479489.0</td>\n",
       "      <td>6488.30</td>\n",
       "      <td>NaN</td>\n",
       "      <td>NaN</td>\n",
       "      <td>6.059022e+13</td>\n",
       "    </tr>\n",
       "    <tr>\n",
       "      <th>3</th>\n",
       "      <td>12177905</td>\n",
       "      <td>-0.103410</td>\n",
       "      <td>2017-01-01</td>\n",
       "      <td>NaN</td>\n",
       "      <td>NaN</td>\n",
       "      <td>NaN</td>\n",
       "      <td>3.0</td>\n",
       "      <td>4.0</td>\n",
       "      <td>NaN</td>\n",
       "      <td>8.0</td>\n",
       "      <td>...</td>\n",
       "      <td>NaN</td>\n",
       "      <td>NaN</td>\n",
       "      <td>108918.0</td>\n",
       "      <td>145143.0</td>\n",
       "      <td>2016.0</td>\n",
       "      <td>36225.0</td>\n",
       "      <td>1777.51</td>\n",
       "      <td>NaN</td>\n",
       "      <td>NaN</td>\n",
       "      <td>6.037300e+13</td>\n",
       "    </tr>\n",
       "    <tr>\n",
       "      <th>4</th>\n",
       "      <td>10887214</td>\n",
       "      <td>0.006940</td>\n",
       "      <td>2017-01-01</td>\n",
       "      <td>1.0</td>\n",
       "      <td>NaN</td>\n",
       "      <td>NaN</td>\n",
       "      <td>3.0</td>\n",
       "      <td>3.0</td>\n",
       "      <td>NaN</td>\n",
       "      <td>8.0</td>\n",
       "      <td>...</td>\n",
       "      <td>NaN</td>\n",
       "      <td>NaN</td>\n",
       "      <td>73681.0</td>\n",
       "      <td>119407.0</td>\n",
       "      <td>2016.0</td>\n",
       "      <td>45726.0</td>\n",
       "      <td>1533.89</td>\n",
       "      <td>NaN</td>\n",
       "      <td>NaN</td>\n",
       "      <td>6.037124e+13</td>\n",
       "    </tr>\n",
       "  </tbody>\n",
       "</table>\n",
       "<p>5 rows × 60 columns</p>\n",
       "</div>"
      ],
      "text/plain": [
       "   parcelid  logerror transactiondate  airconditioningtypeid  \\\n",
       "0  14297519  0.025595      2017-01-01                    NaN   \n",
       "1  17052889  0.055619      2017-01-01                    NaN   \n",
       "2  14186244  0.005383      2017-01-01                    NaN   \n",
       "3  12177905 -0.103410      2017-01-01                    NaN   \n",
       "4  10887214  0.006940      2017-01-01                    1.0   \n",
       "\n",
       "   architecturalstyletypeid  basementsqft  bathroomcnt  bedroomcnt  \\\n",
       "0                       NaN           NaN          3.5         4.0   \n",
       "1                       NaN           NaN          1.0         2.0   \n",
       "2                       NaN           NaN          2.0         3.0   \n",
       "3                       NaN           NaN          3.0         4.0   \n",
       "4                       NaN           NaN          3.0         3.0   \n",
       "\n",
       "   buildingclasstypeid  buildingqualitytypeid         ...           \\\n",
       "0                  NaN                    NaN         ...            \n",
       "1                  NaN                    NaN         ...            \n",
       "2                  NaN                    NaN         ...            \n",
       "3                  NaN                    8.0         ...            \n",
       "4                  NaN                    8.0         ...            \n",
       "\n",
       "   numberofstories  fireplaceflag  structuretaxvaluedollarcnt  \\\n",
       "0              NaN            NaN                    485713.0   \n",
       "1              1.0            NaN                     88000.0   \n",
       "2              1.0            NaN                     85289.0   \n",
       "3              NaN            NaN                    108918.0   \n",
       "4              NaN            NaN                     73681.0   \n",
       "\n",
       "   taxvaluedollarcnt  assessmentyear  landtaxvaluedollarcnt  taxamount  \\\n",
       "0          1023282.0          2016.0               537569.0   11013.72   \n",
       "1           464000.0          2016.0               376000.0    5672.48   \n",
       "2           564778.0          2016.0               479489.0    6488.30   \n",
       "3           145143.0          2016.0                36225.0    1777.51   \n",
       "4           119407.0          2016.0                45726.0    1533.89   \n",
       "\n",
       "   taxdelinquencyflag  taxdelinquencyyear  censustractandblock  \n",
       "0                 NaN                 NaN         6.059063e+13  \n",
       "1                 NaN                 NaN         6.111001e+13  \n",
       "2                 NaN                 NaN         6.059022e+13  \n",
       "3                 NaN                 NaN         6.037300e+13  \n",
       "4                 NaN                 NaN         6.037124e+13  \n",
       "\n",
       "[5 rows x 60 columns]"
      ]
     },
     "execution_count": 18,
     "metadata": {},
     "output_type": "execute_result"
    }
   ],
   "source": [
    "joined_data_2017.head()"
   ]
  },
  {
   "cell_type": "markdown",
   "metadata": {},
   "source": [
    "## Save memory"
   ]
  },
  {
   "cell_type": "code",
   "execution_count": 20,
   "metadata": {},
   "outputs": [],
   "source": [
    "for df in [joined_data_2016,joined_data_2017]:\n",
    "    for c, dtype in zip(df.columns, df.dtypes):\n",
    "        if dtype == np.float64:\n",
    "            df[c] = df[c].astype(np.float32)"
   ]
  },
  {
   "cell_type": "code",
   "execution_count": 25,
   "metadata": {},
   "outputs": [
    {
     "data": {
      "text/plain": [
       "260"
      ]
     },
     "execution_count": 25,
     "metadata": {},
     "output_type": "execute_result"
    }
   ],
   "source": [
    "\n",
    "del target_2016\n",
    "del target_2017\n",
    "del prop_2016\n",
    "del prop_2017\n",
    "\n",
    "gc.collect()"
   ]
  },
  {
   "cell_type": "code",
   "execution_count": 26,
   "metadata": {},
   "outputs": [
    {
     "data": {
      "text/plain": [
       "(77613, 90275)"
      ]
     },
     "execution_count": 26,
     "metadata": {},
     "output_type": "execute_result"
    }
   ],
   "source": [
    "len(joined_data_2017), len(joined_data_2016)"
   ]
  },
  {
   "cell_type": "code",
   "execution_count": 27,
   "metadata": {
    "collapsed": true
   },
   "outputs": [],
   "source": [
    "joined_data_2016.transactiondate = pd.to_datetime(joined_data_2016.transactiondate,format=\"%Y-%m-%d\")"
   ]
  },
  {
   "cell_type": "code",
   "execution_count": 28,
   "metadata": {
    "collapsed": true
   },
   "outputs": [],
   "source": [
    "joined_data_2017.transactiondate = pd.to_datetime(joined_data_2017.transactiondate,format=\"%Y-%m-%d\")"
   ]
  },
  {
   "cell_type": "markdown",
   "metadata": {},
   "source": [
    "## Columns to drop"
   ]
  },
  {
   "cell_type": "code",
   "execution_count": 29,
   "metadata": {
    "collapsed": true
   },
   "outputs": [],
   "source": [
    "drop_nulls_cols=['garagetotalsqft',\t\n",
    "'garagecarcnt',\t\n",
    "'numberofstories',\t\n",
    "'poolcnt',\t\n",
    "'threequarterbathnbr',\t\n",
    "'fireplacecnt',\t\n",
    "'finishedfloor1squarefeet',\n",
    "'finishedsquarefeet50',\n",
    "'finishedsquarefeet15',\n",
    "'finishedsquarefeet12',              \n",
    "'yardbuildingsqft17',\t\n",
    "'poolsizesum',\t\n",
    "'finishedsquarefeet6',\t\n",
    "'yardbuildingsqft26',\t\n",
    "'basementsqft',\t\n",
    "'finishedsquarefeet13',\n",
    "'assessmentyear',\n",
    "'calculatedbathnbr',\n",
    "'parcelid',\n",
    "]\t\n",
    "joined_data_2016 = joined_data_2016.drop(drop_nulls_cols,axis=1)\n",
    "joined_data_2017 = joined_data_2017.drop(drop_nulls_cols,axis=1)"
   ]
  },
  {
   "cell_type": "code",
   "execution_count": 30,
   "metadata": {
    "collapsed": true
   },
   "outputs": [],
   "source": [
    "joined_data = pd.concat([joined_data_2016,joined_data_2017])"
   ]
  },
  {
   "cell_type": "code",
   "execution_count": 31,
   "metadata": {},
   "outputs": [
    {
     "data": {
      "text/plain": [
       "167888"
      ]
     },
     "execution_count": 31,
     "metadata": {},
     "output_type": "execute_result"
    }
   ],
   "source": [
    "len(joined_data)"
   ]
  },
  {
   "cell_type": "markdown",
   "metadata": {},
   "source": [
    "### Did things change?"
   ]
  },
  {
   "cell_type": "code",
   "execution_count": 32,
   "metadata": {
    "collapsed": true
   },
   "outputs": [],
   "source": [
    "joined_data=joined_data.drop_duplicates()"
   ]
  },
  {
   "cell_type": "code",
   "execution_count": 33,
   "metadata": {},
   "outputs": [
    {
     "data": {
      "text/plain": [
       "167884"
      ]
     },
     "execution_count": 33,
     "metadata": {},
     "output_type": "execute_result"
    }
   ],
   "source": [
    "len(joined_data)"
   ]
  },
  {
   "cell_type": "code",
   "execution_count": 34,
   "metadata": {
    "collapsed": true
   },
   "outputs": [],
   "source": [
    "joined_data['transaction_mth'] = joined_data.transactiondate.apply(lambda x:x.month)"
   ]
  },
  {
   "cell_type": "code",
   "execution_count": 35,
   "metadata": {
    "collapsed": true
   },
   "outputs": [],
   "source": [
    "joined_data['transaction_yr'] = joined_data.transactiondate.apply(lambda x: x.year)"
   ]
  },
  {
   "cell_type": "code",
   "execution_count": 36,
   "metadata": {
    "collapsed": true
   },
   "outputs": [],
   "source": [
    "joined_data['transaction_day_of_wk'] = joined_data.transactiondate.apply(lambda x: x.dayofweek)"
   ]
  },
  {
   "cell_type": "code",
   "execution_count": 37,
   "metadata": {
    "collapsed": true
   },
   "outputs": [],
   "source": [
    "joined_data=joined_data.drop('transactiondate',axis=1)"
   ]
  },
  {
   "cell_type": "code",
   "execution_count": 38,
   "metadata": {},
   "outputs": [
    {
     "data": {
      "text/html": [
       "<div>\n",
       "<style>\n",
       "    .dataframe thead tr:only-child th {\n",
       "        text-align: right;\n",
       "    }\n",
       "\n",
       "    .dataframe thead th {\n",
       "        text-align: left;\n",
       "    }\n",
       "\n",
       "    .dataframe tbody tr th {\n",
       "        vertical-align: top;\n",
       "    }\n",
       "</style>\n",
       "<table border=\"1\" class=\"dataframe\">\n",
       "  <thead>\n",
       "    <tr style=\"text-align: right;\">\n",
       "      <th></th>\n",
       "      <th>logerror</th>\n",
       "      <th>airconditioningtypeid</th>\n",
       "      <th>architecturalstyletypeid</th>\n",
       "      <th>bathroomcnt</th>\n",
       "      <th>bedroomcnt</th>\n",
       "      <th>buildingclasstypeid</th>\n",
       "      <th>buildingqualitytypeid</th>\n",
       "      <th>decktypeid</th>\n",
       "      <th>calculatedfinishedsquarefeet</th>\n",
       "      <th>fips</th>\n",
       "      <th>...</th>\n",
       "      <th>structuretaxvaluedollarcnt</th>\n",
       "      <th>taxvaluedollarcnt</th>\n",
       "      <th>landtaxvaluedollarcnt</th>\n",
       "      <th>taxamount</th>\n",
       "      <th>taxdelinquencyflag</th>\n",
       "      <th>taxdelinquencyyear</th>\n",
       "      <th>censustractandblock</th>\n",
       "      <th>transaction_mth</th>\n",
       "      <th>transaction_yr</th>\n",
       "      <th>transaction_day_of_wk</th>\n",
       "    </tr>\n",
       "  </thead>\n",
       "  <tbody>\n",
       "    <tr>\n",
       "      <th>0</th>\n",
       "      <td>0.0276</td>\n",
       "      <td>1.0</td>\n",
       "      <td>NaN</td>\n",
       "      <td>2.0</td>\n",
       "      <td>3.0</td>\n",
       "      <td>NaN</td>\n",
       "      <td>4.0</td>\n",
       "      <td>NaN</td>\n",
       "      <td>1684.0</td>\n",
       "      <td>6037.0</td>\n",
       "      <td>...</td>\n",
       "      <td>122754.0</td>\n",
       "      <td>360170.0</td>\n",
       "      <td>237416.0</td>\n",
       "      <td>6735.879883</td>\n",
       "      <td>NaN</td>\n",
       "      <td>NaN</td>\n",
       "      <td>6.037107e+13</td>\n",
       "      <td>1</td>\n",
       "      <td>2016</td>\n",
       "      <td>4</td>\n",
       "    </tr>\n",
       "    <tr>\n",
       "      <th>1</th>\n",
       "      <td>-0.1684</td>\n",
       "      <td>NaN</td>\n",
       "      <td>NaN</td>\n",
       "      <td>3.5</td>\n",
       "      <td>4.0</td>\n",
       "      <td>NaN</td>\n",
       "      <td>NaN</td>\n",
       "      <td>NaN</td>\n",
       "      <td>2263.0</td>\n",
       "      <td>6059.0</td>\n",
       "      <td>...</td>\n",
       "      <td>346458.0</td>\n",
       "      <td>585529.0</td>\n",
       "      <td>239071.0</td>\n",
       "      <td>10153.019531</td>\n",
       "      <td>NaN</td>\n",
       "      <td>NaN</td>\n",
       "      <td>NaN</td>\n",
       "      <td>1</td>\n",
       "      <td>2016</td>\n",
       "      <td>4</td>\n",
       "    </tr>\n",
       "    <tr>\n",
       "      <th>2</th>\n",
       "      <td>-0.0040</td>\n",
       "      <td>1.0</td>\n",
       "      <td>NaN</td>\n",
       "      <td>3.0</td>\n",
       "      <td>2.0</td>\n",
       "      <td>NaN</td>\n",
       "      <td>4.0</td>\n",
       "      <td>NaN</td>\n",
       "      <td>2217.0</td>\n",
       "      <td>6037.0</td>\n",
       "      <td>...</td>\n",
       "      <td>61994.0</td>\n",
       "      <td>119906.0</td>\n",
       "      <td>57912.0</td>\n",
       "      <td>11484.480469</td>\n",
       "      <td>NaN</td>\n",
       "      <td>NaN</td>\n",
       "      <td>6.037464e+13</td>\n",
       "      <td>1</td>\n",
       "      <td>2016</td>\n",
       "      <td>4</td>\n",
       "    </tr>\n",
       "    <tr>\n",
       "      <th>3</th>\n",
       "      <td>0.0218</td>\n",
       "      <td>1.0</td>\n",
       "      <td>NaN</td>\n",
       "      <td>2.0</td>\n",
       "      <td>2.0</td>\n",
       "      <td>NaN</td>\n",
       "      <td>4.0</td>\n",
       "      <td>NaN</td>\n",
       "      <td>839.0</td>\n",
       "      <td>6037.0</td>\n",
       "      <td>...</td>\n",
       "      <td>171518.0</td>\n",
       "      <td>244880.0</td>\n",
       "      <td>73362.0</td>\n",
       "      <td>3048.739990</td>\n",
       "      <td>NaN</td>\n",
       "      <td>NaN</td>\n",
       "      <td>6.037296e+13</td>\n",
       "      <td>1</td>\n",
       "      <td>2016</td>\n",
       "      <td>5</td>\n",
       "    </tr>\n",
       "    <tr>\n",
       "      <th>4</th>\n",
       "      <td>-0.0050</td>\n",
       "      <td>NaN</td>\n",
       "      <td>NaN</td>\n",
       "      <td>2.5</td>\n",
       "      <td>4.0</td>\n",
       "      <td>NaN</td>\n",
       "      <td>NaN</td>\n",
       "      <td>NaN</td>\n",
       "      <td>2283.0</td>\n",
       "      <td>6059.0</td>\n",
       "      <td>...</td>\n",
       "      <td>169574.0</td>\n",
       "      <td>434551.0</td>\n",
       "      <td>264977.0</td>\n",
       "      <td>5488.959961</td>\n",
       "      <td>NaN</td>\n",
       "      <td>NaN</td>\n",
       "      <td>6.059042e+13</td>\n",
       "      <td>1</td>\n",
       "      <td>2016</td>\n",
       "      <td>5</td>\n",
       "    </tr>\n",
       "  </tbody>\n",
       "</table>\n",
       "<p>5 rows × 43 columns</p>\n",
       "</div>"
      ],
      "text/plain": [
       "   logerror  airconditioningtypeid  architecturalstyletypeid  bathroomcnt  \\\n",
       "0    0.0276                    1.0                       NaN          2.0   \n",
       "1   -0.1684                    NaN                       NaN          3.5   \n",
       "2   -0.0040                    1.0                       NaN          3.0   \n",
       "3    0.0218                    1.0                       NaN          2.0   \n",
       "4   -0.0050                    NaN                       NaN          2.5   \n",
       "\n",
       "   bedroomcnt  buildingclasstypeid  buildingqualitytypeid  decktypeid  \\\n",
       "0         3.0                  NaN                    4.0         NaN   \n",
       "1         4.0                  NaN                    NaN         NaN   \n",
       "2         2.0                  NaN                    4.0         NaN   \n",
       "3         2.0                  NaN                    4.0         NaN   \n",
       "4         4.0                  NaN                    NaN         NaN   \n",
       "\n",
       "   calculatedfinishedsquarefeet    fips          ...           \\\n",
       "0                        1684.0  6037.0          ...            \n",
       "1                        2263.0  6059.0          ...            \n",
       "2                        2217.0  6037.0          ...            \n",
       "3                         839.0  6037.0          ...            \n",
       "4                        2283.0  6059.0          ...            \n",
       "\n",
       "   structuretaxvaluedollarcnt taxvaluedollarcnt  landtaxvaluedollarcnt  \\\n",
       "0                    122754.0          360170.0               237416.0   \n",
       "1                    346458.0          585529.0               239071.0   \n",
       "2                     61994.0          119906.0                57912.0   \n",
       "3                    171518.0          244880.0                73362.0   \n",
       "4                    169574.0          434551.0               264977.0   \n",
       "\n",
       "      taxamount  taxdelinquencyflag  taxdelinquencyyear  censustractandblock  \\\n",
       "0   6735.879883                 NaN                 NaN         6.037107e+13   \n",
       "1  10153.019531                 NaN                 NaN                  NaN   \n",
       "2  11484.480469                 NaN                 NaN         6.037464e+13   \n",
       "3   3048.739990                 NaN                 NaN         6.037296e+13   \n",
       "4   5488.959961                 NaN                 NaN         6.059042e+13   \n",
       "\n",
       "   transaction_mth  transaction_yr transaction_day_of_wk  \n",
       "0                1            2016                     4  \n",
       "1                1            2016                     4  \n",
       "2                1            2016                     4  \n",
       "3                1            2016                     5  \n",
       "4                1            2016                     5  \n",
       "\n",
       "[5 rows x 43 columns]"
      ]
     },
     "execution_count": 38,
     "metadata": {},
     "output_type": "execute_result"
    }
   ],
   "source": [
    "joined_data.head()"
   ]
  },
  {
   "cell_type": "code",
   "execution_count": 39,
   "metadata": {
    "collapsed": true
   },
   "outputs": [],
   "source": [
    "from sklearn.model_selection import train_test_split"
   ]
  },
  {
   "cell_type": "code",
   "execution_count": 350,
   "metadata": {
    "collapsed": true
   },
   "outputs": [],
   "source": [
    "train, test = train_test_split(joined_data, test_size=0.2,random_state=4)"
   ]
  },
  {
   "cell_type": "code",
   "execution_count": 56,
   "metadata": {},
   "outputs": [
    {
     "data": {
      "text/plain": [
       "(134307, 33577)"
      ]
     },
     "execution_count": 56,
     "metadata": {},
     "output_type": "execute_result"
    }
   ],
   "source": [
    "len(train),len(test)"
   ]
  },
  {
   "cell_type": "code",
   "execution_count": 57,
   "metadata": {},
   "outputs": [
    {
     "data": {
      "text/html": [
       "<div>\n",
       "<style>\n",
       "    .dataframe thead tr:only-child th {\n",
       "        text-align: right;\n",
       "    }\n",
       "\n",
       "    .dataframe thead th {\n",
       "        text-align: left;\n",
       "    }\n",
       "\n",
       "    .dataframe tbody tr th {\n",
       "        vertical-align: top;\n",
       "    }\n",
       "</style>\n",
       "<table border=\"1\" class=\"dataframe\">\n",
       "  <thead>\n",
       "    <tr style=\"text-align: right;\">\n",
       "      <th></th>\n",
       "      <th>logerror</th>\n",
       "      <th>airconditioningtypeid</th>\n",
       "      <th>architecturalstyletypeid</th>\n",
       "      <th>bathroomcnt</th>\n",
       "      <th>bedroomcnt</th>\n",
       "      <th>buildingclasstypeid</th>\n",
       "      <th>buildingqualitytypeid</th>\n",
       "      <th>decktypeid</th>\n",
       "      <th>calculatedfinishedsquarefeet</th>\n",
       "      <th>fips</th>\n",
       "      <th>...</th>\n",
       "      <th>structuretaxvaluedollarcnt</th>\n",
       "      <th>taxvaluedollarcnt</th>\n",
       "      <th>landtaxvaluedollarcnt</th>\n",
       "      <th>taxamount</th>\n",
       "      <th>taxdelinquencyflag</th>\n",
       "      <th>taxdelinquencyyear</th>\n",
       "      <th>censustractandblock</th>\n",
       "      <th>transaction_mth</th>\n",
       "      <th>transaction_yr</th>\n",
       "      <th>transaction_day_of_wk</th>\n",
       "    </tr>\n",
       "  </thead>\n",
       "  <tbody>\n",
       "    <tr>\n",
       "      <th>11695</th>\n",
       "      <td>0.025700</td>\n",
       "      <td>NaN</td>\n",
       "      <td>NaN</td>\n",
       "      <td>2.5</td>\n",
       "      <td>3.0</td>\n",
       "      <td>NaN</td>\n",
       "      <td>NaN</td>\n",
       "      <td>NaN</td>\n",
       "      <td>1470.0</td>\n",
       "      <td>6059.0</td>\n",
       "      <td>...</td>\n",
       "      <td>178209.0</td>\n",
       "      <td>512265.0</td>\n",
       "      <td>334056.0</td>\n",
       "      <td>7332.600098</td>\n",
       "      <td>NaN</td>\n",
       "      <td>NaN</td>\n",
       "      <td>6.059032e+13</td>\n",
       "      <td>2</td>\n",
       "      <td>2016</td>\n",
       "      <td>3</td>\n",
       "    </tr>\n",
       "    <tr>\n",
       "      <th>90140</th>\n",
       "      <td>-0.054500</td>\n",
       "      <td>1.0</td>\n",
       "      <td>NaN</td>\n",
       "      <td>2.0</td>\n",
       "      <td>3.0</td>\n",
       "      <td>NaN</td>\n",
       "      <td>4.0</td>\n",
       "      <td>NaN</td>\n",
       "      <td>1096.0</td>\n",
       "      <td>6037.0</td>\n",
       "      <td>...</td>\n",
       "      <td>110000.0</td>\n",
       "      <td>485000.0</td>\n",
       "      <td>375000.0</td>\n",
       "      <td>5756.660156</td>\n",
       "      <td>NaN</td>\n",
       "      <td>NaN</td>\n",
       "      <td>6.037703e+13</td>\n",
       "      <td>12</td>\n",
       "      <td>2016</td>\n",
       "      <td>3</td>\n",
       "    </tr>\n",
       "    <tr>\n",
       "      <th>31009</th>\n",
       "      <td>0.061324</td>\n",
       "      <td>NaN</td>\n",
       "      <td>NaN</td>\n",
       "      <td>1.0</td>\n",
       "      <td>4.0</td>\n",
       "      <td>NaN</td>\n",
       "      <td>4.0</td>\n",
       "      <td>NaN</td>\n",
       "      <td>1184.0</td>\n",
       "      <td>6037.0</td>\n",
       "      <td>...</td>\n",
       "      <td>108330.0</td>\n",
       "      <td>299238.0</td>\n",
       "      <td>190908.0</td>\n",
       "      <td>4348.799805</td>\n",
       "      <td>NaN</td>\n",
       "      <td>NaN</td>\n",
       "      <td>6.037540e+13</td>\n",
       "      <td>4</td>\n",
       "      <td>2017</td>\n",
       "      <td>4</td>\n",
       "    </tr>\n",
       "    <tr>\n",
       "      <th>13347</th>\n",
       "      <td>-0.034105</td>\n",
       "      <td>NaN</td>\n",
       "      <td>NaN</td>\n",
       "      <td>3.0</td>\n",
       "      <td>4.0</td>\n",
       "      <td>NaN</td>\n",
       "      <td>8.0</td>\n",
       "      <td>NaN</td>\n",
       "      <td>2155.0</td>\n",
       "      <td>6037.0</td>\n",
       "      <td>...</td>\n",
       "      <td>209293.0</td>\n",
       "      <td>302897.0</td>\n",
       "      <td>93604.0</td>\n",
       "      <td>4218.200195</td>\n",
       "      <td>NaN</td>\n",
       "      <td>NaN</td>\n",
       "      <td>6.037543e+13</td>\n",
       "      <td>2</td>\n",
       "      <td>2017</td>\n",
       "      <td>1</td>\n",
       "    </tr>\n",
       "    <tr>\n",
       "      <th>73221</th>\n",
       "      <td>-0.009000</td>\n",
       "      <td>NaN</td>\n",
       "      <td>NaN</td>\n",
       "      <td>1.0</td>\n",
       "      <td>2.0</td>\n",
       "      <td>NaN</td>\n",
       "      <td>7.0</td>\n",
       "      <td>NaN</td>\n",
       "      <td>1171.0</td>\n",
       "      <td>6037.0</td>\n",
       "      <td>...</td>\n",
       "      <td>59324.0</td>\n",
       "      <td>296828.0</td>\n",
       "      <td>237504.0</td>\n",
       "      <td>4103.850098</td>\n",
       "      <td>NaN</td>\n",
       "      <td>NaN</td>\n",
       "      <td>6.037502e+13</td>\n",
       "      <td>9</td>\n",
       "      <td>2016</td>\n",
       "      <td>4</td>\n",
       "    </tr>\n",
       "  </tbody>\n",
       "</table>\n",
       "<p>5 rows × 43 columns</p>\n",
       "</div>"
      ],
      "text/plain": [
       "       logerror  airconditioningtypeid  architecturalstyletypeid  bathroomcnt  \\\n",
       "11695  0.025700                    NaN                       NaN          2.5   \n",
       "90140 -0.054500                    1.0                       NaN          2.0   \n",
       "31009  0.061324                    NaN                       NaN          1.0   \n",
       "13347 -0.034105                    NaN                       NaN          3.0   \n",
       "73221 -0.009000                    NaN                       NaN          1.0   \n",
       "\n",
       "       bedroomcnt  buildingclasstypeid  buildingqualitytypeid  decktypeid  \\\n",
       "11695         3.0                  NaN                    NaN         NaN   \n",
       "90140         3.0                  NaN                    4.0         NaN   \n",
       "31009         4.0                  NaN                    4.0         NaN   \n",
       "13347         4.0                  NaN                    8.0         NaN   \n",
       "73221         2.0                  NaN                    7.0         NaN   \n",
       "\n",
       "       calculatedfinishedsquarefeet    fips          ...           \\\n",
       "11695                        1470.0  6059.0          ...            \n",
       "90140                        1096.0  6037.0          ...            \n",
       "31009                        1184.0  6037.0          ...            \n",
       "13347                        2155.0  6037.0          ...            \n",
       "73221                        1171.0  6037.0          ...            \n",
       "\n",
       "       structuretaxvaluedollarcnt taxvaluedollarcnt  landtaxvaluedollarcnt  \\\n",
       "11695                    178209.0          512265.0               334056.0   \n",
       "90140                    110000.0          485000.0               375000.0   \n",
       "31009                    108330.0          299238.0               190908.0   \n",
       "13347                    209293.0          302897.0                93604.0   \n",
       "73221                     59324.0          296828.0               237504.0   \n",
       "\n",
       "         taxamount  taxdelinquencyflag  taxdelinquencyyear  \\\n",
       "11695  7332.600098                 NaN                 NaN   \n",
       "90140  5756.660156                 NaN                 NaN   \n",
       "31009  4348.799805                 NaN                 NaN   \n",
       "13347  4218.200195                 NaN                 NaN   \n",
       "73221  4103.850098                 NaN                 NaN   \n",
       "\n",
       "       censustractandblock  transaction_mth  transaction_yr  \\\n",
       "11695         6.059032e+13                2            2016   \n",
       "90140         6.037703e+13               12            2016   \n",
       "31009         6.037540e+13                4            2017   \n",
       "13347         6.037543e+13                2            2017   \n",
       "73221         6.037502e+13                9            2016   \n",
       "\n",
       "      transaction_day_of_wk  \n",
       "11695                     3  \n",
       "90140                     3  \n",
       "31009                     4  \n",
       "13347                     1  \n",
       "73221                     4  \n",
       "\n",
       "[5 rows x 43 columns]"
      ]
     },
     "execution_count": 57,
     "metadata": {},
     "output_type": "execute_result"
    }
   ],
   "source": [
    "train.head()"
   ]
  },
  {
   "cell_type": "markdown",
   "metadata": {},
   "source": [
    "## Numeric Columns"
   ]
  },
  {
   "cell_type": "code",
   "execution_count": 58,
   "metadata": {
    "collapsed": true
   },
   "outputs": [],
   "source": [
    "numeric_cols = ['logerror', 'basementsqft',\t'bathroomcnt',\t'bedroomcnt',\t'calculatedbathnbr', \n",
    "                'calculatedfinishedsquarefeet',\t'finishedfloor1squarefeet',\t'finishedsquarefeet12',\n",
    "                'finishedsquarefeet13',\t'finishedsquarefeet15',\t'finishedsquarefeet50',\t'finishedsquarefeet6',\n",
    "                'fireplacecnt',\t'fullbathcnt',\t'garagecarcnt',\t'garagetotalsqft',\t'landtaxvaluedollarcnt',\n",
    "                'lotsizesquarefeet',\t'numberofstories',\t'poolcnt',\t'poolsizesum',\t'roomcnt',\n",
    "                'structuretaxvaluedollarcnt',\t'taxamount',\t'taxvaluedollarcnt',\t'threequarterbathnbr',\n",
    "                'unitcnt',\t'yardbuildingsqft17',\t'yardbuildingsqft26','transaction_day_of_wk','transaction_mth','transaction_yr',\n",
    "               'taxdelinquencyyear','yearbuilt','latitude','longitude']\n",
    "\n",
    "num_cols = list(set(numeric_cols) - set(drop_nulls_cols))"
   ]
  },
  {
   "cell_type": "markdown",
   "metadata": {},
   "source": [
    "## Fill in NAs with median"
   ]
  },
  {
   "cell_type": "code",
   "execution_count": 59,
   "metadata": {
    "collapsed": true,
    "scrolled": false
   },
   "outputs": [],
   "source": [
    "for col in num_cols:\n",
    "    train[col] = train[col].fillna(train[col].median())"
   ]
  },
  {
   "cell_type": "code",
   "execution_count": 266,
   "metadata": {
    "collapsed": true
   },
   "outputs": [],
   "source": [
    "categorical_cols = list(set(train.columns) - set(numeric_cols))"
   ]
  },
  {
   "cell_type": "markdown",
   "metadata": {},
   "source": [
    "## Sample"
   ]
  },
  {
   "cell_type": "code",
   "execution_count": 351,
   "metadata": {
    "collapsed": true
   },
   "outputs": [],
   "source": [
    "train = train.sample(frac=0.1)"
   ]
  },
  {
   "cell_type": "markdown",
   "metadata": {},
   "source": [
    "## Feature importance on Numeric Columns"
   ]
  },
  {
   "cell_type": "code",
   "execution_count": 62,
   "metadata": {
    "collapsed": true
   },
   "outputs": [],
   "source": [
    "X_train = train[num_cols].drop('logerror', axis=1)"
   ]
  },
  {
   "cell_type": "code",
   "execution_count": 63,
   "metadata": {},
   "outputs": [
    {
     "data": {
      "text/plain": [
       "(13431, 43)"
      ]
     },
     "execution_count": 63,
     "metadata": {},
     "output_type": "execute_result"
    }
   ],
   "source": [
    "train.shape"
   ]
  },
  {
   "cell_type": "code",
   "execution_count": 64,
   "metadata": {
    "collapsed": true
   },
   "outputs": [],
   "source": [
    "Y_train = train['logerror']"
   ]
  },
  {
   "cell_type": "code",
   "execution_count": 65,
   "metadata": {
    "collapsed": true
   },
   "outputs": [],
   "source": [
    "from sklearn.ensemble import RandomForestRegressor"
   ]
  },
  {
   "cell_type": "code",
   "execution_count": 66,
   "metadata": {
    "collapsed": true
   },
   "outputs": [],
   "source": [
    "rf_feat = RandomForestRegressor(n_jobs=-1,criterion='mae', random_state=4)"
   ]
  },
  {
   "cell_type": "code",
   "execution_count": 67,
   "metadata": {
    "collapsed": true
   },
   "outputs": [],
   "source": [
    "import time"
   ]
  },
  {
   "cell_type": "code",
   "execution_count": 68,
   "metadata": {
    "collapsed": true
   },
   "outputs": [],
   "source": [
    "start = time.time()\n",
    "\n",
    "rf_feat.fit(X_train,Y_train)\n",
    "\n",
    "stop = time.time()\n"
   ]
  },
  {
   "cell_type": "code",
   "execution_count": 69,
   "metadata": {},
   "outputs": [
    {
     "name": "stdout",
     "output_type": "stream",
     "text": [
      "Elapsed_time: 143.27944993972778\n"
     ]
    }
   ],
   "source": [
    "print(\"Elapsed_time: {}\".format(stop - start))"
   ]
  },
  {
   "cell_type": "code",
   "execution_count": 46,
   "metadata": {
    "scrolled": true
   },
   "outputs": [
    {
     "name": "stdout",
     "output_type": "stream",
     "text": [
      "0.121184768123 calculatedfinishedsquarefeet\n",
      "0.11459088064 yearbuilt\n",
      "0.109009929748 latitude\n",
      "0.0869595053764 lotsizesquarefeet\n",
      "0.0776987705731 landtaxvaluedollarcnt\n",
      "0.077505588674 taxamount\n",
      "0.0772508093351 longitude\n",
      "0.0701180762111 structuretaxvaluedollarcnt\n",
      "0.0662174961851 taxvaluedollarcnt\n",
      "0.053085645884 transaction_mth\n",
      "0.0354851995409 bedroomcnt\n",
      "0.0331595336364 transaction_day_of_wk\n",
      "0.0248484607795 bathroomcnt\n",
      "0.0142210323165 fullbathcnt\n",
      "0.0137335767679 unitcnt\n",
      "0.0109381348019 roomcnt\n",
      "0.00938145300279 transaction_yr\n",
      "0.00461113840477 taxdelinquencyyear\n"
     ]
    }
   ],
   "source": [
    "# When we use 1,343 observations\n",
    "for numeric_feature, score in sorted(zip(rf_feat.feature_importances_,X_train.columns),reverse=True):\n",
    "    print(numeric_feature, score)"
   ]
  },
  {
   "cell_type": "code",
   "execution_count": 70,
   "metadata": {},
   "outputs": [
    {
     "name": "stdout",
     "output_type": "stream",
     "text": [
      "0.103069195882 latitude\n",
      "0.101764362358 calculatedfinishedsquarefeet\n",
      "0.0978833325955 structuretaxvaluedollarcnt\n",
      "0.0959586226035 lotsizesquarefeet\n",
      "0.092407523243 longitude\n",
      "0.0901779438988 yearbuilt\n",
      "0.0831082388268 landtaxvaluedollarcnt\n",
      "0.0809190633788 taxamount\n",
      "0.0678304121784 taxvaluedollarcnt\n",
      "0.046095367859 transaction_mth\n",
      "0.0329306992126 transaction_day_of_wk\n",
      "0.0316094558022 bedroomcnt\n",
      "0.018768026539 bathroomcnt\n",
      "0.015939751723 roomcnt\n",
      "0.0126145581201 fullbathcnt\n",
      "0.0106861516444 taxdelinquencyyear\n",
      "0.00911907811127 unitcnt\n",
      "0.00911821602406 transaction_yr\n"
     ]
    }
   ],
   "source": [
    "# When we use 13,431 observations\n",
    "for numeric_feature, score in sorted(zip(rf_feat.feature_importances_,X_train.columns),reverse=True):\n",
    "    print(numeric_feature, score)"
   ]
  },
  {
   "cell_type": "code",
   "execution_count": 50,
   "metadata": {},
   "outputs": [
    {
     "data": {
      "text/plain": [
       "134307"
      ]
     },
     "execution_count": 50,
     "metadata": {},
     "output_type": "execute_result"
    }
   ],
   "source": [
    "len(train)"
   ]
  },
  {
   "cell_type": "code",
   "execution_count": 52,
   "metadata": {
    "collapsed": true
   },
   "outputs": [],
   "source": [
    "train.to_csv('data/train.csv', index=False)"
   ]
  },
  {
   "cell_type": "code",
   "execution_count": 53,
   "metadata": {
    "collapsed": true
   },
   "outputs": [],
   "source": [
    "test.to_csv('data/test.csv', index=False)"
   ]
  },
  {
   "cell_type": "markdown",
   "metadata": {
    "collapsed": true
   },
   "source": [
    "## Categorical variables"
   ]
  },
  {
   "cell_type": "code",
   "execution_count": 267,
   "metadata": {},
   "outputs": [
    {
     "data": {
      "text/html": [
       "<div>\n",
       "<style>\n",
       "    .dataframe thead tr:only-child th {\n",
       "        text-align: right;\n",
       "    }\n",
       "\n",
       "    .dataframe thead th {\n",
       "        text-align: left;\n",
       "    }\n",
       "\n",
       "    .dataframe tbody tr th {\n",
       "        vertical-align: top;\n",
       "    }\n",
       "</style>\n",
       "<table border=\"1\" class=\"dataframe\">\n",
       "  <thead>\n",
       "    <tr style=\"text-align: right;\">\n",
       "      <th></th>\n",
       "      <th>regionidneighborhood</th>\n",
       "      <th>propertylandusetypeid</th>\n",
       "      <th>taxdelinquencyflag</th>\n",
       "      <th>heatingorsystemtypeid</th>\n",
       "      <th>buildingclasstypeid</th>\n",
       "      <th>censustractandblock</th>\n",
       "      <th>hashottuborspa</th>\n",
       "      <th>pooltypeid10</th>\n",
       "      <th>architecturalstyletypeid</th>\n",
       "      <th>propertyzoningdesc</th>\n",
       "      <th>...</th>\n",
       "      <th>decktypeid</th>\n",
       "      <th>rawcensustractandblock</th>\n",
       "      <th>regionidzip</th>\n",
       "      <th>airconditioningtypeid</th>\n",
       "      <th>pooltypeid2</th>\n",
       "      <th>regionidcounty</th>\n",
       "      <th>fips</th>\n",
       "      <th>propertycountylandusecode</th>\n",
       "      <th>fireplaceflag</th>\n",
       "      <th>storytypeid</th>\n",
       "    </tr>\n",
       "  </thead>\n",
       "  <tbody>\n",
       "    <tr>\n",
       "      <th>10260</th>\n",
       "      <td>NaN</td>\n",
       "      <td>261.0</td>\n",
       "      <td>NaN</td>\n",
       "      <td>NaN</td>\n",
       "      <td>NaN</td>\n",
       "      <td>6.111007e+13</td>\n",
       "      <td>NaN</td>\n",
       "      <td>NaN</td>\n",
       "      <td>NaN</td>\n",
       "      <td>NaN</td>\n",
       "      <td>...</td>\n",
       "      <td>NaN</td>\n",
       "      <td>61110076.0</td>\n",
       "      <td>96393.0</td>\n",
       "      <td>NaN</td>\n",
       "      <td>NaN</td>\n",
       "      <td>2061.0</td>\n",
       "      <td>6111.0</td>\n",
       "      <td>1111</td>\n",
       "      <td>NaN</td>\n",
       "      <td>NaN</td>\n",
       "    </tr>\n",
       "    <tr>\n",
       "      <th>84174</th>\n",
       "      <td>NaN</td>\n",
       "      <td>261.0</td>\n",
       "      <td>NaN</td>\n",
       "      <td>NaN</td>\n",
       "      <td>NaN</td>\n",
       "      <td>6.111005e+13</td>\n",
       "      <td>NaN</td>\n",
       "      <td>NaN</td>\n",
       "      <td>NaN</td>\n",
       "      <td>NaN</td>\n",
       "      <td>...</td>\n",
       "      <td>NaN</td>\n",
       "      <td>61110052.0</td>\n",
       "      <td>97089.0</td>\n",
       "      <td>NaN</td>\n",
       "      <td>NaN</td>\n",
       "      <td>2061.0</td>\n",
       "      <td>6111.0</td>\n",
       "      <td>1111</td>\n",
       "      <td>NaN</td>\n",
       "      <td>NaN</td>\n",
       "    </tr>\n",
       "    <tr>\n",
       "      <th>24459</th>\n",
       "      <td>272933.0</td>\n",
       "      <td>266.0</td>\n",
       "      <td>NaN</td>\n",
       "      <td>7.0</td>\n",
       "      <td>NaN</td>\n",
       "      <td>6.037577e+13</td>\n",
       "      <td>NaN</td>\n",
       "      <td>NaN</td>\n",
       "      <td>NaN</td>\n",
       "      <td>LBR34</td>\n",
       "      <td>...</td>\n",
       "      <td>NaN</td>\n",
       "      <td>60375772.0</td>\n",
       "      <td>96246.0</td>\n",
       "      <td>NaN</td>\n",
       "      <td>NaN</td>\n",
       "      <td>3101.0</td>\n",
       "      <td>6037.0</td>\n",
       "      <td>010E</td>\n",
       "      <td>NaN</td>\n",
       "      <td>NaN</td>\n",
       "    </tr>\n",
       "    <tr>\n",
       "      <th>67520</th>\n",
       "      <td>NaN</td>\n",
       "      <td>261.0</td>\n",
       "      <td>NaN</td>\n",
       "      <td>NaN</td>\n",
       "      <td>NaN</td>\n",
       "      <td>6.059088e+13</td>\n",
       "      <td>NaN</td>\n",
       "      <td>NaN</td>\n",
       "      <td>NaN</td>\n",
       "      <td>NaN</td>\n",
       "      <td>...</td>\n",
       "      <td>NaN</td>\n",
       "      <td>60590880.0</td>\n",
       "      <td>97048.0</td>\n",
       "      <td>NaN</td>\n",
       "      <td>NaN</td>\n",
       "      <td>1286.0</td>\n",
       "      <td>6059.0</td>\n",
       "      <td>122</td>\n",
       "      <td>NaN</td>\n",
       "      <td>NaN</td>\n",
       "    </tr>\n",
       "    <tr>\n",
       "      <th>52747</th>\n",
       "      <td>NaN</td>\n",
       "      <td>261.0</td>\n",
       "      <td>NaN</td>\n",
       "      <td>2.0</td>\n",
       "      <td>NaN</td>\n",
       "      <td>6.037901e+13</td>\n",
       "      <td>NaN</td>\n",
       "      <td>NaN</td>\n",
       "      <td>NaN</td>\n",
       "      <td>LRR1*</td>\n",
       "      <td>...</td>\n",
       "      <td>NaN</td>\n",
       "      <td>60379004.0</td>\n",
       "      <td>97318.0</td>\n",
       "      <td>1.0</td>\n",
       "      <td>NaN</td>\n",
       "      <td>3101.0</td>\n",
       "      <td>6037.0</td>\n",
       "      <td>010M</td>\n",
       "      <td>NaN</td>\n",
       "      <td>NaN</td>\n",
       "    </tr>\n",
       "  </tbody>\n",
       "</table>\n",
       "<p>5 rows × 24 columns</p>\n",
       "</div>"
      ],
      "text/plain": [
       "       regionidneighborhood  propertylandusetypeid taxdelinquencyflag  \\\n",
       "10260                   NaN                  261.0                NaN   \n",
       "84174                   NaN                  261.0                NaN   \n",
       "24459              272933.0                  266.0                NaN   \n",
       "67520                   NaN                  261.0                NaN   \n",
       "52747                   NaN                  261.0                NaN   \n",
       "\n",
       "       heatingorsystemtypeid  buildingclasstypeid  censustractandblock  \\\n",
       "10260                    NaN                  NaN         6.111007e+13   \n",
       "84174                    NaN                  NaN         6.111005e+13   \n",
       "24459                    7.0                  NaN         6.037577e+13   \n",
       "67520                    NaN                  NaN         6.059088e+13   \n",
       "52747                    2.0                  NaN         6.037901e+13   \n",
       "\n",
       "      hashottuborspa  pooltypeid10  architecturalstyletypeid  \\\n",
       "10260            NaN           NaN                       NaN   \n",
       "84174            NaN           NaN                       NaN   \n",
       "24459            NaN           NaN                       NaN   \n",
       "67520            NaN           NaN                       NaN   \n",
       "52747            NaN           NaN                       NaN   \n",
       "\n",
       "      propertyzoningdesc     ...       decktypeid  rawcensustractandblock  \\\n",
       "10260                NaN     ...              NaN              61110076.0   \n",
       "84174                NaN     ...              NaN              61110052.0   \n",
       "24459              LBR34     ...              NaN              60375772.0   \n",
       "67520                NaN     ...              NaN              60590880.0   \n",
       "52747              LRR1*     ...              NaN              60379004.0   \n",
       "\n",
       "       regionidzip  airconditioningtypeid  pooltypeid2  regionidcounty  \\\n",
       "10260      96393.0                    NaN          NaN          2061.0   \n",
       "84174      97089.0                    NaN          NaN          2061.0   \n",
       "24459      96246.0                    NaN          NaN          3101.0   \n",
       "67520      97048.0                    NaN          NaN          1286.0   \n",
       "52747      97318.0                    1.0          NaN          3101.0   \n",
       "\n",
       "         fips  propertycountylandusecode  fireplaceflag  storytypeid  \n",
       "10260  6111.0                       1111            NaN          NaN  \n",
       "84174  6111.0                       1111            NaN          NaN  \n",
       "24459  6037.0                       010E            NaN          NaN  \n",
       "67520  6059.0                        122            NaN          NaN  \n",
       "52747  6037.0                       010M            NaN          NaN  \n",
       "\n",
       "[5 rows x 24 columns]"
      ]
     },
     "execution_count": 267,
     "metadata": {},
     "output_type": "execute_result"
    }
   ],
   "source": [
    "train[categorical_cols].head()"
   ]
  },
  {
   "cell_type": "markdown",
   "metadata": {},
   "source": [
    "*propertyzoningdesc* is text, let's exclude it for now."
   ]
  },
  {
   "cell_type": "code",
   "execution_count": 268,
   "metadata": {},
   "outputs": [],
   "source": [
    "categorical_cols.remove('propertyzoningdesc')"
   ]
  },
  {
   "cell_type": "markdown",
   "metadata": {},
   "source": [
    "## Fill missing values with most frequent occurrence"
   ]
  },
  {
   "cell_type": "code",
   "execution_count": 352,
   "metadata": {},
   "outputs": [
    {
     "data": {
      "text/plain": [
       "13387"
      ]
     },
     "execution_count": 352,
     "metadata": {},
     "output_type": "execute_result"
    }
   ],
   "source": [
    "train['fireplaceflag'].isnull().sum()"
   ]
  },
  {
   "cell_type": "code",
   "execution_count": 353,
   "metadata": {},
   "outputs": [
    {
     "data": {
      "text/plain": [
       "13387"
      ]
     },
     "execution_count": 353,
     "metadata": {},
     "output_type": "execute_result"
    }
   ],
   "source": [
    "train['fireplaceflag'].isnull().sum()"
   ]
  },
  {
   "cell_type": "code",
   "execution_count": 354,
   "metadata": {},
   "outputs": [
    {
     "data": {
      "text/plain": [
       "13422"
      ]
     },
     "execution_count": 354,
     "metadata": {},
     "output_type": "execute_result"
    }
   ],
   "source": [
    "train['storytypeid'].isnull().sum()"
   ]
  },
  {
   "cell_type": "code",
   "execution_count": 355,
   "metadata": {},
   "outputs": [],
   "source": [
    "categorical_cols = [\n",
    "    item for item in categorical_cols\n",
    "                    if item not in ['buildingclasstypeid','fireplaceflag','storytypeid']\n",
    "]"
   ]
  },
  {
   "cell_type": "code",
   "execution_count": 356,
   "metadata": {},
   "outputs": [],
   "source": [
    "train['hashottuborspa']=train['hashottuborspa'].apply(lambda x: 1 if x == 'True' else 0)"
   ]
  },
  {
   "cell_type": "code",
   "execution_count": 357,
   "metadata": {},
   "outputs": [
    {
     "name": "stdout",
     "output_type": "stream",
     "text": [
      "propertylandusetypeid\n",
      "<2 taxdelinquencyflag\n",
      "heatingorsystemtypeid\n",
      "hashottuborspa\n",
      "<2 pooltypeid10\n",
      "architecturalstyletypeid\n",
      "<2 pooltypeid7\n",
      "buildingqualitytypeid\n",
      "typeconstructiontypeid\n",
      "<2 decktypeid\n",
      "airconditioningtypeid\n",
      "<2 pooltypeid2\n",
      "fips\n",
      "propertycountylandusecode\n"
     ]
    }
   ],
   "source": [
    "cat_train = train[categorical_cols].copy()\n",
    "for col in categorical_cols:\n",
    "    # otherwise it will fill the entire column with one entry\n",
    "    if len(train[col].unique()) == 2:\n",
    "        print(\"<2\",col)\n",
    "        if cat_train[col].dtype in [np.float32, np.float64,np.int32,np.int64]:\n",
    "            cat_train[col]=cat_train[col].fillna(0)\n",
    "        else:\n",
    "            cat_train[col]=cat_train[col].fillna('no')\n",
    "    else:\n",
    "        print(col)\n",
    "        cat_train[col]=cat_train[col].fillna(cat_train[col].value_counts().index[0])\n"
   ]
  },
  {
   "cell_type": "code",
   "execution_count": 358,
   "metadata": {},
   "outputs": [
    {
     "ename": "ValueError",
     "evalue": "list.remove(x): x not in list",
     "output_type": "error",
     "traceback": [
      "\u001b[0;31m---------------------------------------------------------------------------\u001b[0m",
      "\u001b[0;31mValueError\u001b[0m                                Traceback (most recent call last)",
      "\u001b[0;32m<ipython-input-358-69e5a6f2566e>\u001b[0m in \u001b[0;36m<module>\u001b[0;34m()\u001b[0m\n\u001b[0;32m----> 1\u001b[0;31m \u001b[0mcategorical_cols\u001b[0m\u001b[0;34m.\u001b[0m\u001b[0mremove\u001b[0m\u001b[0;34m(\u001b[0m\u001b[0;34m'rawcensustractandblock'\u001b[0m\u001b[0;34m)\u001b[0m\u001b[0;34m\u001b[0m\u001b[0m\n\u001b[0m",
      "\u001b[0;31mValueError\u001b[0m: list.remove(x): x not in list"
     ]
    }
   ],
   "source": [
    "categorical_cols.remove('rawcensustractandblock')"
   ]
  },
  {
   "cell_type": "code",
   "execution_count": 359,
   "metadata": {},
   "outputs": [
    {
     "ename": "ValueError",
     "evalue": "list.remove(x): x not in list",
     "output_type": "error",
     "traceback": [
      "\u001b[0;31m---------------------------------------------------------------------------\u001b[0m",
      "\u001b[0;31mValueError\u001b[0m                                Traceback (most recent call last)",
      "\u001b[0;32m<ipython-input-359-92b4c2cefc73>\u001b[0m in \u001b[0;36m<module>\u001b[0;34m()\u001b[0m\n\u001b[0;32m----> 1\u001b[0;31m \u001b[0mcategorical_cols\u001b[0m\u001b[0;34m.\u001b[0m\u001b[0mremove\u001b[0m\u001b[0;34m(\u001b[0m\u001b[0;34m'censustractandblock'\u001b[0m\u001b[0;34m)\u001b[0m\u001b[0;34m\u001b[0m\u001b[0m\n\u001b[0m",
      "\u001b[0;31mValueError\u001b[0m: list.remove(x): x not in list"
     ]
    }
   ],
   "source": [
    "categorical_cols.remove('censustractandblock')"
   ]
  },
  {
   "cell_type": "code",
   "execution_count": 360,
   "metadata": {},
   "outputs": [
    {
     "data": {
      "text/html": [
       "<div>\n",
       "<style>\n",
       "    .dataframe thead tr:only-child th {\n",
       "        text-align: right;\n",
       "    }\n",
       "\n",
       "    .dataframe thead th {\n",
       "        text-align: left;\n",
       "    }\n",
       "\n",
       "    .dataframe tbody tr th {\n",
       "        vertical-align: top;\n",
       "    }\n",
       "</style>\n",
       "<table border=\"1\" class=\"dataframe\">\n",
       "  <thead>\n",
       "    <tr style=\"text-align: right;\">\n",
       "      <th></th>\n",
       "      <th>propertylandusetypeid</th>\n",
       "      <th>taxdelinquencyflag</th>\n",
       "      <th>heatingorsystemtypeid</th>\n",
       "      <th>hashottuborspa</th>\n",
       "      <th>pooltypeid10</th>\n",
       "      <th>architecturalstyletypeid</th>\n",
       "      <th>pooltypeid7</th>\n",
       "      <th>buildingqualitytypeid</th>\n",
       "      <th>typeconstructiontypeid</th>\n",
       "      <th>decktypeid</th>\n",
       "      <th>airconditioningtypeid</th>\n",
       "      <th>pooltypeid2</th>\n",
       "      <th>fips</th>\n",
       "      <th>propertycountylandusecode</th>\n",
       "    </tr>\n",
       "  </thead>\n",
       "  <tbody>\n",
       "    <tr>\n",
       "      <th>4546</th>\n",
       "      <td>261.0</td>\n",
       "      <td>no</td>\n",
       "      <td>2.0</td>\n",
       "      <td>0</td>\n",
       "      <td>0.0</td>\n",
       "      <td>7.0</td>\n",
       "      <td>0.0</td>\n",
       "      <td>7.0</td>\n",
       "      <td>6.0</td>\n",
       "      <td>0.0</td>\n",
       "      <td>1.0</td>\n",
       "      <td>0.0</td>\n",
       "      <td>6059.0</td>\n",
       "      <td>122</td>\n",
       "    </tr>\n",
       "    <tr>\n",
       "      <th>35673</th>\n",
       "      <td>269.0</td>\n",
       "      <td>no</td>\n",
       "      <td>2.0</td>\n",
       "      <td>0</td>\n",
       "      <td>0.0</td>\n",
       "      <td>7.0</td>\n",
       "      <td>0.0</td>\n",
       "      <td>8.0</td>\n",
       "      <td>6.0</td>\n",
       "      <td>0.0</td>\n",
       "      <td>1.0</td>\n",
       "      <td>0.0</td>\n",
       "      <td>6037.0</td>\n",
       "      <td>010D</td>\n",
       "    </tr>\n",
       "    <tr>\n",
       "      <th>72370</th>\n",
       "      <td>261.0</td>\n",
       "      <td>no</td>\n",
       "      <td>2.0</td>\n",
       "      <td>0</td>\n",
       "      <td>0.0</td>\n",
       "      <td>7.0</td>\n",
       "      <td>0.0</td>\n",
       "      <td>6.0</td>\n",
       "      <td>6.0</td>\n",
       "      <td>0.0</td>\n",
       "      <td>1.0</td>\n",
       "      <td>0.0</td>\n",
       "      <td>6037.0</td>\n",
       "      <td>0100</td>\n",
       "    </tr>\n",
       "    <tr>\n",
       "      <th>66108</th>\n",
       "      <td>261.0</td>\n",
       "      <td>no</td>\n",
       "      <td>7.0</td>\n",
       "      <td>0</td>\n",
       "      <td>0.0</td>\n",
       "      <td>7.0</td>\n",
       "      <td>0.0</td>\n",
       "      <td>7.0</td>\n",
       "      <td>6.0</td>\n",
       "      <td>0.0</td>\n",
       "      <td>1.0</td>\n",
       "      <td>0.0</td>\n",
       "      <td>6037.0</td>\n",
       "      <td>0100</td>\n",
       "    </tr>\n",
       "    <tr>\n",
       "      <th>24882</th>\n",
       "      <td>261.0</td>\n",
       "      <td>no</td>\n",
       "      <td>7.0</td>\n",
       "      <td>0</td>\n",
       "      <td>0.0</td>\n",
       "      <td>7.0</td>\n",
       "      <td>0.0</td>\n",
       "      <td>7.0</td>\n",
       "      <td>6.0</td>\n",
       "      <td>0.0</td>\n",
       "      <td>1.0</td>\n",
       "      <td>0.0</td>\n",
       "      <td>6037.0</td>\n",
       "      <td>0100</td>\n",
       "    </tr>\n",
       "  </tbody>\n",
       "</table>\n",
       "</div>"
      ],
      "text/plain": [
       "       propertylandusetypeid taxdelinquencyflag  heatingorsystemtypeid  \\\n",
       "4546                   261.0                 no                    2.0   \n",
       "35673                  269.0                 no                    2.0   \n",
       "72370                  261.0                 no                    2.0   \n",
       "66108                  261.0                 no                    7.0   \n",
       "24882                  261.0                 no                    7.0   \n",
       "\n",
       "       hashottuborspa  pooltypeid10  architecturalstyletypeid  pooltypeid7  \\\n",
       "4546                0           0.0                       7.0          0.0   \n",
       "35673               0           0.0                       7.0          0.0   \n",
       "72370               0           0.0                       7.0          0.0   \n",
       "66108               0           0.0                       7.0          0.0   \n",
       "24882               0           0.0                       7.0          0.0   \n",
       "\n",
       "       buildingqualitytypeid  typeconstructiontypeid  decktypeid  \\\n",
       "4546                     7.0                     6.0         0.0   \n",
       "35673                    8.0                     6.0         0.0   \n",
       "72370                    6.0                     6.0         0.0   \n",
       "66108                    7.0                     6.0         0.0   \n",
       "24882                    7.0                     6.0         0.0   \n",
       "\n",
       "       airconditioningtypeid  pooltypeid2    fips propertycountylandusecode  \n",
       "4546                     1.0          0.0  6059.0                       122  \n",
       "35673                    1.0          0.0  6037.0                      010D  \n",
       "72370                    1.0          0.0  6037.0                      0100  \n",
       "66108                    1.0          0.0  6037.0                      0100  \n",
       "24882                    1.0          0.0  6037.0                      0100  "
      ]
     },
     "execution_count": 360,
     "metadata": {},
     "output_type": "execute_result"
    }
   ],
   "source": [
    "cat_train[categorical_cols].head()"
   ]
  },
  {
   "cell_type": "markdown",
   "metadata": {},
   "source": [
    "## Let's remove place information since we have lat-long coordinates"
   ]
  },
  {
   "cell_type": "code",
   "execution_count": 361,
   "metadata": {},
   "outputs": [],
   "source": [
    "categorical_cols = [item for item in categorical_cols\n",
    "                    if item not in ['regionidzip','regionidcounty','regionidcity','regionidneighborhood','regionidneighborhood'] \n",
    "                   ] "
   ]
  },
  {
   "cell_type": "code",
   "execution_count": 362,
   "metadata": {},
   "outputs": [
    {
     "data": {
      "text/html": [
       "<div>\n",
       "<style>\n",
       "    .dataframe thead tr:only-child th {\n",
       "        text-align: right;\n",
       "    }\n",
       "\n",
       "    .dataframe thead th {\n",
       "        text-align: left;\n",
       "    }\n",
       "\n",
       "    .dataframe tbody tr th {\n",
       "        vertical-align: top;\n",
       "    }\n",
       "</style>\n",
       "<table border=\"1\" class=\"dataframe\">\n",
       "  <thead>\n",
       "    <tr style=\"text-align: right;\">\n",
       "      <th></th>\n",
       "      <th>propertylandusetypeid</th>\n",
       "      <th>taxdelinquencyflag</th>\n",
       "      <th>heatingorsystemtypeid</th>\n",
       "      <th>hashottuborspa</th>\n",
       "      <th>pooltypeid10</th>\n",
       "      <th>architecturalstyletypeid</th>\n",
       "      <th>pooltypeid7</th>\n",
       "      <th>buildingqualitytypeid</th>\n",
       "      <th>typeconstructiontypeid</th>\n",
       "      <th>decktypeid</th>\n",
       "      <th>airconditioningtypeid</th>\n",
       "      <th>pooltypeid2</th>\n",
       "      <th>fips</th>\n",
       "      <th>propertycountylandusecode</th>\n",
       "    </tr>\n",
       "  </thead>\n",
       "  <tbody>\n",
       "    <tr>\n",
       "      <th>4546</th>\n",
       "      <td>261.0</td>\n",
       "      <td>no</td>\n",
       "      <td>2.0</td>\n",
       "      <td>0</td>\n",
       "      <td>0.0</td>\n",
       "      <td>7.0</td>\n",
       "      <td>0.0</td>\n",
       "      <td>7.0</td>\n",
       "      <td>6.0</td>\n",
       "      <td>0.0</td>\n",
       "      <td>1.0</td>\n",
       "      <td>0.0</td>\n",
       "      <td>6059.0</td>\n",
       "      <td>122</td>\n",
       "    </tr>\n",
       "    <tr>\n",
       "      <th>35673</th>\n",
       "      <td>269.0</td>\n",
       "      <td>no</td>\n",
       "      <td>2.0</td>\n",
       "      <td>0</td>\n",
       "      <td>0.0</td>\n",
       "      <td>7.0</td>\n",
       "      <td>0.0</td>\n",
       "      <td>8.0</td>\n",
       "      <td>6.0</td>\n",
       "      <td>0.0</td>\n",
       "      <td>1.0</td>\n",
       "      <td>0.0</td>\n",
       "      <td>6037.0</td>\n",
       "      <td>010D</td>\n",
       "    </tr>\n",
       "    <tr>\n",
       "      <th>72370</th>\n",
       "      <td>261.0</td>\n",
       "      <td>no</td>\n",
       "      <td>2.0</td>\n",
       "      <td>0</td>\n",
       "      <td>0.0</td>\n",
       "      <td>7.0</td>\n",
       "      <td>0.0</td>\n",
       "      <td>6.0</td>\n",
       "      <td>6.0</td>\n",
       "      <td>0.0</td>\n",
       "      <td>1.0</td>\n",
       "      <td>0.0</td>\n",
       "      <td>6037.0</td>\n",
       "      <td>0100</td>\n",
       "    </tr>\n",
       "    <tr>\n",
       "      <th>66108</th>\n",
       "      <td>261.0</td>\n",
       "      <td>no</td>\n",
       "      <td>7.0</td>\n",
       "      <td>0</td>\n",
       "      <td>0.0</td>\n",
       "      <td>7.0</td>\n",
       "      <td>0.0</td>\n",
       "      <td>7.0</td>\n",
       "      <td>6.0</td>\n",
       "      <td>0.0</td>\n",
       "      <td>1.0</td>\n",
       "      <td>0.0</td>\n",
       "      <td>6037.0</td>\n",
       "      <td>0100</td>\n",
       "    </tr>\n",
       "    <tr>\n",
       "      <th>24882</th>\n",
       "      <td>261.0</td>\n",
       "      <td>no</td>\n",
       "      <td>7.0</td>\n",
       "      <td>0</td>\n",
       "      <td>0.0</td>\n",
       "      <td>7.0</td>\n",
       "      <td>0.0</td>\n",
       "      <td>7.0</td>\n",
       "      <td>6.0</td>\n",
       "      <td>0.0</td>\n",
       "      <td>1.0</td>\n",
       "      <td>0.0</td>\n",
       "      <td>6037.0</td>\n",
       "      <td>0100</td>\n",
       "    </tr>\n",
       "  </tbody>\n",
       "</table>\n",
       "</div>"
      ],
      "text/plain": [
       "       propertylandusetypeid taxdelinquencyflag  heatingorsystemtypeid  \\\n",
       "4546                   261.0                 no                    2.0   \n",
       "35673                  269.0                 no                    2.0   \n",
       "72370                  261.0                 no                    2.0   \n",
       "66108                  261.0                 no                    7.0   \n",
       "24882                  261.0                 no                    7.0   \n",
       "\n",
       "       hashottuborspa  pooltypeid10  architecturalstyletypeid  pooltypeid7  \\\n",
       "4546                0           0.0                       7.0          0.0   \n",
       "35673               0           0.0                       7.0          0.0   \n",
       "72370               0           0.0                       7.0          0.0   \n",
       "66108               0           0.0                       7.0          0.0   \n",
       "24882               0           0.0                       7.0          0.0   \n",
       "\n",
       "       buildingqualitytypeid  typeconstructiontypeid  decktypeid  \\\n",
       "4546                     7.0                     6.0         0.0   \n",
       "35673                    8.0                     6.0         0.0   \n",
       "72370                    6.0                     6.0         0.0   \n",
       "66108                    7.0                     6.0         0.0   \n",
       "24882                    7.0                     6.0         0.0   \n",
       "\n",
       "       airconditioningtypeid  pooltypeid2    fips propertycountylandusecode  \n",
       "4546                     1.0          0.0  6059.0                       122  \n",
       "35673                    1.0          0.0  6037.0                      010D  \n",
       "72370                    1.0          0.0  6037.0                      0100  \n",
       "66108                    1.0          0.0  6037.0                      0100  \n",
       "24882                    1.0          0.0  6037.0                      0100  "
      ]
     },
     "execution_count": 362,
     "metadata": {},
     "output_type": "execute_result"
    }
   ],
   "source": [
    "cat_train[categorical_cols].head()"
   ]
  },
  {
   "cell_type": "code",
   "execution_count": 363,
   "metadata": {
    "collapsed": true
   },
   "outputs": [],
   "source": [
    "cat_train = cat_train[categorical_cols]"
   ]
  },
  {
   "cell_type": "code",
   "execution_count": 364,
   "metadata": {},
   "outputs": [],
   "source": [
    "for col in categorical_cols:\n",
    "    cat_train[col]=cat_train[col].apply(lambda x: str(x))\n",
    "\n",
    "cat_dummies = pd.get_dummies(cat_train[categorical_cols])\n"
   ]
  },
  {
   "cell_type": "code",
   "execution_count": 365,
   "metadata": {},
   "outputs": [
    {
     "data": {
      "text/plain": [
       "(13431, 111)"
      ]
     },
     "execution_count": 365,
     "metadata": {},
     "output_type": "execute_result"
    }
   ],
   "source": [
    "cat_dummies.values.shape"
   ]
  },
  {
   "cell_type": "code",
   "execution_count": 366,
   "metadata": {},
   "outputs": [],
   "source": [
    "rf_feat = RandomForestRegressor(n_jobs=-1,criterion='mae', random_state=4)"
   ]
  },
  {
   "cell_type": "code",
   "execution_count": 367,
   "metadata": {
    "scrolled": false
   },
   "outputs": [
    {
     "data": {
      "text/plain": [
       "(13431, 13431)"
      ]
     },
     "execution_count": 367,
     "metadata": {},
     "output_type": "execute_result"
    }
   ],
   "source": [
    "len(cat_dummies), len(Y_train)"
   ]
  },
  {
   "cell_type": "code",
   "execution_count": 369,
   "metadata": {},
   "outputs": [
    {
     "data": {
      "text/plain": [
       "RandomForestRegressor(bootstrap=True, criterion='mae', max_depth=None,\n",
       "           max_features='auto', max_leaf_nodes=None,\n",
       "           min_impurity_split=1e-07, min_samples_leaf=1,\n",
       "           min_samples_split=2, min_weight_fraction_leaf=0.0,\n",
       "           n_estimators=10, n_jobs=-1, oob_score=False, random_state=4,\n",
       "           verbose=0, warm_start=False)"
      ]
     },
     "execution_count": 369,
     "metadata": {},
     "output_type": "execute_result"
    }
   ],
   "source": [
    "rf_feat.fit(cat_dummies, Y_train)"
   ]
  },
  {
   "cell_type": "code",
   "execution_count": 370,
   "metadata": {
    "scrolled": false
   },
   "outputs": [
    {
     "name": "stdout",
     "output_type": "stream",
     "text": [
      "0.0500310256548 buildingqualitytypeid_6.0\n",
      "0.0485246494738 buildingqualitytypeid_7.0\n",
      "0.0474330619922 pooltypeid7_0.0\n",
      "0.0466450380465 pooltypeid7_1.0\n",
      "0.0433269630733 heatingorsystemtypeid_2.0\n",
      "0.0430346988274 buildingqualitytypeid_4.0\n",
      "0.0377993741207 heatingorsystemtypeid_7.0\n",
      "0.0373466889606 propertycountylandusecode_0104\n",
      "0.0303585130685 buildingqualitytypeid_1.0\n",
      "0.0296816051323 propertycountylandusecode_0101\n",
      "0.0232209371462 buildingqualitytypeid_10.0\n",
      "0.0221818055156 propertycountylandusecode_0108\n",
      "0.0214576083778 buildingqualitytypeid_9.0\n",
      "0.0205139568749 buildingqualitytypeid_8.0\n",
      "0.0172741941008 propertycountylandusecode_010C\n",
      "0.0171657390152 propertycountylandusecode_01DC\n",
      "0.0169104802621 propertycountylandusecode_010E\n",
      "0.0153101842765 buildingqualitytypeid_5.0\n",
      "0.0149530413305 propertycountylandusecode_0103\n",
      "0.0149215285264 propertycountylandusecode_0100\n",
      "0.0129507698178 buildingqualitytypeid_12.0\n",
      "0.0127672766358 propertycountylandusecode_1\n",
      "0.0125370187351 taxdelinquencyflag_Y\n",
      "0.0114910776527 propertylandusetypeid_261.0\n",
      "0.0114261237607 taxdelinquencyflag_no\n",
      "0.0111304484212 propertycountylandusecode_1116\n",
      "0.0111004774064 heatingorsystemtypeid_10.0\n",
      "0.0104822469819 pooltypeid10_0.0\n",
      "0.0104507976175 buildingqualitytypeid_11.0\n",
      "0.0103987404427 airconditioningtypeid_1.0\n",
      "0.00991773175324 heatingorsystemtypeid_6.0\n",
      "0.00981289925954 propertycountylandusecode_010\n",
      "0.00925325369811 propertylandusetypeid_269.0\n",
      "0.0089601553128 propertycountylandusecode_0201\n",
      "0.00850679786747 propertylandusetypeid_266.0\n",
      "0.00826606780129 buildingqualitytypeid_2.0\n",
      "0.00792553685046 propertycountylandusecode_122\n",
      "0.00769802076954 propertycountylandusecode_010D\n",
      "0.00769622572654 propertycountylandusecode_34\n",
      "0.0076897715122 airconditioningtypeid_11.0\n",
      "0.00759314796887 buildingqualitytypeid_3.0\n",
      "0.007416935132 airconditioningtypeid_13.0\n",
      "0.00734884981939 propertylandusetypeid_263.0\n",
      "0.0071485772372 propertycountylandusecode_0301\n",
      "0.00713833189212 propertylandusetypeid_246.0\n",
      "0.00693189136245 heatingorsystemtypeid_24.0\n",
      "0.00631164016338 propertycountylandusecode_010H\n",
      "0.00627301853851 propertycountylandusecode_0300\n",
      "0.0053656139472 propertycountylandusecode_01HC\n",
      "0.00532169258805 pooltypeid10_1.0\n",
      "0.00503223073421 propertycountylandusecode_0700\n",
      "0.00500447180311 propertylandusetypeid_248.0\n",
      "0.00497108203885 heatingorsystemtypeid_20.0\n",
      "0.0048871456775 propertycountylandusecode_0109\n",
      "0.00485006784213 propertycountylandusecode_010G\n",
      "0.00475707186743 propertycountylandusecode_1129\n",
      "0.00474900646054 decktypeid_66.0\n",
      "0.00466464769339 propertycountylandusecode_010M\n",
      "0.00452457623586 propertycountylandusecode_0200\n",
      "0.00438694884294 propertycountylandusecode_012C\n",
      "0.00432191556811 propertycountylandusecode_1111\n",
      "0.00414742518054 propertycountylandusecode_1012\n",
      "0.00408987503544 decktypeid_0.0\n",
      "0.00377921289346 propertycountylandusecode_1310\n",
      "0.00357514936013 fips_6037.0\n",
      "0.00356156131877 propertylandusetypeid_247.0\n",
      "0.00338322471223 propertycountylandusecode_73\n",
      "0.00325287236703 airconditioningtypeid_5.0\n",
      "0.00316529715269 propertycountylandusecode_1110\n",
      "0.00316159960945 propertycountylandusecode_1720\n",
      "0.00296907880138 pooltypeid2_1.0\n",
      "0.00282531825804 propertycountylandusecode_38\n",
      "0.00279819916139 pooltypeid2_0.0\n",
      "0.00258659831539 heatingorsystemtypeid_1.0\n",
      "0.0024902501182 propertycountylandusecode_8800\n",
      "0.00247638664517 propertylandusetypeid_267.0\n",
      "0.00240808247999 architecturalstyletypeid_8.0\n",
      "0.00235924384384 propertycountylandusecode_070D\n",
      "0.00204432717431 heatingorsystemtypeid_18.0\n",
      "0.0020322616409 propertycountylandusecode_96\n",
      "0.00201914126012 propertycountylandusecode_1128\n",
      "0.00199539852205 propertycountylandusecode_010F\n",
      "0.00188950245232 propertycountylandusecode_0400\n",
      "0.00162780344891 propertycountylandusecode_0401\n",
      "0.00159451446584 propertylandusetypeid_265.0\n",
      "0.00144191946213 heatingorsystemtypeid_13.0\n",
      "0.0014225825375 propertycountylandusecode_012E\n",
      "0.00137631512313 propertylandusetypeid_264.0\n",
      "0.00136780642598 fips_6111.0\n",
      "0.00122721063706 architecturalstyletypeid_2.0\n",
      "0.00119392173355 propertylandusetypeid_31.0\n",
      "0.00118031575577 airconditioningtypeid_9.0\n",
      "0.000996520291317 architecturalstyletypeid_21.0\n",
      "0.000967829894053 propertylandusetypeid_260.0\n",
      "0.000967250388593 architecturalstyletypeid_7.0\n",
      "0.00095741740564 typeconstructiontypeid_6.0\n",
      "0.000643719435971 propertycountylandusecode_1014\n",
      "0.00056331826079 propertycountylandusecode_1410\n",
      "0.000554465468753 propertycountylandusecode_1210\n",
      "0.000548343348874 propertycountylandusecode_01HE\n",
      "0.000360590982294 typeconstructiontypeid_4.0\n",
      "0.000282599150914 propertycountylandusecode_010V\n",
      "0.000232417943888 propertycountylandusecode_010L\n",
      "0.000217301653882 typeconstructiontypeid_10.0\n",
      "0.000182913496102 propertycountylandusecode_1117\n",
      "0.000139695240047 propertycountylandusecode_020G\n",
      "0.000133508084476 propertycountylandusecode_1222\n",
      "0.000122137375125 propertylandusetypeid_275.0\n",
      "9.67532622879e-05 propertycountylandusecode_135\n",
      "0.0 hashottuborspa_0\n",
      "-0.000960572788118 fips_6059.0\n"
     ]
    }
   ],
   "source": [
    "# When we use 13,431 observations\n",
    "for numeric_feature, score in sorted(zip(rf_feat.feature_importances_,cat_dummies.columns),reverse=True):\n",
    "    print(numeric_feature, score)"
   ]
  },
  {
   "cell_type": "code",
   "execution_count": null,
   "metadata": {
    "collapsed": true
   },
   "outputs": [],
   "source": []
  }
 ],
 "metadata": {
  "kernelspec": {
   "display_name": "Python 3",
   "language": "python",
   "name": "python3"
  },
  "language_info": {
   "codemirror_mode": {
    "name": "ipython",
    "version": 3
   },
   "file_extension": ".py",
   "mimetype": "text/x-python",
   "name": "python",
   "nbconvert_exporter": "python",
   "pygments_lexer": "ipython3",
   "version": "3.6.1"
  }
 },
 "nbformat": 4,
 "nbformat_minor": 2
}
