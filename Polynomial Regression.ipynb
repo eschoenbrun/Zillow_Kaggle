{
 "cells": [
  {
   "cell_type": "code",
   "execution_count": 1,
   "metadata": {
    "collapsed": true
   },
   "outputs": [],
   "source": [
    "import pandas as pd\n",
    "import numpy as np"
   ]
  },
  {
   "cell_type": "code",
   "execution_count": 28,
   "metadata": {
    "collapsed": true
   },
   "outputs": [],
   "source": [
    "import matplotlib.pyplot as plt"
   ]
  },
  {
   "cell_type": "code",
   "execution_count": 29,
   "metadata": {
    "collapsed": true
   },
   "outputs": [],
   "source": [
    "%matplotlib inline"
   ]
  },
  {
   "cell_type": "code",
   "execution_count": 2,
   "metadata": {
    "collapsed": true
   },
   "outputs": [],
   "source": [
    "data = pd.read_csv('data/train-ml_v3.csv')"
   ]
  },
  {
   "cell_type": "code",
   "execution_count": 3,
   "metadata": {},
   "outputs": [
    {
     "data": {
      "text/plain": [
       "['airconditioningtypeid_13.0',\n",
       " 'bathroomcnt',\n",
       " 'bedroomcnt',\n",
       " 'buildingqualitytypeid_10.0',\n",
       " 'buildingqualitytypeid_11.0',\n",
       " 'buildingqualitytypeid_12.0',\n",
       " 'buildingqualitytypeid_3.0',\n",
       " 'buildingqualitytypeid_5.0',\n",
       " 'buildingqualitytypeid_7.0',\n",
       " 'buildingqualitytypeid_8.0',\n",
       " 'calculatedfinishedsquarefeet',\n",
       " 'fips_6059.0',\n",
       " 'fullbathcnt',\n",
       " 'hashottuborspa_1',\n",
       " 'heatingorsystemtypeid_13.0',\n",
       " 'heatingorsystemtypeid_20.0',\n",
       " 'heatingorsystemtypeid_7.0',\n",
       " 'landtaxvaluedollarcnt',\n",
       " 'latitude',\n",
       " 'logerror',\n",
       " 'longitude',\n",
       " 'lotsizesquarefeet',\n",
       " 'propertycountylandusecode_0100',\n",
       " 'propertycountylandusecode_0101',\n",
       " 'propertycountylandusecode_0108',\n",
       " 'propertycountylandusecode_010C',\n",
       " 'propertycountylandusecode_010D',\n",
       " 'propertycountylandusecode_010E',\n",
       " 'propertycountylandusecode_010M',\n",
       " 'propertycountylandusecode_010V',\n",
       " 'propertycountylandusecode_012C',\n",
       " 'propertycountylandusecode_1111',\n",
       " 'propertycountylandusecode_1128',\n",
       " 'propertycountylandusecode_1129',\n",
       " 'propertycountylandusecode_122',\n",
       " 'propertycountylandusecode_34',\n",
       " 'propertylandusetypeid_247.0',\n",
       " 'propertylandusetypeid_263.0',\n",
       " 'propertylandusetypeid_265.0',\n",
       " 'roomcnt',\n",
       " 'taxamount',\n",
       " 'taxdelinquencyyear',\n",
       " 'transaction_day_of_wk',\n",
       " 'transaction_mth',\n",
       " 'transaction_yr',\n",
       " 'unitcnt',\n",
       " 'yearbuilt']"
      ]
     },
     "execution_count": 3,
     "metadata": {},
     "output_type": "execute_result"
    }
   ],
   "source": [
    "sorted([col for col in data.columns])"
   ]
  },
  {
   "cell_type": "code",
   "execution_count": 4,
   "metadata": {
    "collapsed": true
   },
   "outputs": [],
   "source": [
    "from sklearn.model_selection import train_test_split"
   ]
  },
  {
   "cell_type": "code",
   "execution_count": 5,
   "metadata": {
    "collapsed": true
   },
   "outputs": [],
   "source": [
    "X_train, X_test, y_train, y_test = train_test_split(data.drop(['logerror'], axis=1).values,\n",
    "                                                    data['logerror'].values,\n",
    "                                                    test_size=0.2, random_state=4)"
   ]
  },
  {
   "cell_type": "code",
   "execution_count": 6,
   "metadata": {},
   "outputs": [
    {
     "data": {
      "text/plain": [
       "(134305, 33577)"
      ]
     },
     "execution_count": 6,
     "metadata": {},
     "output_type": "execute_result"
    }
   ],
   "source": [
    "len(X_train),len(X_test)"
   ]
  },
  {
   "cell_type": "code",
   "execution_count": 7,
   "metadata": {
    "collapsed": true
   },
   "outputs": [],
   "source": [
    "from sklearn.preprocessing import PolynomialFeatures"
   ]
  },
  {
   "cell_type": "code",
   "execution_count": 8,
   "metadata": {
    "collapsed": true
   },
   "outputs": [],
   "source": [
    "polynomial = PolynomialFeatures(degree=2, include_bias=False)"
   ]
  },
  {
   "cell_type": "code",
   "execution_count": 11,
   "metadata": {
    "collapsed": true
   },
   "outputs": [],
   "source": [
    "X_polynomial_features = polynomial.fit_transform(X_train)"
   ]
  },
  {
   "cell_type": "code",
   "execution_count": 12,
   "metadata": {},
   "outputs": [
    {
     "data": {
      "text/plain": [
       "((134305, 46), (134305, 1127))"
      ]
     },
     "execution_count": 12,
     "metadata": {},
     "output_type": "execute_result"
    }
   ],
   "source": [
    "X_train.shape, X_polynomial_features.shape"
   ]
  },
  {
   "cell_type": "code",
   "execution_count": 13,
   "metadata": {},
   "outputs": [
    {
     "data": {
      "text/plain": [
       "array([ -1.18561392e+08,   3.41681920e+07,   4.68247000e+05, ...,\n",
       "         0.00000000e+00,   0.00000000e+00,   0.00000000e+00])"
      ]
     },
     "execution_count": 13,
     "metadata": {},
     "output_type": "execute_result"
    }
   ],
   "source": [
    "X_polynomial_features[0]"
   ]
  },
  {
   "cell_type": "code",
   "execution_count": 14,
   "metadata": {
    "collapsed": true
   },
   "outputs": [],
   "source": [
    "from sklearn.linear_model import LinearRegression"
   ]
  },
  {
   "cell_type": "code",
   "execution_count": 19,
   "metadata": {
    "collapsed": true
   },
   "outputs": [],
   "source": [
    "lin_reg = LinearRegression(n_jobs=-1)"
   ]
  },
  {
   "cell_type": "code",
   "execution_count": 20,
   "metadata": {},
   "outputs": [
    {
     "name": "stdout",
     "output_type": "stream",
     "text": [
      "CPU times: user 44.8 s, sys: 2.32 s, total: 47.1 s\n",
      "Wall time: 27 s\n"
     ]
    },
    {
     "data": {
      "text/plain": [
       "LinearRegression(copy_X=True, fit_intercept=True, n_jobs=-1, normalize=False)"
      ]
     },
     "execution_count": 20,
     "metadata": {},
     "output_type": "execute_result"
    }
   ],
   "source": [
    "%time lin_reg.fit(X_polynomial_features, y_train)"
   ]
  },
  {
   "cell_type": "code",
   "execution_count": 21,
   "metadata": {
    "collapsed": true
   },
   "outputs": [],
   "source": [
    "from sklearn.metrics import mean_absolute_error"
   ]
  },
  {
   "cell_type": "code",
   "execution_count": 22,
   "metadata": {
    "collapsed": true
   },
   "outputs": [],
   "source": [
    "y_train_preds = lin_reg.predict(X_polynomial_features)"
   ]
  },
  {
   "cell_type": "markdown",
   "metadata": {},
   "source": [
    "## Training Accuracy"
   ]
  },
  {
   "cell_type": "code",
   "execution_count": 25,
   "metadata": {},
   "outputs": [
    {
     "data": {
      "text/plain": [
       "0.069985629160441945"
      ]
     },
     "execution_count": 25,
     "metadata": {},
     "output_type": "execute_result"
    }
   ],
   "source": [
    "mean_absolute_error(y_train, y_train_preds)"
   ]
  },
  {
   "cell_type": "code",
   "execution_count": 26,
   "metadata": {},
   "outputs": [
    {
     "name": "stdout",
     "output_type": "stream",
     "text": [
      "CPU times: user 1.58 s, sys: 311 ms, total: 1.89 s\n",
      "Wall time: 1.87 s\n"
     ]
    }
   ],
   "source": [
    "%time y_test_preds = lin_reg.predict(polynomial.transform(X_test))"
   ]
  },
  {
   "cell_type": "markdown",
   "metadata": {},
   "source": [
    "## Test Accuracy\n",
    "\n",
    "Model is overfitting"
   ]
  },
  {
   "cell_type": "code",
   "execution_count": 27,
   "metadata": {},
   "outputs": [
    {
     "data": {
      "text/plain": [
       "0.070796295093736195"
      ]
     },
     "execution_count": 27,
     "metadata": {},
     "output_type": "execute_result"
    }
   ],
   "source": [
    "mean_absolute_error(y_test, y_test_preds)"
   ]
  },
  {
   "cell_type": "code",
   "execution_count": 31,
   "metadata": {
    "collapsed": true
   },
   "outputs": [],
   "source": [
    "# From Hands On Machine Learning p. 124,125\n",
    "from sklearn.pipeline import Pipeline"
   ]
  },
  {
   "cell_type": "code",
   "execution_count": 43,
   "metadata": {},
   "outputs": [],
   "source": [
    "polynomial_regression = Pipeline((\n",
    "(\"polynomial_features\", PolynomialFeatures(degree=2, include_bias=False)),\n",
    "(\"linear_regression\", LinearRegression(n_jobs=-1)),\n",
    "))"
   ]
  },
  {
   "cell_type": "code",
   "execution_count": 55,
   "metadata": {},
   "outputs": [],
   "source": [
    "from tqdm import tqdm_notebook as tqdm"
   ]
  },
  {
   "cell_type": "code",
   "execution_count": 68,
   "metadata": {
    "collapsed": true
   },
   "outputs": [],
   "source": [
    "def learning_curves(model, X, y):\n",
    "    X_train, X_val, y_train, y_val = train_test_split(X,y,test_size=0.3, random_state=4)\n",
    "    \n",
    "    train_errors, val_errors = [], []\n",
    "    \n",
    "    for m in tqdm(range(10000, len(X_train),10000)):\n",
    "        model.fit(X_train[:m],y_train[:m])\n",
    "        y_train_predict = model.predict(X_train[:m])\n",
    "        y_val_predict = model.predict(X_val)\n",
    "        \n",
    "        train_errors.append(mean_absolute_error(y_train_predict, y_train[:m]))\n",
    "        val_errors.append(mean_absolute_error(y_val_predict, y_val))\n",
    "        \n",
    "    return train_errors,val_errors"
   ]
  },
  {
   "cell_type": "code",
   "execution_count": 73,
   "metadata": {},
   "outputs": [
    {
     "data": {
      "application/vnd.jupyter.widget-view+json": {
       "model_id": "3a08efcb19464bb181c2b88b288172fd"
      }
     },
     "metadata": {},
     "output_type": "display_data"
    },
    {
     "name": "stdout",
     "output_type": "stream",
     "text": [
      "\n",
      "CPU times: user 5min, sys: 20.8 s, total: 5min 21s\n",
      "Wall time: 3min 43s\n"
     ]
    }
   ],
   "source": [
    "%time train_err,val_err = learning_curves(polynomial_regression,X=data.drop(['logerror'], axis=1).values, y=data['logerror'].values)"
   ]
  },
  {
   "cell_type": "code",
   "execution_count": 93,
   "metadata": {},
   "outputs": [
    {
     "data": {
      "image/png": "[encoded data removed]",
      "text/plain": [
       "<matplotlib.figure.Figure at 0x11889f278>"
      ]
     },
     "metadata": {},
     "output_type": "display_data"
    }
   ],
   "source": [
    "fig, ax = plt.subplots(figsize=(14,6))\n",
    "\n",
    "ax.plot(train_err,\"r-+\",linewidth=2,label=\"train\")\n",
    "ax.plot(val_err, \"b-\",linewidth=3, label=\"validation\")\n",
    "\n",
    "ax.set_xlabel(\"Training Size in '00,000\")\n",
    "ax.set_ylabel('Mean Absolute Error')\n",
    "\n",
    "ax.set_title('Mean Absolute Erorr v. Training Size')\n",
    "plt.show()"
   ]
  },
  {
   "cell_type": "code",
   "execution_count": null,
   "metadata": {
    "collapsed": true
   },
   "outputs": [],
   "source": []
  }
 ],
 "metadata": {
  "kernelspec": {
   "display_name": "Python 3",
   "language": "python",
   "name": "python3"
  },
  "language_info": {
   "codemirror_mode": {
    "name": "ipython",
    "version": 3
   },
   "file_extension": ".py",
   "mimetype": "text/x-python",
   "name": "python",
   "nbconvert_exporter": "python",
   "pygments_lexer": "ipython3",
   "version": "3.6.1"
  }
 },
 "nbformat": 4,
 "nbformat_minor": 2
}
