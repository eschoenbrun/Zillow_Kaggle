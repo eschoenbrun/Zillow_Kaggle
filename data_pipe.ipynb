{
 "cells": [
  {
   "cell_type": "code",
   "execution_count": 1,
   "metadata": {
    "collapsed": true
   },
   "outputs": [],
   "source": [
    "import pandas as pd\n",
    "import numpy as np\n",
    "import gc \n",
    "\n",
    "import logging\n",
    "\n",
    "logging.basicConfig(format='%(asctime)s %(message)s', level=logging.INFO)\n",
    "\n",
    "\n",
    "from sklearn.base import BaseEstimator, TransformerMixin\n",
    "from sklearn.preprocessing import Imputer"
   ]
  },
  {
   "cell_type": "code",
   "execution_count": 2,
   "metadata": {
    "collapsed": true
   },
   "outputs": [],
   "source": [
    "def load_data(path_to_data='data', sample_size = None):\n",
    "\tlogging.info('Reading Properties 2016...')\n",
    "\tprop_2016 = pd.read_csv('{}/properties_2016.csv'.format(path_to_data))\n",
    "\t\n",
    "\tlogging.info('Reading Properties 2017...')\n",
    "\tprop_2017 = pd.read_csv('{}/properties_2017.csv'.format(path_to_data))\n",
    "\t\n",
    "\tlogging.info('Reading Train 2016...')\n",
    "\ttarget_2016 = pd.read_csv('{}/train_2016_v2.csv'.format(path_to_data))\n",
    "\t\n",
    "\tlogging.info('Reading Train 2017..')\n",
    "\ttarget_2017 = pd.read_csv('{}/train_2017.csv'.format(path_to_data))\n",
    "\t\n",
    "\tlogging.info('Performing merge')\n",
    "\tjoined_data_2016 = pd.merge(target_2016,prop_2016,on=\"parcelid\",how=\"left\")\n",
    "\tjoined_data_2017 = pd.merge(target_2017, prop_2017,on='parcelid',how='left')\n",
    "\n",
    "\tjoined_data = pd.concat([joined_data_2016,joined_data_2017])\n",
    "\n",
    "\t# convert dates:\n",
    "\tjoined_data.transactiondate = pd.to_datetime(joined_data.transactiondate,format=\"%Y-%m-%d\")\n",
    "\n",
    "\tjoined_data['transaction_mth'] = joined_data.transactiondate.apply(lambda x:x.month)\n",
    "\tjoined_data['transaction_yr'] = joined_data.transactiondate.apply(lambda x: x.year)\n",
    "\tjoined_data['transaction_day_of_wk'] = joined_data.transactiondate.apply(lambda x: x.dayofweek)\n",
    "\tjoined_data=joined_data.drop('transactiondate',axis=1)\n",
    "\n",
    "\n",
    "\t# save memory\n",
    "\tfor c, dtype in zip(joined_data.columns, joined_data.dtypes):\n",
    "\t\tif dtype == np.float64:\n",
    "\t\t\tjoined_data[c] = joined_data[c].astype(np.float32)\n",
    "    \n",
    "\tdel target_2016\n",
    "\tdel target_2017\n",
    "\tdel prop_2016\n",
    "\tdel prop_2017\n",
    "\n",
    "\tgc.collect()\n",
    "\t\n",
    "\n",
    "\tif sample_size is not None:\n",
    "\t\tlogging.info('Sampling: {} of data'.format(sample_size))\n",
    "\t\tjoined_data = joined_data.sample(frac=sample_size)\n",
    "\n",
    "\treturn joined_data, joined_data['logerror'].values\n"
   ]
  },
  {
   "cell_type": "code",
   "execution_count": 3,
   "metadata": {
    "collapsed": true
   },
   "outputs": [],
   "source": [
    "def drop_columns(data, drop_cols):\n",
    "\t# mostly null\n",
    "\tdata = data.drop(drop_cols, axis=1)\n",
    "\tdata.drop_duplicates(inplace = True)\n",
    "\n",
    "\treturn data"
   ]
  },
  {
   "cell_type": "code",
   "execution_count": 4,
   "metadata": {
    "collapsed": true
   },
   "outputs": [],
   "source": [
    "def columns_after_drop(numeric, categorical, drop_columns):\n",
    "\tnumeric = list(set(numeric) - (set(numeric) & set(drop_columns)))\n",
    "\tcategorical = list(set(categorical) - (set(categorical) & set(drop_columns)))\n",
    "\n",
    "\treturn numeric, categorical"
   ]
  },
  {
   "cell_type": "code",
   "execution_count": 5,
   "metadata": {
    "collapsed": true
   },
   "outputs": [],
   "source": [
    "def impute_numerical_var(joined_data, numerical_cols):\n",
    "\tlogging.info('Filling numeric NAs')\n",
    "\n",
    "\t# numerical vars\n",
    "\tnumerical_data = joined_data.copy().reset_index()\n",
    "\tnumerical_data = numerical_data[numerical_cols]\n",
    "\tnumerical_data_cols = numerical_data.columns\n",
    "\n",
    "\tnumeric_imp  = Imputer(strategy='median', axis=0)     \n",
    "\tnumerical_data = pd.DataFrame(numeric_imp.fit_transform(numerical_data.values), columns=numerical_data_cols)\n",
    "\n",
    "\treturn numerical_data,  {key:val for key,val in  zip(numerical_data_cols, numeric_imp.statistics_)}"
   ]
  },
  {
   "cell_type": "code",
   "execution_count": 6,
   "metadata": {
    "collapsed": true
   },
   "outputs": [],
   "source": [
    "def impute_categorical_var(joined_data, categorical_cols):\n",
    "\t# categorical vars\n",
    "\tcategorical_data = joined_data.copy().reset_index()\n",
    "\tcategorical_data  = categorical_data[categorical_cols]\n",
    "\n",
    "\tif 'hashottuborspa' in categorical_cols:\n",
    "\t\tcategorical_data['hashottuborspa']=categorical_data['hashottuborspa'].apply(lambda x: 1 if x == 'True' else 0)\n",
    "\n",
    "\tif 'taxdelinquencyflag' in categorical_cols:\n",
    "\t\tcategorical_data['taxdelinquencyflag']=categorical_data['hashottuborspa'].apply(lambda x: 1 if str(x).strip().lower() == 'y' else 0)\n",
    "\n",
    "\tfor c, dtype in zip(categorical_data.columns, categorical_data.dtypes):\n",
    "\t\tcategorical_data[c] = categorical_data[c].apply(lambda x: x if pd.isnull(x) else str(x))\n",
    "\n",
    "\tcategorical_data_cols = categorical_data.columns\n",
    "\n",
    "\tmost_frequent_lst = []\n",
    "    \n",
    "\tlogging.info('Using most frequent...')\n",
    "    \n",
    "\tfor col in categorical_data_cols:\n",
    "\t\tlogging.info(\"Filling NA: {}\".format(col))\n",
    "\t\t# logging.info(\"Filling NA: {}\".format(col))\n",
    "\t\tmk=categorical_data[col].notnull()\n",
    "\t\tvalue_counts = categorical_data[mk][col].value_counts()\n",
    "\t\tmost_frequent_lst.append(value_counts.index[0])\n",
    "\t\tcategorical_data[col].fillna(most_frequent_lst[-1], inplace=True)\n",
    "\n",
    "\treturn categorical_data, {key:val for key,val in zip(categorical_data_cols, most_frequent_lst)}"
   ]
  },
  {
   "cell_type": "code",
   "execution_count": 7,
   "metadata": {
    "collapsed": true
   },
   "outputs": [],
   "source": [
    "numeric_cols = ['assessmentyear','basementsqft',\t'bathroomcnt',\t'bedroomcnt',\t'calculatedbathnbr', \n",
    "                'calculatedfinishedsquarefeet',\t'finishedfloor1squarefeet',\t'finishedsquarefeet12',\n",
    "                'finishedsquarefeet13',\t'finishedsquarefeet15',\t'finishedsquarefeet50',\t'finishedsquarefeet6',\n",
    "                'fireplacecnt',\t'fullbathcnt',\t'garagecarcnt',\t'garagetotalsqft',\t'landtaxvaluedollarcnt',\n",
    "                'lotsizesquarefeet',\t'numberofstories',\t'poolcnt',\t'poolsizesum',\t'roomcnt',\n",
    "                'structuretaxvaluedollarcnt',\t'taxamount',\t'taxvaluedollarcnt',\t'threequarterbathnbr',\n",
    "                'unitcnt',\t'yardbuildingsqft17',\t'yardbuildingsqft26','transaction_day_of_wk','transaction_mth','transaction_yr',\n",
    "               'taxdelinquencyyear','yearbuilt','latitude','longitude']\n",
    "\n",
    "categorical_cols = ['airconditioningtypeid','architecturalstyletypeid','buildingclasstypeid','buildingqualitytypeid',\n",
    "'censustractandblock','decktypeid','fips','fireplaceflag','hashottuborspa',\n",
    " 'heatingorsystemtypeid','parcelid','pooltypeid10','pooltypeid2','pooltypeid7','propertycountylandusecode',\n",
    " 'propertylandusetypeid','propertyzoningdesc', 'rawcensustractandblock','regionidcity','regionidcounty','regionidneighborhood','regionidzip',\n",
    " 'storytypeid','taxdelinquencyflag','typeconstructiontypeid']\n",
    "\n",
    "drop_cols = ['buildingclasstypeid','propertyzoningdesc','garagetotalsqft',\t'garagecarcnt',\t'numberofstories',\t'poolcnt',\t'threequarterbathnbr',\t\n",
    "\t'fireplacecnt',\t'finishedfloor1squarefeet','finishedsquarefeet50','finishedsquarefeet15',\n",
    "\t'finishedsquarefeet12', 'yardbuildingsqft17',\t'poolsizesum',\t'finishedsquarefeet6',\t'yardbuildingsqft26',\t\n",
    "\t'basementsqft',\t'finishedsquarefeet13','assessmentyear','calculatedbathnbr','parcelid',\n",
    "\t'rawcensustractandblock', 'censustractandblock','regionidzip','regionidcounty','regionidcity','regionidneighborhood',\n",
    "\t'regionidneighborhood','taxvaluedollarcnt','buildingclasstypeid','fireplaceflag','storytypeid']\t"
   ]
  },
  {
   "cell_type": "code",
   "execution_count": 8,
   "metadata": {},
   "outputs": [
    {
     "name": "stderr",
     "output_type": "stream",
     "text": [
      "2017-10-10 15:32:11,427 Reading Properties 2016...\n",
      "/anaconda/lib/python3.6/site-packages/IPython/core/interactiveshell.py:2821: DtypeWarning: Columns (22,32,34,49,55) have mixed types. Specify dtype option on import or set low_memory=False.\n",
      "  if self.run_code(code, result):\n",
      "2017-10-10 15:32:34,804 Reading Properties 2017...\n",
      "/anaconda/lib/python3.6/site-packages/IPython/core/interactiveshell.py:2821: DtypeWarning: Columns (49) have mixed types. Specify dtype option on import or set low_memory=False.\n",
      "  if self.run_code(code, result):\n",
      "2017-10-10 15:32:57,430 Reading Train 2016...\n",
      "2017-10-10 15:32:57,504 Reading Train 2017..\n",
      "2017-10-10 15:32:57,573 Performing merge\n"
     ]
    }
   ],
   "source": [
    "joined_data, logerror_var = load_data(path_to_data='data')\n"
   ]
  },
  {
   "cell_type": "code",
   "execution_count": 9,
   "metadata": {},
   "outputs": [
    {
     "data": {
      "text/plain": [
       "(167888, 167888)"
      ]
     },
     "execution_count": 9,
     "metadata": {},
     "output_type": "execute_result"
    }
   ],
   "source": [
    "len(joined_data),len(logerror_var)"
   ]
  },
  {
   "cell_type": "code",
   "execution_count": 10,
   "metadata": {
    "collapsed": true
   },
   "outputs": [],
   "source": [
    "joined_data = drop_columns(joined_data, drop_cols)"
   ]
  },
  {
   "cell_type": "code",
   "execution_count": 11,
   "metadata": {
    "collapsed": true
   },
   "outputs": [],
   "source": [
    "# if you need to drop a column, add it to drop_cols\n",
    "numeric_cols, categorical_cols = columns_after_drop(numeric_cols, categorical_cols, drop_cols)"
   ]
  },
  {
   "cell_type": "code",
   "execution_count": 12,
   "metadata": {},
   "outputs": [
    {
     "name": "stderr",
     "output_type": "stream",
     "text": [
      "2017-10-10 15:33:22,631 Filling numeric NAs\n"
     ]
    }
   ],
   "source": [
    "numeric_data, imputations_numeric = impute_numerical_var(joined_data, numeric_cols)"
   ]
  },
  {
   "cell_type": "code",
   "execution_count": 13,
   "metadata": {},
   "outputs": [
    {
     "data": {
      "text/html": [
       "<div>\n",
       "<style>\n",
       "    .dataframe thead tr:only-child th {\n",
       "        text-align: right;\n",
       "    }\n",
       "\n",
       "    .dataframe thead th {\n",
       "        text-align: left;\n",
       "    }\n",
       "\n",
       "    .dataframe tbody tr th {\n",
       "        vertical-align: top;\n",
       "    }\n",
       "</style>\n",
       "<table border=\"1\" class=\"dataframe\">\n",
       "  <thead>\n",
       "    <tr style=\"text-align: right;\">\n",
       "      <th></th>\n",
       "      <th>taxdelinquencyyear</th>\n",
       "      <th>transaction_mth</th>\n",
       "      <th>lotsizesquarefeet</th>\n",
       "      <th>bedroomcnt</th>\n",
       "      <th>taxamount</th>\n",
       "      <th>bathroomcnt</th>\n",
       "      <th>transaction_day_of_wk</th>\n",
       "      <th>latitude</th>\n",
       "      <th>calculatedfinishedsquarefeet</th>\n",
       "      <th>unitcnt</th>\n",
       "      <th>structuretaxvaluedollarcnt</th>\n",
       "      <th>transaction_yr</th>\n",
       "      <th>roomcnt</th>\n",
       "      <th>longitude</th>\n",
       "      <th>landtaxvaluedollarcnt</th>\n",
       "      <th>fullbathcnt</th>\n",
       "      <th>yearbuilt</th>\n",
       "    </tr>\n",
       "  </thead>\n",
       "  <tbody>\n",
       "    <tr>\n",
       "      <th>0</th>\n",
       "      <td>14.0</td>\n",
       "      <td>1.0</td>\n",
       "      <td>7528.0</td>\n",
       "      <td>3.0</td>\n",
       "      <td>6735.879883</td>\n",
       "      <td>2.0</td>\n",
       "      <td>4.0</td>\n",
       "      <td>34280992.0</td>\n",
       "      <td>1684.0</td>\n",
       "      <td>1.0</td>\n",
       "      <td>122754.0</td>\n",
       "      <td>2016.0</td>\n",
       "      <td>0.0</td>\n",
       "      <td>-118488536.0</td>\n",
       "      <td>237416.0</td>\n",
       "      <td>2.0</td>\n",
       "      <td>1959.0</td>\n",
       "    </tr>\n",
       "    <tr>\n",
       "      <th>1</th>\n",
       "      <td>14.0</td>\n",
       "      <td>1.0</td>\n",
       "      <td>3643.0</td>\n",
       "      <td>4.0</td>\n",
       "      <td>10153.019531</td>\n",
       "      <td>3.5</td>\n",
       "      <td>4.0</td>\n",
       "      <td>33668120.0</td>\n",
       "      <td>2263.0</td>\n",
       "      <td>1.0</td>\n",
       "      <td>346458.0</td>\n",
       "      <td>2016.0</td>\n",
       "      <td>0.0</td>\n",
       "      <td>-117677552.0</td>\n",
       "      <td>239071.0</td>\n",
       "      <td>3.0</td>\n",
       "      <td>2014.0</td>\n",
       "    </tr>\n",
       "    <tr>\n",
       "      <th>2</th>\n",
       "      <td>14.0</td>\n",
       "      <td>1.0</td>\n",
       "      <td>11423.0</td>\n",
       "      <td>2.0</td>\n",
       "      <td>11484.480469</td>\n",
       "      <td>3.0</td>\n",
       "      <td>4.0</td>\n",
       "      <td>34136312.0</td>\n",
       "      <td>2217.0</td>\n",
       "      <td>1.0</td>\n",
       "      <td>61994.0</td>\n",
       "      <td>2016.0</td>\n",
       "      <td>0.0</td>\n",
       "      <td>-118175032.0</td>\n",
       "      <td>57912.0</td>\n",
       "      <td>3.0</td>\n",
       "      <td>1940.0</td>\n",
       "    </tr>\n",
       "    <tr>\n",
       "      <th>3</th>\n",
       "      <td>14.0</td>\n",
       "      <td>1.0</td>\n",
       "      <td>70859.0</td>\n",
       "      <td>2.0</td>\n",
       "      <td>3048.739990</td>\n",
       "      <td>2.0</td>\n",
       "      <td>5.0</td>\n",
       "      <td>33755800.0</td>\n",
       "      <td>839.0</td>\n",
       "      <td>1.0</td>\n",
       "      <td>171518.0</td>\n",
       "      <td>2016.0</td>\n",
       "      <td>0.0</td>\n",
       "      <td>-118309000.0</td>\n",
       "      <td>73362.0</td>\n",
       "      <td>2.0</td>\n",
       "      <td>1987.0</td>\n",
       "    </tr>\n",
       "    <tr>\n",
       "      <th>4</th>\n",
       "      <td>14.0</td>\n",
       "      <td>1.0</td>\n",
       "      <td>6000.0</td>\n",
       "      <td>4.0</td>\n",
       "      <td>5488.959961</td>\n",
       "      <td>2.5</td>\n",
       "      <td>5.0</td>\n",
       "      <td>33485644.0</td>\n",
       "      <td>2283.0</td>\n",
       "      <td>1.0</td>\n",
       "      <td>169574.0</td>\n",
       "      <td>2016.0</td>\n",
       "      <td>8.0</td>\n",
       "      <td>-117700232.0</td>\n",
       "      <td>264977.0</td>\n",
       "      <td>2.0</td>\n",
       "      <td>1981.0</td>\n",
       "    </tr>\n",
       "  </tbody>\n",
       "</table>\n",
       "</div>"
      ],
      "text/plain": [
       "   taxdelinquencyyear  transaction_mth  lotsizesquarefeet  bedroomcnt  \\\n",
       "0                14.0              1.0             7528.0         3.0   \n",
       "1                14.0              1.0             3643.0         4.0   \n",
       "2                14.0              1.0            11423.0         2.0   \n",
       "3                14.0              1.0            70859.0         2.0   \n",
       "4                14.0              1.0             6000.0         4.0   \n",
       "\n",
       "      taxamount  bathroomcnt  transaction_day_of_wk    latitude  \\\n",
       "0   6735.879883          2.0                    4.0  34280992.0   \n",
       "1  10153.019531          3.5                    4.0  33668120.0   \n",
       "2  11484.480469          3.0                    4.0  34136312.0   \n",
       "3   3048.739990          2.0                    5.0  33755800.0   \n",
       "4   5488.959961          2.5                    5.0  33485644.0   \n",
       "\n",
       "   calculatedfinishedsquarefeet  unitcnt  structuretaxvaluedollarcnt  \\\n",
       "0                        1684.0      1.0                    122754.0   \n",
       "1                        2263.0      1.0                    346458.0   \n",
       "2                        2217.0      1.0                     61994.0   \n",
       "3                         839.0      1.0                    171518.0   \n",
       "4                        2283.0      1.0                    169574.0   \n",
       "\n",
       "   transaction_yr  roomcnt    longitude  landtaxvaluedollarcnt  fullbathcnt  \\\n",
       "0          2016.0      0.0 -118488536.0               237416.0          2.0   \n",
       "1          2016.0      0.0 -117677552.0               239071.0          3.0   \n",
       "2          2016.0      0.0 -118175032.0                57912.0          3.0   \n",
       "3          2016.0      0.0 -118309000.0                73362.0          2.0   \n",
       "4          2016.0      8.0 -117700232.0               264977.0          2.0   \n",
       "\n",
       "   yearbuilt  \n",
       "0     1959.0  \n",
       "1     2014.0  \n",
       "2     1940.0  \n",
       "3     1987.0  \n",
       "4     1981.0  "
      ]
     },
     "execution_count": 13,
     "metadata": {},
     "output_type": "execute_result"
    }
   ],
   "source": [
    "numeric_data.head()"
   ]
  },
  {
   "cell_type": "code",
   "execution_count": 14,
   "metadata": {},
   "outputs": [
    {
     "data": {
      "text/plain": [
       "{'bathroomcnt': 2.0,\n",
       " 'bedroomcnt': 3.0,\n",
       " 'calculatedfinishedsquarefeet': 1541.0,\n",
       " 'fullbathcnt': 2.0,\n",
       " 'landtaxvaluedollarcnt': 197783.0,\n",
       " 'latitude': 34021700.0,\n",
       " 'longitude': -118176848.0,\n",
       " 'lotsizesquarefeet': 7200.0,\n",
       " 'roomcnt': 0.0,\n",
       " 'structuretaxvaluedollarcnt': 134048.0,\n",
       " 'taxamount': 4501.080078125,\n",
       " 'taxdelinquencyyear': 14.0,\n",
       " 'transaction_day_of_wk': 2.0,\n",
       " 'transaction_mth': 6.0,\n",
       " 'transaction_yr': 2016.0,\n",
       " 'unitcnt': 1.0,\n",
       " 'yearbuilt': 1970.0}"
      ]
     },
     "execution_count": 14,
     "metadata": {},
     "output_type": "execute_result"
    }
   ],
   "source": [
    "imputations_numeric"
   ]
  },
  {
   "cell_type": "code",
   "execution_count": 15,
   "metadata": {},
   "outputs": [
    {
     "name": "stderr",
     "output_type": "stream",
     "text": [
      "2017-10-10 15:33:26,307 Using most frequent...\n",
      "2017-10-10 15:33:26,308 Filling NA: pooltypeid10\n",
      "2017-10-10 15:33:26,429 Filling NA: decktypeid\n",
      "2017-10-10 15:33:26,448 Filling NA: taxdelinquencyflag\n",
      "2017-10-10 15:33:26,563 Filling NA: fips\n",
      "2017-10-10 15:33:26,671 Filling NA: propertylandusetypeid\n",
      "2017-10-10 15:33:26,767 Filling NA: architecturalstyletypeid\n",
      "2017-10-10 15:33:26,785 Filling NA: typeconstructiontypeid\n",
      "2017-10-10 15:33:26,804 Filling NA: pooltypeid7\n",
      "2017-10-10 15:33:26,849 Filling NA: airconditioningtypeid\n",
      "2017-10-10 15:33:26,904 Filling NA: heatingorsystemtypeid\n",
      "2017-10-10 15:33:26,978 Filling NA: buildingqualitytypeid\n",
      "2017-10-10 15:33:27,053 Filling NA: propertycountylandusecode\n",
      "2017-10-10 15:33:27,144 Filling NA: pooltypeid2\n",
      "2017-10-10 15:33:27,171 Filling NA: hashottuborspa\n"
     ]
    }
   ],
   "source": [
    "categorical_data, imputations_categorical = impute_categorical_var(joined_data, categorical_cols)"
   ]
  },
  {
   "cell_type": "code",
   "execution_count": 16,
   "metadata": {},
   "outputs": [
    {
     "data": {
      "text/html": [
       "<div>\n",
       "<style>\n",
       "    .dataframe thead tr:only-child th {\n",
       "        text-align: right;\n",
       "    }\n",
       "\n",
       "    .dataframe thead th {\n",
       "        text-align: left;\n",
       "    }\n",
       "\n",
       "    .dataframe tbody tr th {\n",
       "        vertical-align: top;\n",
       "    }\n",
       "</style>\n",
       "<table border=\"1\" class=\"dataframe\">\n",
       "  <thead>\n",
       "    <tr style=\"text-align: right;\">\n",
       "      <th></th>\n",
       "      <th>pooltypeid10</th>\n",
       "      <th>decktypeid</th>\n",
       "      <th>taxdelinquencyflag</th>\n",
       "      <th>fips</th>\n",
       "      <th>propertylandusetypeid</th>\n",
       "      <th>architecturalstyletypeid</th>\n",
       "      <th>typeconstructiontypeid</th>\n",
       "      <th>pooltypeid7</th>\n",
       "      <th>airconditioningtypeid</th>\n",
       "      <th>heatingorsystemtypeid</th>\n",
       "      <th>buildingqualitytypeid</th>\n",
       "      <th>propertycountylandusecode</th>\n",
       "      <th>pooltypeid2</th>\n",
       "      <th>hashottuborspa</th>\n",
       "    </tr>\n",
       "  </thead>\n",
       "  <tbody>\n",
       "    <tr>\n",
       "      <th>0</th>\n",
       "      <td>1.0</td>\n",
       "      <td>66.0</td>\n",
       "      <td>0</td>\n",
       "      <td>6037.0</td>\n",
       "      <td>261.0</td>\n",
       "      <td>7.0</td>\n",
       "      <td>6.0</td>\n",
       "      <td>1.0</td>\n",
       "      <td>1.0</td>\n",
       "      <td>2.0</td>\n",
       "      <td>4.0</td>\n",
       "      <td>0100</td>\n",
       "      <td>1.0</td>\n",
       "      <td>0</td>\n",
       "    </tr>\n",
       "    <tr>\n",
       "      <th>1</th>\n",
       "      <td>1.0</td>\n",
       "      <td>66.0</td>\n",
       "      <td>0</td>\n",
       "      <td>6059.0</td>\n",
       "      <td>261.0</td>\n",
       "      <td>7.0</td>\n",
       "      <td>6.0</td>\n",
       "      <td>1.0</td>\n",
       "      <td>1.0</td>\n",
       "      <td>2.0</td>\n",
       "      <td>7.0</td>\n",
       "      <td>1</td>\n",
       "      <td>1.0</td>\n",
       "      <td>0</td>\n",
       "    </tr>\n",
       "    <tr>\n",
       "      <th>2</th>\n",
       "      <td>1.0</td>\n",
       "      <td>66.0</td>\n",
       "      <td>0</td>\n",
       "      <td>6037.0</td>\n",
       "      <td>261.0</td>\n",
       "      <td>7.0</td>\n",
       "      <td>6.0</td>\n",
       "      <td>1.0</td>\n",
       "      <td>1.0</td>\n",
       "      <td>2.0</td>\n",
       "      <td>4.0</td>\n",
       "      <td>0100</td>\n",
       "      <td>1.0</td>\n",
       "      <td>0</td>\n",
       "    </tr>\n",
       "    <tr>\n",
       "      <th>3</th>\n",
       "      <td>1.0</td>\n",
       "      <td>66.0</td>\n",
       "      <td>0</td>\n",
       "      <td>6037.0</td>\n",
       "      <td>266.0</td>\n",
       "      <td>7.0</td>\n",
       "      <td>6.0</td>\n",
       "      <td>1.0</td>\n",
       "      <td>1.0</td>\n",
       "      <td>2.0</td>\n",
       "      <td>4.0</td>\n",
       "      <td>010C</td>\n",
       "      <td>1.0</td>\n",
       "      <td>0</td>\n",
       "    </tr>\n",
       "    <tr>\n",
       "      <th>4</th>\n",
       "      <td>1.0</td>\n",
       "      <td>66.0</td>\n",
       "      <td>0</td>\n",
       "      <td>6059.0</td>\n",
       "      <td>261.0</td>\n",
       "      <td>7.0</td>\n",
       "      <td>6.0</td>\n",
       "      <td>1.0</td>\n",
       "      <td>1.0</td>\n",
       "      <td>2.0</td>\n",
       "      <td>7.0</td>\n",
       "      <td>122</td>\n",
       "      <td>1.0</td>\n",
       "      <td>0</td>\n",
       "    </tr>\n",
       "  </tbody>\n",
       "</table>\n",
       "</div>"
      ],
      "text/plain": [
       "  pooltypeid10 decktypeid taxdelinquencyflag    fips propertylandusetypeid  \\\n",
       "0          1.0       66.0                  0  6037.0                 261.0   \n",
       "1          1.0       66.0                  0  6059.0                 261.0   \n",
       "2          1.0       66.0                  0  6037.0                 261.0   \n",
       "3          1.0       66.0                  0  6037.0                 266.0   \n",
       "4          1.0       66.0                  0  6059.0                 261.0   \n",
       "\n",
       "  architecturalstyletypeid typeconstructiontypeid pooltypeid7  \\\n",
       "0                      7.0                    6.0         1.0   \n",
       "1                      7.0                    6.0         1.0   \n",
       "2                      7.0                    6.0         1.0   \n",
       "3                      7.0                    6.0         1.0   \n",
       "4                      7.0                    6.0         1.0   \n",
       "\n",
       "  airconditioningtypeid heatingorsystemtypeid buildingqualitytypeid  \\\n",
       "0                   1.0                   2.0                   4.0   \n",
       "1                   1.0                   2.0                   7.0   \n",
       "2                   1.0                   2.0                   4.0   \n",
       "3                   1.0                   2.0                   4.0   \n",
       "4                   1.0                   2.0                   7.0   \n",
       "\n",
       "  propertycountylandusecode pooltypeid2 hashottuborspa  \n",
       "0                      0100         1.0              0  \n",
       "1                         1         1.0              0  \n",
       "2                      0100         1.0              0  \n",
       "3                      010C         1.0              0  \n",
       "4                       122         1.0              0  "
      ]
     },
     "execution_count": 16,
     "metadata": {},
     "output_type": "execute_result"
    }
   ],
   "source": [
    "categorical_data.head()"
   ]
  },
  {
   "cell_type": "code",
   "execution_count": 17,
   "metadata": {},
   "outputs": [
    {
     "data": {
      "text/plain": [
       "{'airconditioningtypeid': '1.0',\n",
       " 'architecturalstyletypeid': '7.0',\n",
       " 'buildingqualitytypeid': '7.0',\n",
       " 'decktypeid': '66.0',\n",
       " 'fips': '6037.0',\n",
       " 'hashottuborspa': '0',\n",
       " 'heatingorsystemtypeid': '2.0',\n",
       " 'pooltypeid10': '1.0',\n",
       " 'pooltypeid2': '1.0',\n",
       " 'pooltypeid7': '1.0',\n",
       " 'propertycountylandusecode': '0100',\n",
       " 'propertylandusetypeid': '261.0',\n",
       " 'taxdelinquencyflag': '0',\n",
       " 'typeconstructiontypeid': '6.0'}"
      ]
     },
     "execution_count": 17,
     "metadata": {},
     "output_type": "execute_result"
    }
   ],
   "source": [
    "imputations_categorical"
   ]
  },
  {
   "cell_type": "code",
   "execution_count": 18,
   "metadata": {
    "collapsed": true
   },
   "outputs": [],
   "source": [
    "cat_dummies = pd.get_dummies(categorical_data, drop_first=True)"
   ]
  },
  {
   "cell_type": "code",
   "execution_count": 19,
   "metadata": {
    "collapsed": true
   },
   "outputs": [],
   "source": [
    "joined_after_imputation = pd.concat([numeric_data,cat_dummies], axis=1)"
   ]
  },
  {
   "cell_type": "code",
   "execution_count": 20,
   "metadata": {},
   "outputs": [
    {
     "data": {
      "text/plain": [
       "167882"
      ]
     },
     "execution_count": 20,
     "metadata": {},
     "output_type": "execute_result"
    }
   ],
   "source": [
    "len(joined_after_imputation)"
   ]
  },
  {
   "cell_type": "code",
   "execution_count": 21,
   "metadata": {
    "collapsed": true,
    "scrolled": false
   },
   "outputs": [],
   "source": [
    "joined_after_imputation['logerror'] = pd.Series(logerror_var)"
   ]
  },
  {
   "cell_type": "code",
   "execution_count": 22,
   "metadata": {},
   "outputs": [
    {
     "data": {
      "text/html": [
       "<div>\n",
       "<style>\n",
       "    .dataframe thead tr:only-child th {\n",
       "        text-align: right;\n",
       "    }\n",
       "\n",
       "    .dataframe thead th {\n",
       "        text-align: left;\n",
       "    }\n",
       "\n",
       "    .dataframe tbody tr th {\n",
       "        vertical-align: top;\n",
       "    }\n",
       "</style>\n",
       "<table border=\"1\" class=\"dataframe\">\n",
       "  <thead>\n",
       "    <tr style=\"text-align: right;\">\n",
       "      <th></th>\n",
       "      <th>taxdelinquencyyear</th>\n",
       "      <th>transaction_mth</th>\n",
       "      <th>lotsizesquarefeet</th>\n",
       "      <th>bedroomcnt</th>\n",
       "      <th>taxamount</th>\n",
       "      <th>bathroomcnt</th>\n",
       "      <th>transaction_day_of_wk</th>\n",
       "      <th>latitude</th>\n",
       "      <th>calculatedfinishedsquarefeet</th>\n",
       "      <th>unitcnt</th>\n",
       "      <th>...</th>\n",
       "      <th>propertycountylandusecode_1720</th>\n",
       "      <th>propertycountylandusecode_1722</th>\n",
       "      <th>propertycountylandusecode_200</th>\n",
       "      <th>propertycountylandusecode_34</th>\n",
       "      <th>propertycountylandusecode_38</th>\n",
       "      <th>propertycountylandusecode_6050</th>\n",
       "      <th>propertycountylandusecode_73</th>\n",
       "      <th>propertycountylandusecode_8800</th>\n",
       "      <th>propertycountylandusecode_96</th>\n",
       "      <th>logerror</th>\n",
       "    </tr>\n",
       "  </thead>\n",
       "  <tbody>\n",
       "    <tr>\n",
       "      <th>0</th>\n",
       "      <td>14.0</td>\n",
       "      <td>1.0</td>\n",
       "      <td>7528.0</td>\n",
       "      <td>3.0</td>\n",
       "      <td>6735.879883</td>\n",
       "      <td>2.0</td>\n",
       "      <td>4.0</td>\n",
       "      <td>34280992.0</td>\n",
       "      <td>1684.0</td>\n",
       "      <td>1.0</td>\n",
       "      <td>...</td>\n",
       "      <td>0</td>\n",
       "      <td>0</td>\n",
       "      <td>0</td>\n",
       "      <td>0</td>\n",
       "      <td>0</td>\n",
       "      <td>0</td>\n",
       "      <td>0</td>\n",
       "      <td>0</td>\n",
       "      <td>0</td>\n",
       "      <td>0.0276</td>\n",
       "    </tr>\n",
       "    <tr>\n",
       "      <th>1</th>\n",
       "      <td>14.0</td>\n",
       "      <td>1.0</td>\n",
       "      <td>3643.0</td>\n",
       "      <td>4.0</td>\n",
       "      <td>10153.019531</td>\n",
       "      <td>3.5</td>\n",
       "      <td>4.0</td>\n",
       "      <td>33668120.0</td>\n",
       "      <td>2263.0</td>\n",
       "      <td>1.0</td>\n",
       "      <td>...</td>\n",
       "      <td>0</td>\n",
       "      <td>0</td>\n",
       "      <td>0</td>\n",
       "      <td>0</td>\n",
       "      <td>0</td>\n",
       "      <td>0</td>\n",
       "      <td>0</td>\n",
       "      <td>0</td>\n",
       "      <td>0</td>\n",
       "      <td>-0.1684</td>\n",
       "    </tr>\n",
       "    <tr>\n",
       "      <th>2</th>\n",
       "      <td>14.0</td>\n",
       "      <td>1.0</td>\n",
       "      <td>11423.0</td>\n",
       "      <td>2.0</td>\n",
       "      <td>11484.480469</td>\n",
       "      <td>3.0</td>\n",
       "      <td>4.0</td>\n",
       "      <td>34136312.0</td>\n",
       "      <td>2217.0</td>\n",
       "      <td>1.0</td>\n",
       "      <td>...</td>\n",
       "      <td>0</td>\n",
       "      <td>0</td>\n",
       "      <td>0</td>\n",
       "      <td>0</td>\n",
       "      <td>0</td>\n",
       "      <td>0</td>\n",
       "      <td>0</td>\n",
       "      <td>0</td>\n",
       "      <td>0</td>\n",
       "      <td>-0.0040</td>\n",
       "    </tr>\n",
       "    <tr>\n",
       "      <th>3</th>\n",
       "      <td>14.0</td>\n",
       "      <td>1.0</td>\n",
       "      <td>70859.0</td>\n",
       "      <td>2.0</td>\n",
       "      <td>3048.739990</td>\n",
       "      <td>2.0</td>\n",
       "      <td>5.0</td>\n",
       "      <td>33755800.0</td>\n",
       "      <td>839.0</td>\n",
       "      <td>1.0</td>\n",
       "      <td>...</td>\n",
       "      <td>0</td>\n",
       "      <td>0</td>\n",
       "      <td>0</td>\n",
       "      <td>0</td>\n",
       "      <td>0</td>\n",
       "      <td>0</td>\n",
       "      <td>0</td>\n",
       "      <td>0</td>\n",
       "      <td>0</td>\n",
       "      <td>0.0218</td>\n",
       "    </tr>\n",
       "    <tr>\n",
       "      <th>4</th>\n",
       "      <td>14.0</td>\n",
       "      <td>1.0</td>\n",
       "      <td>6000.0</td>\n",
       "      <td>4.0</td>\n",
       "      <td>5488.959961</td>\n",
       "      <td>2.5</td>\n",
       "      <td>5.0</td>\n",
       "      <td>33485644.0</td>\n",
       "      <td>2283.0</td>\n",
       "      <td>1.0</td>\n",
       "      <td>...</td>\n",
       "      <td>0</td>\n",
       "      <td>0</td>\n",
       "      <td>0</td>\n",
       "      <td>0</td>\n",
       "      <td>0</td>\n",
       "      <td>0</td>\n",
       "      <td>0</td>\n",
       "      <td>0</td>\n",
       "      <td>0</td>\n",
       "      <td>-0.0050</td>\n",
       "    </tr>\n",
       "  </tbody>\n",
       "</table>\n",
       "<p>5 rows × 157 columns</p>\n",
       "</div>"
      ],
      "text/plain": [
       "   taxdelinquencyyear  transaction_mth  lotsizesquarefeet  bedroomcnt  \\\n",
       "0                14.0              1.0             7528.0         3.0   \n",
       "1                14.0              1.0             3643.0         4.0   \n",
       "2                14.0              1.0            11423.0         2.0   \n",
       "3                14.0              1.0            70859.0         2.0   \n",
       "4                14.0              1.0             6000.0         4.0   \n",
       "\n",
       "      taxamount  bathroomcnt  transaction_day_of_wk    latitude  \\\n",
       "0   6735.879883          2.0                    4.0  34280992.0   \n",
       "1  10153.019531          3.5                    4.0  33668120.0   \n",
       "2  11484.480469          3.0                    4.0  34136312.0   \n",
       "3   3048.739990          2.0                    5.0  33755800.0   \n",
       "4   5488.959961          2.5                    5.0  33485644.0   \n",
       "\n",
       "   calculatedfinishedsquarefeet  unitcnt    ...     \\\n",
       "0                        1684.0      1.0    ...      \n",
       "1                        2263.0      1.0    ...      \n",
       "2                        2217.0      1.0    ...      \n",
       "3                         839.0      1.0    ...      \n",
       "4                        2283.0      1.0    ...      \n",
       "\n",
       "   propertycountylandusecode_1720  propertycountylandusecode_1722  \\\n",
       "0                               0                               0   \n",
       "1                               0                               0   \n",
       "2                               0                               0   \n",
       "3                               0                               0   \n",
       "4                               0                               0   \n",
       "\n",
       "   propertycountylandusecode_200  propertycountylandusecode_34  \\\n",
       "0                              0                             0   \n",
       "1                              0                             0   \n",
       "2                              0                             0   \n",
       "3                              0                             0   \n",
       "4                              0                             0   \n",
       "\n",
       "   propertycountylandusecode_38  propertycountylandusecode_6050  \\\n",
       "0                             0                               0   \n",
       "1                             0                               0   \n",
       "2                             0                               0   \n",
       "3                             0                               0   \n",
       "4                             0                               0   \n",
       "\n",
       "   propertycountylandusecode_73  propertycountylandusecode_8800  \\\n",
       "0                             0                               0   \n",
       "1                             0                               0   \n",
       "2                             0                               0   \n",
       "3                             0                               0   \n",
       "4                             0                               0   \n",
       "\n",
       "   propertycountylandusecode_96  logerror  \n",
       "0                             0    0.0276  \n",
       "1                             0   -0.1684  \n",
       "2                             0   -0.0040  \n",
       "3                             0    0.0218  \n",
       "4                             0   -0.0050  \n",
       "\n",
       "[5 rows x 157 columns]"
      ]
     },
     "execution_count": 22,
     "metadata": {},
     "output_type": "execute_result"
    }
   ],
   "source": [
    "joined_after_imputation.head()"
   ]
  },
  {
   "cell_type": "markdown",
   "metadata": {},
   "source": [
    "## Feature importance"
   ]
  },
  {
   "cell_type": "code",
   "execution_count": 23,
   "metadata": {
    "collapsed": true
   },
   "outputs": [],
   "source": [
    "from sklearn.model_selection import train_test_split"
   ]
  },
  {
   "cell_type": "code",
   "execution_count": 24,
   "metadata": {
    "collapsed": true
   },
   "outputs": [],
   "source": [
    "X_train, X_test, y_train, y_test = train_test_split(joined_after_imputation.drop('logerror', axis=1).values,\n",
    "                                                    joined_after_imputation['logerror'].values,\n",
    "                                                    test_size=0.2, random_state=4)"
   ]
  },
  {
   "cell_type": "code",
   "execution_count": 25,
   "metadata": {},
   "outputs": [
    {
     "data": {
      "text/plain": [
       "(134305, 33577)"
      ]
     },
     "execution_count": 25,
     "metadata": {},
     "output_type": "execute_result"
    }
   ],
   "source": [
    "len(X_train), len(X_test)"
   ]
  },
  {
   "cell_type": "code",
   "execution_count": 26,
   "metadata": {},
   "outputs": [
    {
     "data": {
      "text/plain": [
       "(134305, 156)"
      ]
     },
     "execution_count": 26,
     "metadata": {},
     "output_type": "execute_result"
    }
   ],
   "source": [
    "X_train.shape"
   ]
  },
  {
   "cell_type": "code",
   "execution_count": 27,
   "metadata": {
    "collapsed": true
   },
   "outputs": [],
   "source": [
    "from sklearn.linear_model import Lasso"
   ]
  },
  {
   "cell_type": "code",
   "execution_count": 28,
   "metadata": {},
   "outputs": [
    {
     "data": {
      "text/plain": [
       "156"
      ]
     },
     "execution_count": 28,
     "metadata": {},
     "output_type": "execute_result"
    }
   ],
   "source": [
    "all_vars = [col for col in joined_after_imputation.drop('logerror', axis=1).columns]\n",
    "len(all_vars)"
   ]
  },
  {
   "cell_type": "code",
   "execution_count": 29,
   "metadata": {
    "collapsed": true
   },
   "outputs": [],
   "source": [
    "lasso_reg = Lasso(alpha=0.0001)"
   ]
  },
  {
   "cell_type": "code",
   "execution_count": 30,
   "metadata": {},
   "outputs": [
    {
     "data": {
      "text/plain": [
       "Lasso(alpha=0.0001, copy_X=True, fit_intercept=True, max_iter=1000,\n",
       "   normalize=False, positive=False, precompute=False, random_state=None,\n",
       "   selection='cyclic', tol=0.0001, warm_start=False)"
      ]
     },
     "execution_count": 30,
     "metadata": {},
     "output_type": "execute_result"
    }
   ],
   "source": [
    "lasso_reg.fit(X_train, y_train)"
   ]
  },
  {
   "cell_type": "code",
   "execution_count": 31,
   "metadata": {
    "collapsed": true,
    "scrolled": false
   },
   "outputs": [],
   "source": [
    "all_var_dict = {var:coeff for var,coeff in zip(all_vars, lasso_reg.coef_) if coeff != 0}\n",
    "all_var_dict=sorted(all_var_dict.items(), key=lambda x: np.abs(x[1]))"
   ]
  },
  {
   "cell_type": "code",
   "execution_count": 32,
   "metadata": {},
   "outputs": [
    {
     "data": {
      "text/plain": [
       "[('longitude', 1.3933486993596964e-09),\n",
       " ('lotsizesquarefeet', -3.031127353872585e-09),\n",
       " ('landtaxvaluedollarcnt', -3.4115444162655875e-09),\n",
       " ('latitude', 3.9809732374193372e-09),\n",
       " ('structuretaxvaluedollarcnt', 5.7544000356620697e-09),\n",
       " ('taxamount', 5.3131712147494121e-08),\n",
       " ('calculatedfinishedsquarefeet', -4.1176225065170676e-07),\n",
       " ('yearbuilt', -5.1304358852944771e-05),\n",
       " ('roomcnt', 0.0001127179225120754),\n",
       " ('buildingqualitytypeid_8.0', 0.00015320774245032365),\n",
       " ('propertycountylandusecode_0100', -0.00017652291615917259),\n",
       " ('unitcnt', 0.00026809945905595703),\n",
       " ('transaction_mth', 0.00039801918321146244),\n",
       " ('propertycountylandusecode_122', 0.0004347999300523306),\n",
       " ('transaction_day_of_wk', -0.00044042598119878892),\n",
       " ('bedroomcnt', 0.00070204102442653906),\n",
       " ('buildingqualitytypeid_6.0', -0.0013475501172625234),\n",
       " ('heatingorsystemtypeid_7.0', 0.0017550960504351357),\n",
       " ('propertycountylandusecode_010C', 0.00218121903654036),\n",
       " ('buildingqualitytypeid_4.0', -0.0024976555175130568),\n",
       " ('transaction_yr', 0.0052816261968012665)]"
      ]
     },
     "execution_count": 32,
     "metadata": {},
     "output_type": "execute_result"
    }
   ],
   "source": [
    "all_var_dict"
   ]
  },
  {
   "cell_type": "code",
   "execution_count": 34,
   "metadata": {},
   "outputs": [
    {
     "data": {
      "text/plain": [
       "['longitude',\n",
       " 'lotsizesquarefeet',\n",
       " 'landtaxvaluedollarcnt',\n",
       " 'latitude',\n",
       " 'structuretaxvaluedollarcnt',\n",
       " 'taxamount',\n",
       " 'calculatedfinishedsquarefeet',\n",
       " 'yearbuilt',\n",
       " 'roomcnt',\n",
       " 'buildingqualitytypeid_8.0',\n",
       " 'propertycountylandusecode_0100',\n",
       " 'unitcnt',\n",
       " 'transaction_mth',\n",
       " 'propertycountylandusecode_122',\n",
       " 'transaction_day_of_wk',\n",
       " 'bedroomcnt',\n",
       " 'buildingqualitytypeid_6.0',\n",
       " 'heatingorsystemtypeid_7.0',\n",
       " 'propertycountylandusecode_010C',\n",
       " 'buildingqualitytypeid_4.0',\n",
       " 'transaction_yr',\n",
       " 'logerror']"
      ]
     },
     "execution_count": 34,
     "metadata": {},
     "output_type": "execute_result"
    }
   ],
   "source": [
    "all_var = [var for var, _ in all_var_dict]\n",
    "all_var.insert(len(all_var), 'logerror')\n",
    "all_var"
   ]
  },
  {
   "cell_type": "code",
   "execution_count": 35,
   "metadata": {
    "collapsed": true
   },
   "outputs": [],
   "source": [
    "joined_after_imputation[all_var].to_csv('data/train-ml_v2.csv', index=False)"
   ]
  },
  {
   "cell_type": "code",
   "execution_count": null,
   "metadata": {
    "collapsed": true
   },
   "outputs": [],
   "source": []
  }
 ],
 "metadata": {
  "kernelspec": {
   "display_name": "Python 3",
   "language": "python",
   "name": "python3"
  },
  "language_info": {
   "codemirror_mode": {
    "name": "ipython",
    "version": 3
   },
   "file_extension": ".py",
   "mimetype": "text/x-python",
   "name": "python",
   "nbconvert_exporter": "python",
   "pygments_lexer": "ipython3",
   "version": "3.6.1"
  }
 },
 "nbformat": 4,
 "nbformat_minor": 2
}
