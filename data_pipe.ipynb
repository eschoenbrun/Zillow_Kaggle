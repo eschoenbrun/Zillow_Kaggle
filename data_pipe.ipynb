{
 "cells": [
  {
   "cell_type": "code",
   "execution_count": 1,
   "metadata": {
    "collapsed": true
   },
   "outputs": [],
   "source": [
    "import pandas as pd\n",
    "import numpy as np\n",
    "import gc \n",
    "\n",
    "import logging\n",
    "\n",
    "logging.basicConfig(format='%(asctime)s %(message)s', level=logging.INFO)\n",
    "\n",
    "\n",
    "from sklearn.base import BaseEstimator, TransformerMixin\n",
    "from sklearn.preprocessing import Imputer"
   ]
  },
  {
   "cell_type": "code",
   "execution_count": 2,
   "metadata": {
    "collapsed": true
   },
   "outputs": [],
   "source": [
    "# https://www.kaggle.com/arjanso/reducing-dataframe-memory-size-by-65\n",
    "\n",
    "def reduce_mem_usage(props):\n",
    "    start_mem_usg = props.memory_usage().sum() / 1024**2 \n",
    "    logging.debug(\"Memory usage of properties dataframe is :\",start_mem_usg,\" MB\")\n",
    "    NAlist = [] # Keeps track of columns that have missing values filled in. \n",
    "    for col in props.columns:\n",
    "        if props[col].dtype != object:  # Exclude strings\n",
    "            \n",
    "            # logging.debug current column type\n",
    "            logging.debug(\"******************************\")\n",
    "            logging.debug(\"Column: \",col)\n",
    "            logging.debug(\"dtype before: \",props[col].dtype)\n",
    "            \n",
    "            # make variables for Int, max and min\n",
    "            IsInt = False\n",
    "            mx = props[col].max()\n",
    "            mn = props[col].min()\n",
    "            \n",
    "            # Integer does not support NA, therefore, NA needs to be filled\n",
    "            if not np.isfinite(props[col]).all(): \n",
    "                NAlist.append(col)\n",
    "                props[col].fillna(mn-1,inplace=True)  \n",
    "                   \n",
    "            # test if column can be converted to an integer\n",
    "            asint = props[col].fillna(0).astype(np.int64)\n",
    "            result = (props[col] - asint)\n",
    "            result = result.sum()\n",
    "            if result > -0.01 and result < 0.01:\n",
    "                IsInt = True\n",
    "\n",
    "            \n",
    "            # Make Integer/unsigned Integer datatypes\n",
    "            if IsInt:\n",
    "                if mn >= 0:\n",
    "                    if mx < 255:\n",
    "                        props[col] = props[col].astype(np.uint8)\n",
    "                    elif mx < 65535:\n",
    "                        props[col] = props[col].astype(np.uint16)\n",
    "                    elif mx < 4294967295:\n",
    "                        props[col] = props[col].astype(np.uint32)\n",
    "                    else:\n",
    "                        props[col] = props[col].astype(np.uint64)\n",
    "                else:\n",
    "                    if mn > np.iinfo(np.int8).min and mx < np.iinfo(np.int8).max:\n",
    "                        props[col] = props[col].astype(np.int8)\n",
    "                    elif mn > np.iinfo(np.int16).min and mx < np.iinfo(np.int16).max:\n",
    "                        props[col] = props[col].astype(np.int16)\n",
    "                    elif mn > np.iinfo(np.int32).min and mx < np.iinfo(np.int32).max:\n",
    "                        props[col] = props[col].astype(np.int32)\n",
    "                    elif mn > np.iinfo(np.int64).min and mx < np.iinfo(np.int64).max:\n",
    "                        props[col] = props[col].astype(np.int64)    \n",
    "            \n",
    "            # Make float datatypes 32 bit\n",
    "            else:\n",
    "                props[col] = props[col].astype(np.float32)\n",
    "            \n",
    "            # logging.debug new column type\n",
    "            logging.debug(\"dtype after: \",props[col].dtype)\n",
    "            logging.debug(\"******************************\")\n",
    "    \n",
    "    # logging.debug final result\n",
    "    logging.debug(\"___MEMORY USAGE AFTER COMPLETION:___\")\n",
    "    mem_usg = props.memory_usage().sum() / 1024**2 \n",
    "    logging.debug(\"Memory usage is: \",mem_usg,\" MB\")\n",
    "    logging.debug(\"This is \",100*mem_usg/start_mem_usg,\"% of the initial size\")\n",
    "    return props, NAlist"
   ]
  },
  {
   "cell_type": "code",
   "execution_count": 3,
   "metadata": {
    "collapsed": true
   },
   "outputs": [],
   "source": [
    "def load_data(path_to_data='data', sample_size = None):\n",
    "    logging.info('Reading Properties 2016...')\n",
    "    prop_2016 = pd.read_csv('{}/properties_2016.csv'.format(path_to_data))\n",
    "    \n",
    "    logging.info('Reading Properties 2017...')\n",
    "    prop_2017 = pd.read_csv('{}/properties_2017.csv'.format(path_to_data))\n",
    "    \n",
    "    logging.info('Reading Train 2016...')\n",
    "    target_2016 = pd.read_csv('{}/train_2016_v2.csv'.format(path_to_data))\n",
    "    \n",
    "    logging.info('Reading Train 2017..')\n",
    "    target_2017 = pd.read_csv('{}/train_2017.csv'.format(path_to_data))\n",
    "    \n",
    "    logging.info('Performing merge')\n",
    "    joined_data_2016 = pd.merge(target_2016,prop_2016,on=\"parcelid\",how=\"left\")\n",
    "    joined_data_2017 = pd.merge(target_2017, prop_2017,on='parcelid',how='left')\n",
    "\n",
    "    joined_data = pd.concat([joined_data_2016,joined_data_2017])\n",
    "\n",
    "    # convert dates:\n",
    "    joined_data.transactiondate = pd.to_datetime(joined_data.transactiondate,format=\"%Y-%m-%d\")\n",
    "\n",
    "    joined_data['transaction_mth'] = joined_data.transactiondate.apply(lambda x:x.month)\n",
    "    joined_data['transaction_yr'] = joined_data.transactiondate.apply(lambda x: x.year)\n",
    "    joined_data['transaction_day_of_wk'] = joined_data.transactiondate.apply(lambda x: x.dayofweek)\n",
    "    joined_data=joined_data.drop('transactiondate',axis=1)\n",
    "\n",
    "\n",
    "    # save memory\n",
    "    for c, dtype in zip(joined_data.columns, joined_data.dtypes):\n",
    "        if dtype == np.float64:\n",
    "            joined_data[c] = joined_data[c].astype(np.float32)\n",
    "    \n",
    "    del target_2016\n",
    "    del target_2017\n",
    "    del prop_2016\n",
    "    del prop_2017\n",
    "\n",
    "    gc.collect()\n",
    "    \n",
    "\n",
    "    if sample_size is not None:\n",
    "        logging.info('Sampling: {} of data'.format(sample_size))\n",
    "        joined_data = joined_data.sample(frac=sample_size)\n",
    "\n",
    "    return joined_data, joined_data['logerror'].values\n"
   ]
  },
  {
   "cell_type": "code",
   "execution_count": 4,
   "metadata": {
    "collapsed": true
   },
   "outputs": [],
   "source": [
    "def drop_columns(data, drop_cols):\n",
    "\t# mostly null\n",
    "\tdata = data.drop(drop_cols, axis=1)\n",
    "\tdata.drop_duplicates(inplace = True)\n",
    "\n",
    "\treturn data"
   ]
  },
  {
   "cell_type": "code",
   "execution_count": 5,
   "metadata": {
    "collapsed": true
   },
   "outputs": [],
   "source": [
    "def columns_after_drop(numeric, categorical, drop_columns):\n",
    "\tnumeric = list(set(numeric) - (set(numeric) & set(drop_columns)))\n",
    "\tcategorical = list(set(categorical) - (set(categorical) & set(drop_columns)))\n",
    "\n",
    "\treturn numeric, categorical"
   ]
  },
  {
   "cell_type": "code",
   "execution_count": 6,
   "metadata": {
    "collapsed": true
   },
   "outputs": [],
   "source": [
    "def impute_numerical_var(joined_data, numerical_cols, imputation_num=None):\n",
    "    logging.info('Filling numeric NAs')\n",
    "    \n",
    "    \n",
    "    \n",
    "    if bool(imputation_num):\n",
    "        numerical_data = joined_data.copy().reset_index()\n",
    "        numerical_data = numerical_data[numerical_cols]\n",
    "        numerical_data_cols = numerical_data.columns\n",
    "        \n",
    "        for col,val in imputation_num.items():\n",
    "            logging.info(\"Filling NA: {}\".format(col))\n",
    "            numerical_data[col].fillna(val, inplace=True)\n",
    "        \n",
    "        return numerical_data\n",
    "    \n",
    "    else:\n",
    "        median_lst = []\n",
    "    # numerical vars\n",
    "        numerical_data = joined_data.copy().reset_index()\n",
    "        numerical_data = numerical_data[numerical_cols]\n",
    "        numerical_data_cols = numerical_data.columns\n",
    "        \n",
    "        for col in numerical_data_cols:\n",
    "            logging.info(\"2. Filling NA: {}\".format(col))\n",
    "            median_lst.append(numerical_data[col].median())\n",
    "            numerical_data[col].fillna(median_lst[-1], inplace=True)\n",
    "\n",
    "        return numerical_data, {key:val for key,val in zip(numeric_cols, median_lst)}"
   ]
  },
  {
   "cell_type": "code",
   "execution_count": 15,
   "metadata": {
    "collapsed": true
   },
   "outputs": [],
   "source": [
    "def impute_categorical_var(joined_data, categorical_cols, imputation_cat=None):\n",
    "    # categorical vars\n",
    "    categorical_data = joined_data.copy().reset_index()\n",
    "    categorical_data  = categorical_data[categorical_cols]\n",
    "\n",
    "    print(len(categorical_data))\n",
    "    \n",
    "    if 'hashottuborspa' in categorical_cols:\n",
    "        categorical_data['hashottuborspa']=categorical_data['hashottuborspa'].apply(lambda x: 1 if str(x).strip().lower() == 'true' else 0)\n",
    "\n",
    "    if 'taxdelinquencyflag' in categorical_cols:\n",
    "        categorical_data['taxdelinquencyflag']=categorical_data['taxdelinquencyflag'].apply(lambda x: 1 if str(x).strip().lower() == 'y' else 0)\n",
    "\n",
    "    for c, dtype in zip(categorical_data.columns, categorical_data.dtypes):\n",
    "        categorical_data[c] = categorical_data[c].apply(lambda x: x if pd.isnull(x) else str(x))\n",
    "                                                        \n",
    "    if bool(imputation_cat):\n",
    "        for col,val in imputation_cat.items():\n",
    "            logging.info(\"Filling NA: {}\".format(col))\n",
    "            categorical_data[col].fillna(val, inplace=True)\n",
    "            \n",
    "        return categorical_data\n",
    "\n",
    "    else:\n",
    "        \n",
    "        categorical_data_cols = categorical_data.columns\n",
    "\n",
    "        most_frequent_lst = []\n",
    "\n",
    "        logging.info('Using most frequent...')\n",
    "\n",
    "        for col in categorical_data_cols:\n",
    "            logging.info(\"Filling NA: {}\".format(col))\n",
    "            # logging.info(\"Filling NA: {}\".format(col))\n",
    "            mk=categorical_data[col].notnull()\n",
    "            value_counts = categorical_data[mk][col].value_counts()\n",
    "            most_frequent_lst.append(value_counts.index[0])\n",
    "            categorical_data[col].fillna(most_frequent_lst[-1], inplace=True)\n",
    "\n",
    "        return categorical_data, {key:val for key,val in zip(categorical_data_cols, most_frequent_lst)}"
   ]
  },
  {
   "cell_type": "code",
   "execution_count": 29,
   "metadata": {
    "collapsed": true
   },
   "outputs": [],
   "source": [
    "numeric_cols = ['assessmentyear','basementsqft',\t'bathroomcnt',\t'bedroomcnt',\t'calculatedbathnbr', \n",
    "                'calculatedfinishedsquarefeet',\t'finishedfloor1squarefeet',\t'finishedsquarefeet12',\n",
    "                'finishedsquarefeet13',\t'finishedsquarefeet15',\t'finishedsquarefeet50',\t'finishedsquarefeet6',\n",
    "                'fireplacecnt',\t'fullbathcnt',\t'garagecarcnt',\t'garagetotalsqft',\t'landtaxvaluedollarcnt',\n",
    "                'lotsizesquarefeet',\t'numberofstories',\t'poolcnt',\t'poolsizesum',\t'roomcnt',\n",
    "                'structuretaxvaluedollarcnt',\t'taxamount',\t'taxvaluedollarcnt',\t'threequarterbathnbr',\n",
    "                'unitcnt',\t'yardbuildingsqft17',\t'yardbuildingsqft26','taxdelinquencyyear','yearbuilt','latitude','longitude']\n",
    "\n",
    "categorical_cols = ['airconditioningtypeid','architecturalstyletypeid','buildingclasstypeid','buildingqualitytypeid',\n",
    "'censustractandblock','decktypeid','fips','fireplaceflag','hashottuborspa',\n",
    " 'heatingorsystemtypeid','parcelid','pooltypeid10','pooltypeid2','pooltypeid7','propertycountylandusecode',\n",
    " 'propertylandusetypeid','propertyzoningdesc', 'rawcensustractandblock','regionidcity','regionidcounty','regionidneighborhood','regionidzip',\n",
    " 'storytypeid','taxdelinquencyflag','typeconstructiontypeid']\n",
    "\n",
    "drop_cols = ['buildingclasstypeid','propertyzoningdesc','garagetotalsqft',\t'garagecarcnt',\t'numberofstories',\t'poolcnt',\t'threequarterbathnbr',\t\n",
    "\t'fireplacecnt',\t'finishedfloor1squarefeet','finishedsquarefeet50','finishedsquarefeet15',\n",
    "\t'finishedsquarefeet12', 'yardbuildingsqft17',\t'poolsizesum',\t'finishedsquarefeet6',\t'yardbuildingsqft26',\t\n",
    "\t'basementsqft',\t'finishedsquarefeet13','assessmentyear','calculatedbathnbr','parcelid',\n",
    "\t'rawcensustractandblock', 'censustractandblock','regionidzip','regionidcounty','regionidcity','regionidneighborhood',\n",
    "\t'regionidneighborhood','taxvaluedollarcnt','buildingclasstypeid','fireplaceflag','storytypeid','structuretaxvaluedollarcnt']\t"
   ]
  },
  {
   "cell_type": "code",
   "execution_count": 62,
   "metadata": {},
   "outputs": [
    {
     "name": "stderr",
     "output_type": "stream",
     "text": [
      "2017-10-16 22:48:02,526 Reading Properties 2016...\n",
      "/anaconda/lib/python3.6/site-packages/IPython/core/interactiveshell.py:2821: DtypeWarning: Columns (22,32,34,49,55) have mixed types. Specify dtype option on import or set low_memory=False.\n",
      "  if self.run_code(code, result):\n",
      "2017-10-16 22:48:26,371 Reading Properties 2017...\n",
      "/anaconda/lib/python3.6/site-packages/IPython/core/interactiveshell.py:2821: DtypeWarning: Columns (49) have mixed types. Specify dtype option on import or set low_memory=False.\n",
      "  if self.run_code(code, result):\n",
      "2017-10-16 22:48:47,589 Reading Train 2016...\n",
      "2017-10-16 22:48:47,666 Reading Train 2017..\n",
      "2017-10-16 22:48:47,720 Performing merge\n"
     ]
    }
   ],
   "source": [
    "joined_data, logerror_var = load_data(path_to_data='data')\n"
   ]
  },
  {
   "cell_type": "code",
   "execution_count": 63,
   "metadata": {},
   "outputs": [],
   "source": [
    "joined_data = drop_columns(joined_data, drop_cols)"
   ]
  },
  {
   "cell_type": "code",
   "execution_count": 64,
   "metadata": {
    "collapsed": true
   },
   "outputs": [],
   "source": [
    "# if you need to drop a column, add it to drop_cols\n",
    "numeric_cols, categorical_cols = columns_after_drop(numeric_cols, categorical_cols, drop_cols)"
   ]
  },
  {
   "cell_type": "code",
   "execution_count": 65,
   "metadata": {},
   "outputs": [
    {
     "name": "stderr",
     "output_type": "stream",
     "text": [
      "2017-10-16 22:49:14,469 Filling numeric NAs\n",
      "2017-10-16 22:49:14,518 2. Filling NA: bedroomcnt\n",
      "2017-10-16 22:49:14,571 2. Filling NA: unitcnt\n",
      "2017-10-16 22:49:14,612 2. Filling NA: taxamount\n",
      "2017-10-16 22:49:14,651 2. Filling NA: longitude\n",
      "2017-10-16 22:49:14,691 2. Filling NA: roomcnt\n",
      "2017-10-16 22:49:14,729 2. Filling NA: landtaxvaluedollarcnt\n",
      "2017-10-16 22:49:14,767 2. Filling NA: taxdelinquencyyear\n",
      "2017-10-16 22:49:14,808 2. Filling NA: fullbathcnt\n",
      "2017-10-16 22:49:14,853 2. Filling NA: lotsizesquarefeet\n",
      "2017-10-16 22:49:14,893 2. Filling NA: yearbuilt\n",
      "2017-10-16 22:49:14,933 2. Filling NA: latitude\n",
      "2017-10-16 22:49:14,974 2. Filling NA: calculatedfinishedsquarefeet\n",
      "2017-10-16 22:49:15,014 2. Filling NA: bathroomcnt\n"
     ]
    }
   ],
   "source": [
    "numeric_data, imputations_numeric = impute_numerical_var(joined_data, numeric_cols)"
   ]
  },
  {
   "cell_type": "code",
   "execution_count": 66,
   "metadata": {},
   "outputs": [
    {
     "data": {
      "text/html": [
       "<div>\n",
       "<style>\n",
       "    .dataframe thead tr:only-child th {\n",
       "        text-align: right;\n",
       "    }\n",
       "\n",
       "    .dataframe thead th {\n",
       "        text-align: left;\n",
       "    }\n",
       "\n",
       "    .dataframe tbody tr th {\n",
       "        vertical-align: top;\n",
       "    }\n",
       "</style>\n",
       "<table border=\"1\" class=\"dataframe\">\n",
       "  <thead>\n",
       "    <tr style=\"text-align: right;\">\n",
       "      <th></th>\n",
       "      <th>bedroomcnt</th>\n",
       "      <th>unitcnt</th>\n",
       "      <th>taxamount</th>\n",
       "      <th>longitude</th>\n",
       "      <th>roomcnt</th>\n",
       "      <th>landtaxvaluedollarcnt</th>\n",
       "      <th>taxdelinquencyyear</th>\n",
       "      <th>fullbathcnt</th>\n",
       "      <th>lotsizesquarefeet</th>\n",
       "      <th>yearbuilt</th>\n",
       "      <th>latitude</th>\n",
       "      <th>calculatedfinishedsquarefeet</th>\n",
       "      <th>bathroomcnt</th>\n",
       "    </tr>\n",
       "  </thead>\n",
       "  <tbody>\n",
       "    <tr>\n",
       "      <th>0</th>\n",
       "      <td>3.0</td>\n",
       "      <td>1.0</td>\n",
       "      <td>6735.879883</td>\n",
       "      <td>-118488536.0</td>\n",
       "      <td>0.0</td>\n",
       "      <td>237416.0</td>\n",
       "      <td>14.0</td>\n",
       "      <td>2.0</td>\n",
       "      <td>7528.0</td>\n",
       "      <td>1959.0</td>\n",
       "      <td>34280992.0</td>\n",
       "      <td>1684.0</td>\n",
       "      <td>2.0</td>\n",
       "    </tr>\n",
       "    <tr>\n",
       "      <th>1</th>\n",
       "      <td>4.0</td>\n",
       "      <td>1.0</td>\n",
       "      <td>10153.019531</td>\n",
       "      <td>-117677552.0</td>\n",
       "      <td>0.0</td>\n",
       "      <td>239071.0</td>\n",
       "      <td>14.0</td>\n",
       "      <td>3.0</td>\n",
       "      <td>3643.0</td>\n",
       "      <td>2014.0</td>\n",
       "      <td>33668120.0</td>\n",
       "      <td>2263.0</td>\n",
       "      <td>3.5</td>\n",
       "    </tr>\n",
       "    <tr>\n",
       "      <th>2</th>\n",
       "      <td>2.0</td>\n",
       "      <td>1.0</td>\n",
       "      <td>11484.480469</td>\n",
       "      <td>-118175032.0</td>\n",
       "      <td>0.0</td>\n",
       "      <td>57912.0</td>\n",
       "      <td>14.0</td>\n",
       "      <td>3.0</td>\n",
       "      <td>11423.0</td>\n",
       "      <td>1940.0</td>\n",
       "      <td>34136312.0</td>\n",
       "      <td>2217.0</td>\n",
       "      <td>3.0</td>\n",
       "    </tr>\n",
       "    <tr>\n",
       "      <th>3</th>\n",
       "      <td>2.0</td>\n",
       "      <td>1.0</td>\n",
       "      <td>3048.739990</td>\n",
       "      <td>-118309000.0</td>\n",
       "      <td>0.0</td>\n",
       "      <td>73362.0</td>\n",
       "      <td>14.0</td>\n",
       "      <td>2.0</td>\n",
       "      <td>70859.0</td>\n",
       "      <td>1987.0</td>\n",
       "      <td>33755800.0</td>\n",
       "      <td>839.0</td>\n",
       "      <td>2.0</td>\n",
       "    </tr>\n",
       "    <tr>\n",
       "      <th>4</th>\n",
       "      <td>4.0</td>\n",
       "      <td>1.0</td>\n",
       "      <td>5488.959961</td>\n",
       "      <td>-117700232.0</td>\n",
       "      <td>8.0</td>\n",
       "      <td>264977.0</td>\n",
       "      <td>14.0</td>\n",
       "      <td>2.0</td>\n",
       "      <td>6000.0</td>\n",
       "      <td>1981.0</td>\n",
       "      <td>33485644.0</td>\n",
       "      <td>2283.0</td>\n",
       "      <td>2.5</td>\n",
       "    </tr>\n",
       "  </tbody>\n",
       "</table>\n",
       "</div>"
      ],
      "text/plain": [
       "   bedroomcnt  unitcnt     taxamount    longitude  roomcnt  \\\n",
       "0         3.0      1.0   6735.879883 -118488536.0      0.0   \n",
       "1         4.0      1.0  10153.019531 -117677552.0      0.0   \n",
       "2         2.0      1.0  11484.480469 -118175032.0      0.0   \n",
       "3         2.0      1.0   3048.739990 -118309000.0      0.0   \n",
       "4         4.0      1.0   5488.959961 -117700232.0      8.0   \n",
       "\n",
       "   landtaxvaluedollarcnt  taxdelinquencyyear  fullbathcnt  lotsizesquarefeet  \\\n",
       "0               237416.0                14.0          2.0             7528.0   \n",
       "1               239071.0                14.0          3.0             3643.0   \n",
       "2                57912.0                14.0          3.0            11423.0   \n",
       "3                73362.0                14.0          2.0            70859.0   \n",
       "4               264977.0                14.0          2.0             6000.0   \n",
       "\n",
       "   yearbuilt    latitude  calculatedfinishedsquarefeet  bathroomcnt  \n",
       "0     1959.0  34280992.0                        1684.0          2.0  \n",
       "1     2014.0  33668120.0                        2263.0          3.5  \n",
       "2     1940.0  34136312.0                        2217.0          3.0  \n",
       "3     1987.0  33755800.0                         839.0          2.0  \n",
       "4     1981.0  33485644.0                        2283.0          2.5  "
      ]
     },
     "execution_count": 66,
     "metadata": {},
     "output_type": "execute_result"
    }
   ],
   "source": [
    "numeric_data.head()"
   ]
  },
  {
   "cell_type": "code",
   "execution_count": 67,
   "metadata": {},
   "outputs": [
    {
     "data": {
      "text/plain": [
       "{'bathroomcnt': 2.0,\n",
       " 'bedroomcnt': 3.0,\n",
       " 'calculatedfinishedsquarefeet': 1541.0,\n",
       " 'fullbathcnt': 2.0,\n",
       " 'landtaxvaluedollarcnt': 197783.0,\n",
       " 'latitude': 34021700.0,\n",
       " 'longitude': -118176848.0,\n",
       " 'lotsizesquarefeet': 7200.0,\n",
       " 'roomcnt': 0.0,\n",
       " 'taxamount': 4501.080078125,\n",
       " 'taxdelinquencyyear': 14.0,\n",
       " 'unitcnt': 1.0,\n",
       " 'yearbuilt': 1970.0}"
      ]
     },
     "execution_count": 67,
     "metadata": {},
     "output_type": "execute_result"
    }
   ],
   "source": [
    "imputations_numeric"
   ]
  },
  {
   "cell_type": "code",
   "execution_count": 68,
   "metadata": {},
   "outputs": [
    {
     "name": "stdout",
     "output_type": "stream",
     "text": [
      "167882\n"
     ]
    },
    {
     "name": "stderr",
     "output_type": "stream",
     "text": [
      "2017-10-16 22:49:20,271 Using most frequent...\n",
      "2017-10-16 22:49:20,272 Filling NA: pooltypeid10\n",
      "2017-10-16 22:49:20,389 Filling NA: taxdelinquencyflag\n",
      "2017-10-16 22:49:20,514 Filling NA: pooltypeid7\n",
      "2017-10-16 22:49:20,559 Filling NA: propertycountylandusecode\n",
      "2017-10-16 22:49:20,653 Filling NA: typeconstructiontypeid\n",
      "2017-10-16 22:49:20,671 Filling NA: hashottuborspa\n",
      "2017-10-16 22:49:20,772 Filling NA: buildingqualitytypeid\n",
      "2017-10-16 22:49:20,850 Filling NA: heatingorsystemtypeid\n",
      "2017-10-16 22:49:20,925 Filling NA: airconditioningtypeid\n",
      "2017-10-16 22:49:20,979 Filling NA: decktypeid\n",
      "2017-10-16 22:49:20,999 Filling NA: fips\n",
      "2017-10-16 22:49:21,093 Filling NA: architecturalstyletypeid\n",
      "2017-10-16 22:49:21,114 Filling NA: propertylandusetypeid\n",
      "2017-10-16 22:49:21,207 Filling NA: pooltypeid2\n"
     ]
    }
   ],
   "source": [
    "categorical_data, imputations_categorical = impute_categorical_var(joined_data, categorical_cols)"
   ]
  },
  {
   "cell_type": "code",
   "execution_count": 69,
   "metadata": {},
   "outputs": [
    {
     "data": {
      "text/html": [
       "<div>\n",
       "<style>\n",
       "    .dataframe thead tr:only-child th {\n",
       "        text-align: right;\n",
       "    }\n",
       "\n",
       "    .dataframe thead th {\n",
       "        text-align: left;\n",
       "    }\n",
       "\n",
       "    .dataframe tbody tr th {\n",
       "        vertical-align: top;\n",
       "    }\n",
       "</style>\n",
       "<table border=\"1\" class=\"dataframe\">\n",
       "  <thead>\n",
       "    <tr style=\"text-align: right;\">\n",
       "      <th></th>\n",
       "      <th>pooltypeid10</th>\n",
       "      <th>taxdelinquencyflag</th>\n",
       "      <th>pooltypeid7</th>\n",
       "      <th>propertycountylandusecode</th>\n",
       "      <th>typeconstructiontypeid</th>\n",
       "      <th>hashottuborspa</th>\n",
       "      <th>buildingqualitytypeid</th>\n",
       "      <th>heatingorsystemtypeid</th>\n",
       "      <th>airconditioningtypeid</th>\n",
       "      <th>decktypeid</th>\n",
       "      <th>fips</th>\n",
       "      <th>architecturalstyletypeid</th>\n",
       "      <th>propertylandusetypeid</th>\n",
       "      <th>pooltypeid2</th>\n",
       "    </tr>\n",
       "  </thead>\n",
       "  <tbody>\n",
       "    <tr>\n",
       "      <th>0</th>\n",
       "      <td>1.0</td>\n",
       "      <td>0</td>\n",
       "      <td>1.0</td>\n",
       "      <td>0100</td>\n",
       "      <td>6.0</td>\n",
       "      <td>0</td>\n",
       "      <td>4.0</td>\n",
       "      <td>2.0</td>\n",
       "      <td>1.0</td>\n",
       "      <td>66.0</td>\n",
       "      <td>6037.0</td>\n",
       "      <td>7.0</td>\n",
       "      <td>261.0</td>\n",
       "      <td>1.0</td>\n",
       "    </tr>\n",
       "    <tr>\n",
       "      <th>1</th>\n",
       "      <td>1.0</td>\n",
       "      <td>0</td>\n",
       "      <td>1.0</td>\n",
       "      <td>1</td>\n",
       "      <td>6.0</td>\n",
       "      <td>0</td>\n",
       "      <td>7.0</td>\n",
       "      <td>2.0</td>\n",
       "      <td>1.0</td>\n",
       "      <td>66.0</td>\n",
       "      <td>6059.0</td>\n",
       "      <td>7.0</td>\n",
       "      <td>261.0</td>\n",
       "      <td>1.0</td>\n",
       "    </tr>\n",
       "    <tr>\n",
       "      <th>2</th>\n",
       "      <td>1.0</td>\n",
       "      <td>0</td>\n",
       "      <td>1.0</td>\n",
       "      <td>0100</td>\n",
       "      <td>6.0</td>\n",
       "      <td>0</td>\n",
       "      <td>4.0</td>\n",
       "      <td>2.0</td>\n",
       "      <td>1.0</td>\n",
       "      <td>66.0</td>\n",
       "      <td>6037.0</td>\n",
       "      <td>7.0</td>\n",
       "      <td>261.0</td>\n",
       "      <td>1.0</td>\n",
       "    </tr>\n",
       "    <tr>\n",
       "      <th>3</th>\n",
       "      <td>1.0</td>\n",
       "      <td>0</td>\n",
       "      <td>1.0</td>\n",
       "      <td>010C</td>\n",
       "      <td>6.0</td>\n",
       "      <td>0</td>\n",
       "      <td>4.0</td>\n",
       "      <td>2.0</td>\n",
       "      <td>1.0</td>\n",
       "      <td>66.0</td>\n",
       "      <td>6037.0</td>\n",
       "      <td>7.0</td>\n",
       "      <td>266.0</td>\n",
       "      <td>1.0</td>\n",
       "    </tr>\n",
       "    <tr>\n",
       "      <th>4</th>\n",
       "      <td>1.0</td>\n",
       "      <td>0</td>\n",
       "      <td>1.0</td>\n",
       "      <td>122</td>\n",
       "      <td>6.0</td>\n",
       "      <td>0</td>\n",
       "      <td>7.0</td>\n",
       "      <td>2.0</td>\n",
       "      <td>1.0</td>\n",
       "      <td>66.0</td>\n",
       "      <td>6059.0</td>\n",
       "      <td>7.0</td>\n",
       "      <td>261.0</td>\n",
       "      <td>1.0</td>\n",
       "    </tr>\n",
       "  </tbody>\n",
       "</table>\n",
       "</div>"
      ],
      "text/plain": [
       "  pooltypeid10 taxdelinquencyflag pooltypeid7 propertycountylandusecode  \\\n",
       "0          1.0                  0         1.0                      0100   \n",
       "1          1.0                  0         1.0                         1   \n",
       "2          1.0                  0         1.0                      0100   \n",
       "3          1.0                  0         1.0                      010C   \n",
       "4          1.0                  0         1.0                       122   \n",
       "\n",
       "  typeconstructiontypeid hashottuborspa buildingqualitytypeid  \\\n",
       "0                    6.0              0                   4.0   \n",
       "1                    6.0              0                   7.0   \n",
       "2                    6.0              0                   4.0   \n",
       "3                    6.0              0                   4.0   \n",
       "4                    6.0              0                   7.0   \n",
       "\n",
       "  heatingorsystemtypeid airconditioningtypeid decktypeid    fips  \\\n",
       "0                   2.0                   1.0       66.0  6037.0   \n",
       "1                   2.0                   1.0       66.0  6059.0   \n",
       "2                   2.0                   1.0       66.0  6037.0   \n",
       "3                   2.0                   1.0       66.0  6037.0   \n",
       "4                   2.0                   1.0       66.0  6059.0   \n",
       "\n",
       "  architecturalstyletypeid propertylandusetypeid pooltypeid2  \n",
       "0                      7.0                 261.0         1.0  \n",
       "1                      7.0                 261.0         1.0  \n",
       "2                      7.0                 261.0         1.0  \n",
       "3                      7.0                 266.0         1.0  \n",
       "4                      7.0                 261.0         1.0  "
      ]
     },
     "execution_count": 69,
     "metadata": {},
     "output_type": "execute_result"
    }
   ],
   "source": [
    "categorical_data.head()"
   ]
  },
  {
   "cell_type": "code",
   "execution_count": 70,
   "metadata": {},
   "outputs": [
    {
     "data": {
      "text/plain": [
       "(167882, 14)"
      ]
     },
     "execution_count": 70,
     "metadata": {},
     "output_type": "execute_result"
    }
   ],
   "source": [
    "categorical_data.shape"
   ]
  },
  {
   "cell_type": "code",
   "execution_count": 71,
   "metadata": {},
   "outputs": [
    {
     "data": {
      "text/plain": [
       "{'airconditioningtypeid': '1.0',\n",
       " 'architecturalstyletypeid': '7.0',\n",
       " 'buildingqualitytypeid': '7.0',\n",
       " 'decktypeid': '66.0',\n",
       " 'fips': '6037.0',\n",
       " 'hashottuborspa': '0',\n",
       " 'heatingorsystemtypeid': '2.0',\n",
       " 'pooltypeid10': '1.0',\n",
       " 'pooltypeid2': '1.0',\n",
       " 'pooltypeid7': '1.0',\n",
       " 'propertycountylandusecode': '0100',\n",
       " 'propertylandusetypeid': '261.0',\n",
       " 'taxdelinquencyflag': '0',\n",
       " 'typeconstructiontypeid': '6.0'}"
      ]
     },
     "execution_count": 71,
     "metadata": {},
     "output_type": "execute_result"
    }
   ],
   "source": [
    "imputations_categorical"
   ]
  },
  {
   "cell_type": "code",
   "execution_count": 72,
   "metadata": {
    "collapsed": true
   },
   "outputs": [],
   "source": [
    "cat_dummies = pd.get_dummies(categorical_data, drop_first=True)"
   ]
  },
  {
   "cell_type": "code",
   "execution_count": 73,
   "metadata": {},
   "outputs": [
    {
     "data": {
      "text/plain": [
       "(167882, 140)"
      ]
     },
     "execution_count": 73,
     "metadata": {},
     "output_type": "execute_result"
    }
   ],
   "source": [
    "cat_dummies.shape"
   ]
  },
  {
   "cell_type": "code",
   "execution_count": 74,
   "metadata": {},
   "outputs": [],
   "source": [
    "transaction_dates = joined_data[['transaction_mth','transaction_yr','transaction_day_of_wk']].copy().reset_index()"
   ]
  },
  {
   "cell_type": "code",
   "execution_count": 75,
   "metadata": {},
   "outputs": [],
   "source": [
    "transaction_dates.drop('index',inplace=True,axis=1)"
   ]
  },
  {
   "cell_type": "code",
   "execution_count": 76,
   "metadata": {},
   "outputs": [],
   "source": [
    "joined_after_imputation = pd.concat([numeric_data,cat_dummies, transaction_dates], axis=1)"
   ]
  },
  {
   "cell_type": "code",
   "execution_count": 77,
   "metadata": {},
   "outputs": [
    {
     "data": {
      "text/plain": [
       "167882"
      ]
     },
     "execution_count": 77,
     "metadata": {},
     "output_type": "execute_result"
    }
   ],
   "source": [
    "len(joined_after_imputation)"
   ]
  },
  {
   "cell_type": "code",
   "execution_count": 78,
   "metadata": {},
   "outputs": [
    {
     "data": {
      "text/plain": [
       "(167882, 156)"
      ]
     },
     "execution_count": 78,
     "metadata": {},
     "output_type": "execute_result"
    }
   ],
   "source": [
    "joined_after_imputation.shape"
   ]
  },
  {
   "cell_type": "code",
   "execution_count": 79,
   "metadata": {
    "collapsed": true,
    "scrolled": false
   },
   "outputs": [],
   "source": [
    "joined_after_imputation['logerror'] = pd.Series(logerror_var)"
   ]
  },
  {
   "cell_type": "code",
   "execution_count": 80,
   "metadata": {},
   "outputs": [
    {
     "data": {
      "text/plain": [
       "bedroomcnt                        4.000000e+00\n",
       "unitcnt                           1.000000e+00\n",
       "taxamount                         1.015302e+04\n",
       "longitude                        -1.176776e+08\n",
       "roomcnt                           0.000000e+00\n",
       "landtaxvaluedollarcnt             2.390710e+05\n",
       "taxdelinquencyyear                1.400000e+01\n",
       "fullbathcnt                       3.000000e+00\n",
       "lotsizesquarefeet                 3.643000e+03\n",
       "yearbuilt                         2.014000e+03\n",
       "latitude                          3.366812e+07\n",
       "calculatedfinishedsquarefeet      2.263000e+03\n",
       "bathroomcnt                       3.500000e+00\n",
       "propertycountylandusecode_010     0.000000e+00\n",
       "propertycountylandusecode_0100    0.000000e+00\n",
       "propertycountylandusecode_0101    0.000000e+00\n",
       "propertycountylandusecode_0102    0.000000e+00\n",
       "propertycountylandusecode_0103    0.000000e+00\n",
       "propertycountylandusecode_0104    0.000000e+00\n",
       "propertycountylandusecode_0105    0.000000e+00\n",
       "propertycountylandusecode_0108    0.000000e+00\n",
       "propertycountylandusecode_0109    0.000000e+00\n",
       "propertycountylandusecode_010C    0.000000e+00\n",
       "propertycountylandusecode_010D    0.000000e+00\n",
       "propertycountylandusecode_010E    0.000000e+00\n",
       "propertycountylandusecode_010F    0.000000e+00\n",
       "propertycountylandusecode_010G    0.000000e+00\n",
       "propertycountylandusecode_010H    0.000000e+00\n",
       "propertycountylandusecode_010L    0.000000e+00\n",
       "propertycountylandusecode_010M    0.000000e+00\n",
       "                                      ...     \n",
       "heatingorsystemtypeid_7.0         0.000000e+00\n",
       "airconditioningtypeid_11.0        0.000000e+00\n",
       "airconditioningtypeid_13.0        0.000000e+00\n",
       "airconditioningtypeid_3.0         0.000000e+00\n",
       "airconditioningtypeid_5.0         0.000000e+00\n",
       "airconditioningtypeid_9.0         0.000000e+00\n",
       "fips_6059.0                       1.000000e+00\n",
       "fips_6111.0                       0.000000e+00\n",
       "architecturalstyletypeid_2.0      0.000000e+00\n",
       "architecturalstyletypeid_21.0     0.000000e+00\n",
       "architecturalstyletypeid_3.0      0.000000e+00\n",
       "architecturalstyletypeid_7.0      1.000000e+00\n",
       "architecturalstyletypeid_8.0      0.000000e+00\n",
       "propertylandusetypeid_247.0       0.000000e+00\n",
       "propertylandusetypeid_248.0       0.000000e+00\n",
       "propertylandusetypeid_260.0       0.000000e+00\n",
       "propertylandusetypeid_261.0       1.000000e+00\n",
       "propertylandusetypeid_263.0       0.000000e+00\n",
       "propertylandusetypeid_264.0       0.000000e+00\n",
       "propertylandusetypeid_265.0       0.000000e+00\n",
       "propertylandusetypeid_266.0       0.000000e+00\n",
       "propertylandusetypeid_267.0       0.000000e+00\n",
       "propertylandusetypeid_269.0       0.000000e+00\n",
       "propertylandusetypeid_275.0       0.000000e+00\n",
       "propertylandusetypeid_31.0        0.000000e+00\n",
       "propertylandusetypeid_47.0        0.000000e+00\n",
       "transaction_mth                   1.000000e+00\n",
       "transaction_yr                    2.016000e+03\n",
       "transaction_day_of_wk             4.000000e+00\n",
       "logerror                         -1.684000e-01\n",
       "Name: 1, Length: 157, dtype: float64"
      ]
     },
     "execution_count": 80,
     "metadata": {},
     "output_type": "execute_result"
    }
   ],
   "source": [
    "joined_after_imputation.iloc[1]"
   ]
  },
  {
   "cell_type": "code",
   "execution_count": 81,
   "metadata": {},
   "outputs": [
    {
     "data": {
      "text/html": [
       "<div>\n",
       "<style>\n",
       "    .dataframe thead tr:only-child th {\n",
       "        text-align: right;\n",
       "    }\n",
       "\n",
       "    .dataframe thead th {\n",
       "        text-align: left;\n",
       "    }\n",
       "\n",
       "    .dataframe tbody tr th {\n",
       "        vertical-align: top;\n",
       "    }\n",
       "</style>\n",
       "<table border=\"1\" class=\"dataframe\">\n",
       "  <thead>\n",
       "    <tr style=\"text-align: right;\">\n",
       "      <th></th>\n",
       "      <th>bedroomcnt</th>\n",
       "      <th>unitcnt</th>\n",
       "      <th>taxamount</th>\n",
       "      <th>longitude</th>\n",
       "      <th>roomcnt</th>\n",
       "      <th>landtaxvaluedollarcnt</th>\n",
       "      <th>taxdelinquencyyear</th>\n",
       "      <th>fullbathcnt</th>\n",
       "      <th>lotsizesquarefeet</th>\n",
       "      <th>yearbuilt</th>\n",
       "      <th>...</th>\n",
       "      <th>propertylandusetypeid_266.0</th>\n",
       "      <th>propertylandusetypeid_267.0</th>\n",
       "      <th>propertylandusetypeid_269.0</th>\n",
       "      <th>propertylandusetypeid_275.0</th>\n",
       "      <th>propertylandusetypeid_31.0</th>\n",
       "      <th>propertylandusetypeid_47.0</th>\n",
       "      <th>transaction_mth</th>\n",
       "      <th>transaction_yr</th>\n",
       "      <th>transaction_day_of_wk</th>\n",
       "      <th>logerror</th>\n",
       "    </tr>\n",
       "  </thead>\n",
       "  <tbody>\n",
       "    <tr>\n",
       "      <th>0</th>\n",
       "      <td>3.0</td>\n",
       "      <td>1.0</td>\n",
       "      <td>6735.879883</td>\n",
       "      <td>-118488536.0</td>\n",
       "      <td>0.0</td>\n",
       "      <td>237416.0</td>\n",
       "      <td>14.0</td>\n",
       "      <td>2.0</td>\n",
       "      <td>7528.0</td>\n",
       "      <td>1959.0</td>\n",
       "      <td>...</td>\n",
       "      <td>0</td>\n",
       "      <td>0</td>\n",
       "      <td>0</td>\n",
       "      <td>0</td>\n",
       "      <td>0</td>\n",
       "      <td>0</td>\n",
       "      <td>1</td>\n",
       "      <td>2016</td>\n",
       "      <td>4</td>\n",
       "      <td>0.0276</td>\n",
       "    </tr>\n",
       "    <tr>\n",
       "      <th>1</th>\n",
       "      <td>4.0</td>\n",
       "      <td>1.0</td>\n",
       "      <td>10153.019531</td>\n",
       "      <td>-117677552.0</td>\n",
       "      <td>0.0</td>\n",
       "      <td>239071.0</td>\n",
       "      <td>14.0</td>\n",
       "      <td>3.0</td>\n",
       "      <td>3643.0</td>\n",
       "      <td>2014.0</td>\n",
       "      <td>...</td>\n",
       "      <td>0</td>\n",
       "      <td>0</td>\n",
       "      <td>0</td>\n",
       "      <td>0</td>\n",
       "      <td>0</td>\n",
       "      <td>0</td>\n",
       "      <td>1</td>\n",
       "      <td>2016</td>\n",
       "      <td>4</td>\n",
       "      <td>-0.1684</td>\n",
       "    </tr>\n",
       "    <tr>\n",
       "      <th>2</th>\n",
       "      <td>2.0</td>\n",
       "      <td>1.0</td>\n",
       "      <td>11484.480469</td>\n",
       "      <td>-118175032.0</td>\n",
       "      <td>0.0</td>\n",
       "      <td>57912.0</td>\n",
       "      <td>14.0</td>\n",
       "      <td>3.0</td>\n",
       "      <td>11423.0</td>\n",
       "      <td>1940.0</td>\n",
       "      <td>...</td>\n",
       "      <td>0</td>\n",
       "      <td>0</td>\n",
       "      <td>0</td>\n",
       "      <td>0</td>\n",
       "      <td>0</td>\n",
       "      <td>0</td>\n",
       "      <td>1</td>\n",
       "      <td>2016</td>\n",
       "      <td>4</td>\n",
       "      <td>-0.0040</td>\n",
       "    </tr>\n",
       "    <tr>\n",
       "      <th>3</th>\n",
       "      <td>2.0</td>\n",
       "      <td>1.0</td>\n",
       "      <td>3048.739990</td>\n",
       "      <td>-118309000.0</td>\n",
       "      <td>0.0</td>\n",
       "      <td>73362.0</td>\n",
       "      <td>14.0</td>\n",
       "      <td>2.0</td>\n",
       "      <td>70859.0</td>\n",
       "      <td>1987.0</td>\n",
       "      <td>...</td>\n",
       "      <td>1</td>\n",
       "      <td>0</td>\n",
       "      <td>0</td>\n",
       "      <td>0</td>\n",
       "      <td>0</td>\n",
       "      <td>0</td>\n",
       "      <td>1</td>\n",
       "      <td>2016</td>\n",
       "      <td>5</td>\n",
       "      <td>0.0218</td>\n",
       "    </tr>\n",
       "    <tr>\n",
       "      <th>4</th>\n",
       "      <td>4.0</td>\n",
       "      <td>1.0</td>\n",
       "      <td>5488.959961</td>\n",
       "      <td>-117700232.0</td>\n",
       "      <td>8.0</td>\n",
       "      <td>264977.0</td>\n",
       "      <td>14.0</td>\n",
       "      <td>2.0</td>\n",
       "      <td>6000.0</td>\n",
       "      <td>1981.0</td>\n",
       "      <td>...</td>\n",
       "      <td>0</td>\n",
       "      <td>0</td>\n",
       "      <td>0</td>\n",
       "      <td>0</td>\n",
       "      <td>0</td>\n",
       "      <td>0</td>\n",
       "      <td>1</td>\n",
       "      <td>2016</td>\n",
       "      <td>5</td>\n",
       "      <td>-0.0050</td>\n",
       "    </tr>\n",
       "  </tbody>\n",
       "</table>\n",
       "<p>5 rows × 157 columns</p>\n",
       "</div>"
      ],
      "text/plain": [
       "   bedroomcnt  unitcnt     taxamount    longitude  roomcnt  \\\n",
       "0         3.0      1.0   6735.879883 -118488536.0      0.0   \n",
       "1         4.0      1.0  10153.019531 -117677552.0      0.0   \n",
       "2         2.0      1.0  11484.480469 -118175032.0      0.0   \n",
       "3         2.0      1.0   3048.739990 -118309000.0      0.0   \n",
       "4         4.0      1.0   5488.959961 -117700232.0      8.0   \n",
       "\n",
       "   landtaxvaluedollarcnt  taxdelinquencyyear  fullbathcnt  lotsizesquarefeet  \\\n",
       "0               237416.0                14.0          2.0             7528.0   \n",
       "1               239071.0                14.0          3.0             3643.0   \n",
       "2                57912.0                14.0          3.0            11423.0   \n",
       "3                73362.0                14.0          2.0            70859.0   \n",
       "4               264977.0                14.0          2.0             6000.0   \n",
       "\n",
       "   yearbuilt    ...     propertylandusetypeid_266.0  \\\n",
       "0     1959.0    ...                               0   \n",
       "1     2014.0    ...                               0   \n",
       "2     1940.0    ...                               0   \n",
       "3     1987.0    ...                               1   \n",
       "4     1981.0    ...                               0   \n",
       "\n",
       "   propertylandusetypeid_267.0  propertylandusetypeid_269.0  \\\n",
       "0                            0                            0   \n",
       "1                            0                            0   \n",
       "2                            0                            0   \n",
       "3                            0                            0   \n",
       "4                            0                            0   \n",
       "\n",
       "   propertylandusetypeid_275.0  propertylandusetypeid_31.0  \\\n",
       "0                            0                           0   \n",
       "1                            0                           0   \n",
       "2                            0                           0   \n",
       "3                            0                           0   \n",
       "4                            0                           0   \n",
       "\n",
       "   propertylandusetypeid_47.0  transaction_mth  transaction_yr  \\\n",
       "0                           0                1            2016   \n",
       "1                           0                1            2016   \n",
       "2                           0                1            2016   \n",
       "3                           0                1            2016   \n",
       "4                           0                1            2016   \n",
       "\n",
       "   transaction_day_of_wk  logerror  \n",
       "0                      4    0.0276  \n",
       "1                      4   -0.1684  \n",
       "2                      4   -0.0040  \n",
       "3                      5    0.0218  \n",
       "4                      5   -0.0050  \n",
       "\n",
       "[5 rows x 157 columns]"
      ]
     },
     "execution_count": 81,
     "metadata": {},
     "output_type": "execute_result"
    }
   ],
   "source": [
    "joined_after_imputation.head()"
   ]
  },
  {
   "cell_type": "markdown",
   "metadata": {},
   "source": [
    "## Feature importance"
   ]
  },
  {
   "cell_type": "code",
   "execution_count": 82,
   "metadata": {
    "collapsed": true
   },
   "outputs": [],
   "source": [
    "from sklearn.model_selection import train_test_split"
   ]
  },
  {
   "cell_type": "code",
   "execution_count": 83,
   "metadata": {
    "collapsed": true
   },
   "outputs": [],
   "source": [
    "X_train, X_test, y_train, y_test = train_test_split(joined_after_imputation.drop(['logerror'], axis=1).values,\n",
    "                                                    joined_after_imputation['logerror'].values,\n",
    "                                                    test_size=0.2, random_state=4)"
   ]
  },
  {
   "cell_type": "code",
   "execution_count": 84,
   "metadata": {},
   "outputs": [
    {
     "data": {
      "text/plain": [
       "(134305, 33577)"
      ]
     },
     "execution_count": 84,
     "metadata": {},
     "output_type": "execute_result"
    }
   ],
   "source": [
    "len(X_train), len(X_test)"
   ]
  },
  {
   "cell_type": "code",
   "execution_count": 85,
   "metadata": {
    "collapsed": true
   },
   "outputs": [],
   "source": [
    "from sklearn.metrics import mean_absolute_error"
   ]
  },
  {
   "cell_type": "code",
   "execution_count": 86,
   "metadata": {},
   "outputs": [
    {
     "data": {
      "text/plain": [
       "(134305, 156)"
      ]
     },
     "execution_count": 86,
     "metadata": {},
     "output_type": "execute_result"
    }
   ],
   "source": [
    "X_train.shape"
   ]
  },
  {
   "cell_type": "code",
   "execution_count": 87,
   "metadata": {
    "collapsed": true
   },
   "outputs": [],
   "source": [
    "from sklearn.linear_model import Lasso"
   ]
  },
  {
   "cell_type": "code",
   "execution_count": 88,
   "metadata": {},
   "outputs": [
    {
     "data": {
      "text/plain": [
       "156"
      ]
     },
     "execution_count": 88,
     "metadata": {},
     "output_type": "execute_result"
    }
   ],
   "source": [
    "all_vars = [col for col in joined_after_imputation.drop(['logerror'], axis=1).columns]\n",
    "len(all_vars)"
   ]
  },
  {
   "cell_type": "code",
   "execution_count": 351,
   "metadata": {
    "collapsed": true
   },
   "outputs": [],
   "source": [
    "lasso_reg = Lasso(alpha=0.01)"
   ]
  },
  {
   "cell_type": "code",
   "execution_count": 352,
   "metadata": {},
   "outputs": [
    {
     "data": {
      "text/plain": [
       "Lasso(alpha=0.01, copy_X=True, fit_intercept=True, max_iter=1000,\n",
       "   normalize=False, positive=False, precompute=False, random_state=None,\n",
       "   selection='cyclic', tol=0.0001, warm_start=False)"
      ]
     },
     "execution_count": 352,
     "metadata": {},
     "output_type": "execute_result"
    }
   ],
   "source": [
    "lasso_reg.fit(X_train, y_train)"
   ]
  },
  {
   "cell_type": "code",
   "execution_count": 353,
   "metadata": {
    "collapsed": true
   },
   "outputs": [],
   "source": [
    "ys = lasso_reg.predict(X_test)"
   ]
  },
  {
   "cell_type": "code",
   "execution_count": 354,
   "metadata": {},
   "outputs": [
    {
     "data": {
      "text/plain": [
       "0.069848562616405693"
      ]
     },
     "execution_count": 354,
     "metadata": {},
     "output_type": "execute_result"
    }
   ],
   "source": [
    "mean_absolute_error(y_pred=ys,y_true=y_test)"
   ]
  },
  {
   "cell_type": "code",
   "execution_count": 355,
   "metadata": {
    "collapsed": true
   },
   "outputs": [],
   "source": [
    "y_ts = lasso_reg.predict(X_train)"
   ]
  },
  {
   "cell_type": "code",
   "execution_count": 356,
   "metadata": {},
   "outputs": [
    {
     "data": {
      "text/plain": [
       "0.069382414322877214"
      ]
     },
     "execution_count": 356,
     "metadata": {},
     "output_type": "execute_result"
    }
   ],
   "source": [
    "mean_absolute_error(y_pred=y_ts, y_true=y_train)"
   ]
  },
  {
   "cell_type": "code",
   "execution_count": 357,
   "metadata": {
    "collapsed": true,
    "scrolled": false
   },
   "outputs": [],
   "source": [
    "all_var_dict = {var:coeff for var,coeff in zip(all_vars, lasso_reg.coef_) if coeff != 0}\n",
    "all_var_dict=sorted(all_var_dict.items(), key=lambda x: np.abs(x[1]))"
   ]
  },
  {
   "cell_type": "code",
   "execution_count": 358,
   "metadata": {},
   "outputs": [
    {
     "data": {
      "text/plain": [
       "[('longitude', 5.9574347861529381e-10),\n",
       " ('latitude', 2.3554716441613366e-09),\n",
       " ('lotsizesquarefeet', -3.0232171582229489e-09),\n",
       " ('landtaxvaluedollarcnt', -3.4686903404659436e-09),\n",
       " ('taxamount', 1.3394342212159957e-07),\n",
       " ('calculatedfinishedsquarefeet', 4.1696609357659166e-07),\n",
       " ('yearbuilt', -2.6204821796648278e-05)]"
      ]
     },
     "execution_count": 358,
     "metadata": {},
     "output_type": "execute_result"
    }
   ],
   "source": [
    "all_var_dict"
   ]
  },
  {
   "cell_type": "code",
   "execution_count": 359,
   "metadata": {},
   "outputs": [
    {
     "data": {
      "text/plain": [
       "['longitude',\n",
       " 'latitude',\n",
       " 'lotsizesquarefeet',\n",
       " 'landtaxvaluedollarcnt',\n",
       " 'taxamount',\n",
       " 'calculatedfinishedsquarefeet',\n",
       " 'yearbuilt',\n",
       " 'logerror']"
      ]
     },
     "execution_count": 359,
     "metadata": {},
     "output_type": "execute_result"
    }
   ],
   "source": [
    "all_var = [var for var, _ in all_var_dict]\n",
    "all_var.insert(len(all_var), 'logerror')\n",
    "all_var"
   ]
  },
  {
   "cell_type": "code",
   "execution_count": 336,
   "metadata": {
    "collapsed": true
   },
   "outputs": [],
   "source": [
    "joined_after_imputation[all_var].to_csv('data/train-ml_v3.csv', index=False)"
   ]
  },
  {
   "cell_type": "markdown",
   "metadata": {},
   "source": [
    "## Persist model"
   ]
  },
  {
   "cell_type": "code",
   "execution_count": 160,
   "metadata": {
    "collapsed": true
   },
   "outputs": [],
   "source": [
    "from sklearn.externals import joblib"
   ]
  },
  {
   "cell_type": "code",
   "execution_count": 161,
   "metadata": {},
   "outputs": [
    {
     "data": {
      "text/plain": [
       "['data/lass_reg.pkl']"
      ]
     },
     "execution_count": 161,
     "metadata": {},
     "output_type": "execute_result"
    }
   ],
   "source": [
    "joblib.dump(lasso_reg,'data/lass_reg.pkl')"
   ]
  },
  {
   "cell_type": "markdown",
   "metadata": {},
   "source": [
    "## Submission"
   ]
  },
  {
   "cell_type": "code",
   "execution_count": 162,
   "metadata": {
    "collapsed": true
   },
   "outputs": [],
   "source": [
    "def load_data_for_submission(path_to_data='data'):\n",
    "\tlogging.info('Reading Properties 2016...')\n",
    "\tprop_2016 = pd.read_csv('{}/properties_2016.csv'.format(path_to_data))\n",
    "\t\n",
    "\tlogging.info('Reading Properties 2017...')\n",
    "\tprop_2017 = pd.read_csv('{}/properties_2017.csv'.format(path_to_data))\n",
    "    \n",
    "\tproperties = pd.concat([prop_2016,prop_2017], axis = 0)\n",
    "    \n",
    "\treturn properties"
   ]
  },
  {
   "cell_type": "code",
   "execution_count": 164,
   "metadata": {
    "collapsed": true
   },
   "outputs": [],
   "source": [
    "drop_cols.remove('parcelid')"
   ]
  },
  {
   "cell_type": "code",
   "execution_count": 165,
   "metadata": {},
   "outputs": [
    {
     "name": "stderr",
     "output_type": "stream",
     "text": [
      "2017-10-16 22:56:13,717 Reading Properties 2016...\n",
      "/anaconda/lib/python3.6/site-packages/IPython/core/interactiveshell.py:2821: DtypeWarning: Columns (22,32,34,49,55) have mixed types. Specify dtype option on import or set low_memory=False.\n",
      "  if self.run_code(code, result):\n",
      "2017-10-16 22:56:36,089 Reading Properties 2017...\n",
      "/anaconda/lib/python3.6/site-packages/IPython/core/interactiveshell.py:2821: DtypeWarning: Columns (49) have mixed types. Specify dtype option on import or set low_memory=False.\n",
      "  if self.run_code(code, result):\n"
     ]
    }
   ],
   "source": [
    "properties = load_data_for_submission()\n",
    "properties = drop_columns(properties, drop_cols)\n"
   ]
  },
  {
   "cell_type": "code",
   "execution_count": 198,
   "metadata": {},
   "outputs": [
    {
     "data": {
      "text/html": [
       "<div>\n",
       "<style>\n",
       "    .dataframe thead tr:only-child th {\n",
       "        text-align: right;\n",
       "    }\n",
       "\n",
       "    .dataframe thead th {\n",
       "        text-align: left;\n",
       "    }\n",
       "\n",
       "    .dataframe tbody tr th {\n",
       "        vertical-align: top;\n",
       "    }\n",
       "</style>\n",
       "<table border=\"1\" class=\"dataframe\">\n",
       "  <thead>\n",
       "    <tr style=\"text-align: right;\">\n",
       "      <th></th>\n",
       "      <th>parcelid</th>\n",
       "      <th>airconditioningtypeid</th>\n",
       "      <th>architecturalstyletypeid</th>\n",
       "      <th>bathroomcnt</th>\n",
       "      <th>bedroomcnt</th>\n",
       "      <th>buildingqualitytypeid</th>\n",
       "      <th>decktypeid</th>\n",
       "      <th>calculatedfinishedsquarefeet</th>\n",
       "      <th>fips</th>\n",
       "      <th>fullbathcnt</th>\n",
       "      <th>...</th>\n",
       "      <th>propertycountylandusecode</th>\n",
       "      <th>propertylandusetypeid</th>\n",
       "      <th>roomcnt</th>\n",
       "      <th>typeconstructiontypeid</th>\n",
       "      <th>unitcnt</th>\n",
       "      <th>yearbuilt</th>\n",
       "      <th>landtaxvaluedollarcnt</th>\n",
       "      <th>taxamount</th>\n",
       "      <th>taxdelinquencyflag</th>\n",
       "      <th>taxdelinquencyyear</th>\n",
       "    </tr>\n",
       "  </thead>\n",
       "  <tbody>\n",
       "    <tr>\n",
       "      <th>0</th>\n",
       "      <td>10754147</td>\n",
       "      <td>NaN</td>\n",
       "      <td>NaN</td>\n",
       "      <td>0.0</td>\n",
       "      <td>0.0</td>\n",
       "      <td>NaN</td>\n",
       "      <td>NaN</td>\n",
       "      <td>NaN</td>\n",
       "      <td>6037.0</td>\n",
       "      <td>NaN</td>\n",
       "      <td>...</td>\n",
       "      <td>010D</td>\n",
       "      <td>269.0</td>\n",
       "      <td>0.0</td>\n",
       "      <td>NaN</td>\n",
       "      <td>NaN</td>\n",
       "      <td>NaN</td>\n",
       "      <td>9.0</td>\n",
       "      <td>NaN</td>\n",
       "      <td>NaN</td>\n",
       "      <td>NaN</td>\n",
       "    </tr>\n",
       "    <tr>\n",
       "      <th>1</th>\n",
       "      <td>10759547</td>\n",
       "      <td>NaN</td>\n",
       "      <td>NaN</td>\n",
       "      <td>0.0</td>\n",
       "      <td>0.0</td>\n",
       "      <td>NaN</td>\n",
       "      <td>NaN</td>\n",
       "      <td>NaN</td>\n",
       "      <td>6037.0</td>\n",
       "      <td>NaN</td>\n",
       "      <td>...</td>\n",
       "      <td>0109</td>\n",
       "      <td>261.0</td>\n",
       "      <td>0.0</td>\n",
       "      <td>NaN</td>\n",
       "      <td>NaN</td>\n",
       "      <td>NaN</td>\n",
       "      <td>27516.0</td>\n",
       "      <td>NaN</td>\n",
       "      <td>NaN</td>\n",
       "      <td>NaN</td>\n",
       "    </tr>\n",
       "    <tr>\n",
       "      <th>2</th>\n",
       "      <td>10843547</td>\n",
       "      <td>NaN</td>\n",
       "      <td>NaN</td>\n",
       "      <td>0.0</td>\n",
       "      <td>0.0</td>\n",
       "      <td>NaN</td>\n",
       "      <td>NaN</td>\n",
       "      <td>73026.0</td>\n",
       "      <td>6037.0</td>\n",
       "      <td>NaN</td>\n",
       "      <td>...</td>\n",
       "      <td>1200</td>\n",
       "      <td>47.0</td>\n",
       "      <td>0.0</td>\n",
       "      <td>NaN</td>\n",
       "      <td>2.0</td>\n",
       "      <td>NaN</td>\n",
       "      <td>762631.0</td>\n",
       "      <td>20800.37</td>\n",
       "      <td>NaN</td>\n",
       "      <td>NaN</td>\n",
       "    </tr>\n",
       "    <tr>\n",
       "      <th>3</th>\n",
       "      <td>10859147</td>\n",
       "      <td>NaN</td>\n",
       "      <td>NaN</td>\n",
       "      <td>0.0</td>\n",
       "      <td>0.0</td>\n",
       "      <td>7.0</td>\n",
       "      <td>NaN</td>\n",
       "      <td>5068.0</td>\n",
       "      <td>6037.0</td>\n",
       "      <td>NaN</td>\n",
       "      <td>...</td>\n",
       "      <td>1200</td>\n",
       "      <td>47.0</td>\n",
       "      <td>0.0</td>\n",
       "      <td>NaN</td>\n",
       "      <td>NaN</td>\n",
       "      <td>1948.0</td>\n",
       "      <td>585488.0</td>\n",
       "      <td>14557.57</td>\n",
       "      <td>NaN</td>\n",
       "      <td>NaN</td>\n",
       "    </tr>\n",
       "    <tr>\n",
       "      <th>4</th>\n",
       "      <td>10879947</td>\n",
       "      <td>NaN</td>\n",
       "      <td>NaN</td>\n",
       "      <td>0.0</td>\n",
       "      <td>0.0</td>\n",
       "      <td>NaN</td>\n",
       "      <td>NaN</td>\n",
       "      <td>1776.0</td>\n",
       "      <td>6037.0</td>\n",
       "      <td>NaN</td>\n",
       "      <td>...</td>\n",
       "      <td>1210</td>\n",
       "      <td>31.0</td>\n",
       "      <td>0.0</td>\n",
       "      <td>NaN</td>\n",
       "      <td>1.0</td>\n",
       "      <td>1947.0</td>\n",
       "      <td>239695.0</td>\n",
       "      <td>5725.17</td>\n",
       "      <td>NaN</td>\n",
       "      <td>NaN</td>\n",
       "    </tr>\n",
       "  </tbody>\n",
       "</table>\n",
       "<p>5 rows × 28 columns</p>\n",
       "</div>"
      ],
      "text/plain": [
       "   parcelid  airconditioningtypeid  architecturalstyletypeid  bathroomcnt  \\\n",
       "0  10754147                    NaN                       NaN          0.0   \n",
       "1  10759547                    NaN                       NaN          0.0   \n",
       "2  10843547                    NaN                       NaN          0.0   \n",
       "3  10859147                    NaN                       NaN          0.0   \n",
       "4  10879947                    NaN                       NaN          0.0   \n",
       "\n",
       "   bedroomcnt  buildingqualitytypeid  decktypeid  \\\n",
       "0         0.0                    NaN         NaN   \n",
       "1         0.0                    NaN         NaN   \n",
       "2         0.0                    NaN         NaN   \n",
       "3         0.0                    7.0         NaN   \n",
       "4         0.0                    NaN         NaN   \n",
       "\n",
       "   calculatedfinishedsquarefeet    fips  fullbathcnt         ...          \\\n",
       "0                           NaN  6037.0          NaN         ...           \n",
       "1                           NaN  6037.0          NaN         ...           \n",
       "2                       73026.0  6037.0          NaN         ...           \n",
       "3                        5068.0  6037.0          NaN         ...           \n",
       "4                        1776.0  6037.0          NaN         ...           \n",
       "\n",
       "  propertycountylandusecode  propertylandusetypeid  roomcnt  \\\n",
       "0                      010D                  269.0      0.0   \n",
       "1                      0109                  261.0      0.0   \n",
       "2                      1200                   47.0      0.0   \n",
       "3                      1200                   47.0      0.0   \n",
       "4                      1210                   31.0      0.0   \n",
       "\n",
       "   typeconstructiontypeid  unitcnt  yearbuilt  landtaxvaluedollarcnt  \\\n",
       "0                     NaN      NaN        NaN                    9.0   \n",
       "1                     NaN      NaN        NaN                27516.0   \n",
       "2                     NaN      2.0        NaN               762631.0   \n",
       "3                     NaN      NaN     1948.0               585488.0   \n",
       "4                     NaN      1.0     1947.0               239695.0   \n",
       "\n",
       "   taxamount taxdelinquencyflag  taxdelinquencyyear  \n",
       "0        NaN                NaN                 NaN  \n",
       "1        NaN                NaN                 NaN  \n",
       "2   20800.37                NaN                 NaN  \n",
       "3   14557.57                NaN                 NaN  \n",
       "4    5725.17                NaN                 NaN  \n",
       "\n",
       "[5 rows x 28 columns]"
      ]
     },
     "execution_count": 198,
     "metadata": {},
     "output_type": "execute_result"
    }
   ],
   "source": [
    "properties.head()"
   ]
  },
  {
   "cell_type": "code",
   "execution_count": 172,
   "metadata": {},
   "outputs": [
    {
     "data": {
      "text/plain": [
       "5887958"
      ]
     },
     "execution_count": 172,
     "metadata": {},
     "output_type": "execute_result"
    }
   ],
   "source": [
    "len(properties)"
   ]
  },
  {
   "cell_type": "code",
   "execution_count": 173,
   "metadata": {},
   "outputs": [
    {
     "name": "stderr",
     "output_type": "stream",
     "text": [
      "2017-10-16 22:58:27,725 Filling numeric NAs\n",
      "2017-10-16 22:58:29,904 Filling NA: bedroomcnt\n",
      "2017-10-16 22:58:30,240 Filling NA: unitcnt\n",
      "2017-10-16 22:58:30,287 Filling NA: taxamount\n",
      "2017-10-16 22:58:30,333 Filling NA: longitude\n",
      "2017-10-16 22:58:30,377 Filling NA: roomcnt\n",
      "2017-10-16 22:58:30,424 Filling NA: landtaxvaluedollarcnt\n",
      "2017-10-16 22:58:30,470 Filling NA: taxdelinquencyyear\n",
      "2017-10-16 22:58:30,516 Filling NA: fullbathcnt\n",
      "2017-10-16 22:58:30,561 Filling NA: lotsizesquarefeet\n",
      "2017-10-16 22:58:30,608 Filling NA: yearbuilt\n",
      "2017-10-16 22:58:30,655 Filling NA: latitude\n",
      "2017-10-16 22:58:30,700 Filling NA: calculatedfinishedsquarefeet\n",
      "2017-10-16 22:58:30,744 Filling NA: bathroomcnt\n"
     ]
    }
   ],
   "source": [
    "properties_numerical = impute_numerical_var(properties, numeric_cols,imputations_numeric)"
   ]
  },
  {
   "cell_type": "code",
   "execution_count": 212,
   "metadata": {},
   "outputs": [
    {
     "data": {
      "text/plain": [
       "5887958"
      ]
     },
     "execution_count": 212,
     "metadata": {},
     "output_type": "execute_result"
    }
   ],
   "source": [
    "len(properties_numerical)"
   ]
  },
  {
   "cell_type": "code",
   "execution_count": 213,
   "metadata": {},
   "outputs": [
    {
     "data": {
      "text/plain": [
       "bedroomcnt                      0\n",
       "unitcnt                         0\n",
       "taxamount                       0\n",
       "longitude                       0\n",
       "roomcnt                         0\n",
       "landtaxvaluedollarcnt           0\n",
       "taxdelinquencyyear              0\n",
       "fullbathcnt                     0\n",
       "lotsizesquarefeet               0\n",
       "yearbuilt                       0\n",
       "latitude                        0\n",
       "calculatedfinishedsquarefeet    0\n",
       "bathroomcnt                     0\n",
       "dtype: int64"
      ]
     },
     "execution_count": 213,
     "metadata": {},
     "output_type": "execute_result"
    }
   ],
   "source": [
    "properties_numerical.isnull().sum()"
   ]
  },
  {
   "cell_type": "code",
   "execution_count": 176,
   "metadata": {},
   "outputs": [
    {
     "data": {
      "text/html": [
       "<div>\n",
       "<style>\n",
       "    .dataframe thead tr:only-child th {\n",
       "        text-align: right;\n",
       "    }\n",
       "\n",
       "    .dataframe thead th {\n",
       "        text-align: left;\n",
       "    }\n",
       "\n",
       "    .dataframe tbody tr th {\n",
       "        vertical-align: top;\n",
       "    }\n",
       "</style>\n",
       "<table border=\"1\" class=\"dataframe\">\n",
       "  <thead>\n",
       "    <tr style=\"text-align: right;\">\n",
       "      <th></th>\n",
       "      <th>bedroomcnt</th>\n",
       "      <th>unitcnt</th>\n",
       "      <th>taxamount</th>\n",
       "      <th>longitude</th>\n",
       "      <th>roomcnt</th>\n",
       "      <th>landtaxvaluedollarcnt</th>\n",
       "      <th>taxdelinquencyyear</th>\n",
       "      <th>fullbathcnt</th>\n",
       "      <th>lotsizesquarefeet</th>\n",
       "      <th>yearbuilt</th>\n",
       "      <th>latitude</th>\n",
       "      <th>calculatedfinishedsquarefeet</th>\n",
       "      <th>bathroomcnt</th>\n",
       "    </tr>\n",
       "  </thead>\n",
       "  <tbody>\n",
       "    <tr>\n",
       "      <th>0</th>\n",
       "      <td>0.0</td>\n",
       "      <td>1.0</td>\n",
       "      <td>4501.080078</td>\n",
       "      <td>-118654084.0</td>\n",
       "      <td>0.0</td>\n",
       "      <td>9.0</td>\n",
       "      <td>14.0</td>\n",
       "      <td>2.0</td>\n",
       "      <td>85768.0</td>\n",
       "      <td>1970.0</td>\n",
       "      <td>34144442.0</td>\n",
       "      <td>1541.0</td>\n",
       "      <td>0.0</td>\n",
       "    </tr>\n",
       "    <tr>\n",
       "      <th>1</th>\n",
       "      <td>0.0</td>\n",
       "      <td>1.0</td>\n",
       "      <td>4501.080078</td>\n",
       "      <td>-118625364.0</td>\n",
       "      <td>0.0</td>\n",
       "      <td>27516.0</td>\n",
       "      <td>14.0</td>\n",
       "      <td>2.0</td>\n",
       "      <td>4083.0</td>\n",
       "      <td>1970.0</td>\n",
       "      <td>34140430.0</td>\n",
       "      <td>1541.0</td>\n",
       "      <td>0.0</td>\n",
       "    </tr>\n",
       "    <tr>\n",
       "      <th>2</th>\n",
       "      <td>0.0</td>\n",
       "      <td>2.0</td>\n",
       "      <td>20800.370000</td>\n",
       "      <td>-118394633.0</td>\n",
       "      <td>0.0</td>\n",
       "      <td>762631.0</td>\n",
       "      <td>14.0</td>\n",
       "      <td>2.0</td>\n",
       "      <td>63085.0</td>\n",
       "      <td>1970.0</td>\n",
       "      <td>33989359.0</td>\n",
       "      <td>73026.0</td>\n",
       "      <td>0.0</td>\n",
       "    </tr>\n",
       "    <tr>\n",
       "      <th>3</th>\n",
       "      <td>0.0</td>\n",
       "      <td>1.0</td>\n",
       "      <td>14557.570000</td>\n",
       "      <td>-118437206.0</td>\n",
       "      <td>0.0</td>\n",
       "      <td>585488.0</td>\n",
       "      <td>14.0</td>\n",
       "      <td>2.0</td>\n",
       "      <td>7521.0</td>\n",
       "      <td>1948.0</td>\n",
       "      <td>34148863.0</td>\n",
       "      <td>5068.0</td>\n",
       "      <td>0.0</td>\n",
       "    </tr>\n",
       "    <tr>\n",
       "      <th>4</th>\n",
       "      <td>0.0</td>\n",
       "      <td>1.0</td>\n",
       "      <td>5725.170000</td>\n",
       "      <td>-118385816.0</td>\n",
       "      <td>0.0</td>\n",
       "      <td>239695.0</td>\n",
       "      <td>14.0</td>\n",
       "      <td>2.0</td>\n",
       "      <td>8512.0</td>\n",
       "      <td>1947.0</td>\n",
       "      <td>34194168.0</td>\n",
       "      <td>1776.0</td>\n",
       "      <td>0.0</td>\n",
       "    </tr>\n",
       "  </tbody>\n",
       "</table>\n",
       "</div>"
      ],
      "text/plain": [
       "   bedroomcnt  unitcnt     taxamount    longitude  roomcnt  \\\n",
       "0         0.0      1.0   4501.080078 -118654084.0      0.0   \n",
       "1         0.0      1.0   4501.080078 -118625364.0      0.0   \n",
       "2         0.0      2.0  20800.370000 -118394633.0      0.0   \n",
       "3         0.0      1.0  14557.570000 -118437206.0      0.0   \n",
       "4         0.0      1.0   5725.170000 -118385816.0      0.0   \n",
       "\n",
       "   landtaxvaluedollarcnt  taxdelinquencyyear  fullbathcnt  lotsizesquarefeet  \\\n",
       "0                    9.0                14.0          2.0            85768.0   \n",
       "1                27516.0                14.0          2.0             4083.0   \n",
       "2               762631.0                14.0          2.0            63085.0   \n",
       "3               585488.0                14.0          2.0             7521.0   \n",
       "4               239695.0                14.0          2.0             8512.0   \n",
       "\n",
       "   yearbuilt    latitude  calculatedfinishedsquarefeet  bathroomcnt  \n",
       "0     1970.0  34144442.0                        1541.0          0.0  \n",
       "1     1970.0  34140430.0                        1541.0          0.0  \n",
       "2     1970.0  33989359.0                       73026.0          0.0  \n",
       "3     1948.0  34148863.0                        5068.0          0.0  \n",
       "4     1947.0  34194168.0                        1776.0          0.0  "
      ]
     },
     "execution_count": 176,
     "metadata": {},
     "output_type": "execute_result"
    }
   ],
   "source": [
    "properties_numerical.head()"
   ]
  },
  {
   "cell_type": "code",
   "execution_count": 177,
   "metadata": {},
   "outputs": [
    {
     "name": "stdout",
     "output_type": "stream",
     "text": [
      "5887958\n"
     ]
    },
    {
     "name": "stderr",
     "output_type": "stream",
     "text": [
      "2017-10-16 23:00:01,320 Filling NA: pooltypeid10\n",
      "2017-10-16 23:00:01,685 Filling NA: taxdelinquencyflag\n",
      "2017-10-16 23:00:02,066 Filling NA: pooltypeid7\n",
      "2017-10-16 23:00:02,410 Filling NA: propertycountylandusecode\n",
      "2017-10-16 23:00:02,663 Filling NA: typeconstructiontypeid\n",
      "2017-10-16 23:00:03,012 Filling NA: hashottuborspa\n",
      "2017-10-16 23:00:03,339 Filling NA: buildingqualitytypeid\n",
      "2017-10-16 23:00:03,679 Filling NA: heatingorsystemtypeid\n",
      "2017-10-16 23:00:04,052 Filling NA: airconditioningtypeid\n",
      "2017-10-16 23:00:04,599 Filling NA: decktypeid\n",
      "2017-10-16 23:00:05,087 Filling NA: fips\n",
      "2017-10-16 23:00:05,403 Filling NA: architecturalstyletypeid\n",
      "2017-10-16 23:00:05,766 Filling NA: propertylandusetypeid\n",
      "2017-10-16 23:00:06,095 Filling NA: pooltypeid2\n"
     ]
    }
   ],
   "source": [
    "properties_categorical = impute_categorical_var(properties, categorical_cols,imputations_categorical)"
   ]
  },
  {
   "cell_type": "code",
   "execution_count": 178,
   "metadata": {},
   "outputs": [
    {
     "data": {
      "text/plain": [
       "pooltypeid10                 0\n",
       "taxdelinquencyflag           0\n",
       "pooltypeid7                  0\n",
       "propertycountylandusecode    0\n",
       "typeconstructiontypeid       0\n",
       "hashottuborspa               0\n",
       "buildingqualitytypeid        0\n",
       "heatingorsystemtypeid        0\n",
       "airconditioningtypeid        0\n",
       "decktypeid                   0\n",
       "fips                         0\n",
       "architecturalstyletypeid     0\n",
       "propertylandusetypeid        0\n",
       "pooltypeid2                  0\n",
       "dtype: int64"
      ]
     },
     "execution_count": 178,
     "metadata": {},
     "output_type": "execute_result"
    }
   ],
   "source": [
    "properties_categorical.isnull().sum()"
   ]
  },
  {
   "cell_type": "code",
   "execution_count": 214,
   "metadata": {},
   "outputs": [
    {
     "data": {
      "text/plain": [
       "5887958"
      ]
     },
     "execution_count": 214,
     "metadata": {},
     "output_type": "execute_result"
    }
   ],
   "source": [
    "len(properties_categorical)"
   ]
  },
  {
   "cell_type": "code",
   "execution_count": 215,
   "metadata": {
    "collapsed": true
   },
   "outputs": [],
   "source": [
    "cat_dummies = pd.get_dummies(properties_categorical, drop_first=True)"
   ]
  },
  {
   "cell_type": "code",
   "execution_count": 226,
   "metadata": {
    "collapsed": true
   },
   "outputs": [],
   "source": [
    "joined_after_ = pd.concat([properties_numerical,cat_dummies], axis=1)"
   ]
  },
  {
   "cell_type": "code",
   "execution_count": 255,
   "metadata": {},
   "outputs": [
    {
     "data": {
      "text/plain": [
       "(5887958, 156)"
      ]
     },
     "execution_count": 255,
     "metadata": {},
     "output_type": "execute_result"
    }
   ],
   "source": [
    "joined_after_[all_vars].shape"
   ]
  },
  {
   "cell_type": "code",
   "execution_count": 228,
   "metadata": {
    "collapsed": true
   },
   "outputs": [],
   "source": [
    "joined_after_['transaction_mth'] = 10"
   ]
  },
  {
   "cell_type": "code",
   "execution_count": 229,
   "metadata": {
    "collapsed": true
   },
   "outputs": [],
   "source": [
    "joined_after_['transaction_yr'] = 2016"
   ]
  },
  {
   "cell_type": "code",
   "execution_count": 230,
   "metadata": {
    "collapsed": true
   },
   "outputs": [],
   "source": [
    "joined_after_['transaction_day_of_wk'] = 4"
   ]
  },
  {
   "cell_type": "code",
   "execution_count": 337,
   "metadata": {
    "collapsed": true
   },
   "outputs": [],
   "source": [
    "def make_prediction(yr, mth, day=4):\n",
    "    joined_after_['transaction_mth'] = mth\n",
    "    joined_after_['transaction_yr'] = yr\n",
    "    joined_after_['transaction_day_of_wk'] = day\n",
    "    return lasso_reg.predict(joined_after_[all_vars].values)"
   ]
  },
  {
   "cell_type": "code",
   "execution_count": 263,
   "metadata": {
    "collapsed": true
   },
   "outputs": [],
   "source": [
    "preds= ['201610','201611','201612','201710','201711','201712']"
   ]
  },
  {
   "cell_type": "code",
   "execution_count": 272,
   "metadata": {},
   "outputs": [
    {
     "data": {
      "text/plain": [
       "(2016, 11)"
      ]
     },
     "execution_count": 272,
     "metadata": {},
     "output_type": "execute_result"
    }
   ],
   "source": [
    "int(preds[1][:4]),int(preds[1][-2:])"
   ]
  },
  {
   "cell_type": "code",
   "execution_count": 273,
   "metadata": {
    "collapsed": true
   },
   "outputs": [],
   "source": [
    "prediction_vals = {}"
   ]
  },
  {
   "cell_type": "code",
   "execution_count": 360,
   "metadata": {},
   "outputs": [
    {
     "name": "stderr",
     "output_type": "stream",
     "text": [
      "2017-10-17 00:43:05,307 Internal Python error in the inspect module.\n",
      "Below is the traceback from this internal error.\n",
      "\n",
      "2017-10-17 00:43:05,347 \n",
      "Unfortunately, your original traceback can not be constructed.\n",
      "\n"
     ]
    },
    {
     "name": "stdout",
     "output_type": "stream",
     "text": [
      "Traceback (most recent call last):\n",
      "  File \"/anaconda/lib/python3.6/site-packages/IPython/core/interactiveshell.py\", line 2881, in run_code\n",
      "    exec(code_obj, self.user_global_ns, self.user_ns)\n",
      "  File \"<ipython-input-360-308c4626f73e>\", line 2, in <module>\n",
      "    prediction_vals[pred]=make_prediction(yr=int(pred[:4]),mth=int(pred[-2:]))\n",
      "  File \"<ipython-input-337-dc717427112b>\", line 5, in make_prediction\n",
      "    return lasso_reg.predict(joined_after_[all_vars].values)\n",
      "  File \"/anaconda/lib/python3.6/site-packages/pandas/core/frame.py\", line 2056, in __getitem__\n",
      "    return self._getitem_array(key)\n",
      "  File \"/anaconda/lib/python3.6/site-packages/pandas/core/frame.py\", line 2101, in _getitem_array\n",
      "    return self.take(indexer, axis=1, convert=True)\n",
      "  File \"/anaconda/lib/python3.6/site-packages/pandas/core/generic.py\", line 1817, in take\n",
      "    convert=True, verify=True)\n",
      "  File \"/anaconda/lib/python3.6/site-packages/pandas/core/internals.py\", line 4011, in take\n",
      "    axis=axis, allow_dups=True)\n",
      "  File \"/anaconda/lib/python3.6/site-packages/pandas/core/internals.py\", line 3893, in reindex_indexer\n",
      "    fill_tuple=(fill_value,))\n",
      "  File \"/anaconda/lib/python3.6/site-packages/pandas/core/internals.py\", line 3973, in _slice_take_blocks_ax0\n",
      "    fill_tuple=None))\n",
      "  File \"/anaconda/lib/python3.6/site-packages/pandas/core/internals.py\", line 1042, in take_nd\n",
      "    allow_fill=False)\n",
      "  File \"/anaconda/lib/python3.6/site-packages/pandas/core/algorithms.py\", line 1466, in take_nd\n",
      "    func(arr, indexer, out, fill_value)\n",
      "KeyboardInterrupt\n",
      "\n",
      "During handling of the above exception, another exception occurred:\n",
      "\n",
      "Traceback (most recent call last):\n",
      "  File \"/anaconda/lib/python3.6/site-packages/IPython/core/interactiveshell.py\", line 1821, in showtraceback\n",
      "    stb = value._render_traceback_()\n",
      "AttributeError: 'KeyboardInterrupt' object has no attribute '_render_traceback_'\n",
      "\n",
      "During handling of the above exception, another exception occurred:\n",
      "\n",
      "Traceback (most recent call last):\n",
      "  File \"/anaconda/lib/python3.6/site-packages/IPython/core/ultratb.py\", line 1132, in get_records\n",
      "    return _fixed_getinnerframes(etb, number_of_lines_of_context, tb_offset)\n",
      "  File \"/anaconda/lib/python3.6/site-packages/IPython/core/ultratb.py\", line 313, in wrapped\n",
      "    return f(*args, **kwargs)\n",
      "  File \"/anaconda/lib/python3.6/site-packages/IPython/core/ultratb.py\", line 358, in _fixed_getinnerframes\n",
      "    records = fix_frame_records_filenames(inspect.getinnerframes(etb, context))\n",
      "  File \"/anaconda/lib/python3.6/inspect.py\", line 1453, in getinnerframes\n",
      "    frameinfo = (tb.tb_frame,) + getframeinfo(tb, context)\n",
      "  File \"/anaconda/lib/python3.6/inspect.py\", line 1415, in getframeinfo\n",
      "    lines, lnum = findsource(frame)\n",
      "  File \"/anaconda/lib/python3.6/site-packages/IPython/core/ultratb.py\", line 229, in findsource\n",
      "    if pmatch(lines[lnum]):\n",
      "KeyboardInterrupt\n"
     ]
    },
    {
     "ename": "KeyboardInterrupt",
     "evalue": "",
     "output_type": "error",
     "traceback": [
      "\u001b[0;31m---------------------------------------------------------------------------\u001b[0m"
     ]
    }
   ],
   "source": [
    "for pred in preds:\n",
    "    prediction_vals[pred]=make_prediction(yr=int(pred[:4]),mth=int(pred[-2:]))"
   ]
  },
  {
   "cell_type": "code",
   "execution_count": 339,
   "metadata": {},
   "outputs": [],
   "source": [
    "sub=pd.DataFrame.from_dict(prediction_vals)"
   ]
  },
  {
   "cell_type": "code",
   "execution_count": 340,
   "metadata": {},
   "outputs": [],
   "source": [
    "sub['ParcelId'] = pd.Series([item for item in properties.parcelid])"
   ]
  },
  {
   "cell_type": "code",
   "execution_count": 341,
   "metadata": {},
   "outputs": [],
   "source": [
    "sub=sub[['ParcelId','201610','201611','201612','201710','201711','201712']]"
   ]
  },
  {
   "cell_type": "code",
   "execution_count": 342,
   "metadata": {},
   "outputs": [
    {
     "data": {
      "text/plain": [
       "5887958"
      ]
     },
     "execution_count": 342,
     "metadata": {},
     "output_type": "execute_result"
    }
   ],
   "source": [
    "len(sub)"
   ]
  },
  {
   "cell_type": "code",
   "execution_count": 343,
   "metadata": {
    "collapsed": true
   },
   "outputs": [],
   "source": [
    "sample = pd.read_csv('data/sample_submission.csv')"
   ]
  },
  {
   "cell_type": "code",
   "execution_count": 344,
   "metadata": {},
   "outputs": [
    {
     "data": {
      "text/plain": [
       "2985217"
      ]
     },
     "execution_count": 344,
     "metadata": {},
     "output_type": "execute_result"
    }
   ],
   "source": [
    "len(sample)"
   ]
  },
  {
   "cell_type": "code",
   "execution_count": 348,
   "metadata": {},
   "outputs": [],
   "source": [
    "sub2=sub.drop_duplicates('ParcelId')"
   ]
  },
  {
   "cell_type": "code",
   "execution_count": 349,
   "metadata": {},
   "outputs": [
    {
     "data": {
      "text/plain": [
       "2985217"
      ]
     },
     "execution_count": 349,
     "metadata": {},
     "output_type": "execute_result"
    }
   ],
   "source": [
    "len(sub2)"
   ]
  },
  {
   "cell_type": "code",
   "execution_count": 350,
   "metadata": {},
   "outputs": [],
   "source": [
    "sub2.to_csv('data/zillow_submission2.csv', index=False)"
   ]
  },
  {
   "cell_type": "code",
   "execution_count": 324,
   "metadata": {
    "collapsed": true
   },
   "outputs": [],
   "source": [
    "df = pd.read_csv('data/zillow_submission.csv')"
   ]
  },
  {
   "cell_type": "code",
   "execution_count": 325,
   "metadata": {},
   "outputs": [
    {
     "data": {
      "text/html": [
       "<div>\n",
       "<style>\n",
       "    .dataframe thead tr:only-child th {\n",
       "        text-align: right;\n",
       "    }\n",
       "\n",
       "    .dataframe thead th {\n",
       "        text-align: left;\n",
       "    }\n",
       "\n",
       "    .dataframe tbody tr th {\n",
       "        vertical-align: top;\n",
       "    }\n",
       "</style>\n",
       "<table border=\"1\" class=\"dataframe\">\n",
       "  <thead>\n",
       "    <tr style=\"text-align: right;\">\n",
       "      <th></th>\n",
       "      <th>ParcelId</th>\n",
       "      <th>201610</th>\n",
       "      <th>201611</th>\n",
       "      <th>201612</th>\n",
       "      <th>201710</th>\n",
       "      <th>201711</th>\n",
       "      <th>201712</th>\n",
       "    </tr>\n",
       "  </thead>\n",
       "  <tbody>\n",
       "    <tr>\n",
       "      <th>0</th>\n",
       "      <td>10754147</td>\n",
       "      <td>0.011427</td>\n",
       "      <td>0.011828</td>\n",
       "      <td>0.012230</td>\n",
       "      <td>0.016818</td>\n",
       "      <td>0.017219</td>\n",
       "      <td>0.017621</td>\n",
       "    </tr>\n",
       "    <tr>\n",
       "      <th>1</th>\n",
       "      <td>10759547</td>\n",
       "      <td>0.011546</td>\n",
       "      <td>0.011948</td>\n",
       "      <td>0.012349</td>\n",
       "      <td>0.016937</td>\n",
       "      <td>0.017339</td>\n",
       "      <td>0.017740</td>\n",
       "    </tr>\n",
       "    <tr>\n",
       "      <th>2</th>\n",
       "      <td>10843547</td>\n",
       "      <td>0.013009</td>\n",
       "      <td>0.013411</td>\n",
       "      <td>0.013812</td>\n",
       "      <td>0.018400</td>\n",
       "      <td>0.018802</td>\n",
       "      <td>0.019203</td>\n",
       "    </tr>\n",
       "    <tr>\n",
       "      <th>3</th>\n",
       "      <td>10859147</td>\n",
       "      <td>0.012600</td>\n",
       "      <td>0.013002</td>\n",
       "      <td>0.013403</td>\n",
       "      <td>0.017991</td>\n",
       "      <td>0.018393</td>\n",
       "      <td>0.018794</td>\n",
       "    </tr>\n",
       "    <tr>\n",
       "      <th>4</th>\n",
       "      <td>10879947</td>\n",
       "      <td>0.012289</td>\n",
       "      <td>0.012690</td>\n",
       "      <td>0.013092</td>\n",
       "      <td>0.017680</td>\n",
       "      <td>0.018081</td>\n",
       "      <td>0.018483</td>\n",
       "    </tr>\n",
       "  </tbody>\n",
       "</table>\n",
       "</div>"
      ],
      "text/plain": [
       "   ParcelId    201610    201611    201612    201710    201711    201712\n",
       "0  10754147  0.011427  0.011828  0.012230  0.016818  0.017219  0.017621\n",
       "1  10759547  0.011546  0.011948  0.012349  0.016937  0.017339  0.017740\n",
       "2  10843547  0.013009  0.013411  0.013812  0.018400  0.018802  0.019203\n",
       "3  10859147  0.012600  0.013002  0.013403  0.017991  0.018393  0.018794\n",
       "4  10879947  0.012289  0.012690  0.013092  0.017680  0.018081  0.018483"
      ]
     },
     "execution_count": 325,
     "metadata": {},
     "output_type": "execute_result"
    }
   ],
   "source": [
    "df.head()"
   ]
  },
  {
   "cell_type": "code",
   "execution_count": 326,
   "metadata": {},
   "outputs": [
    {
     "data": {
      "text/plain": [
       "2985217"
      ]
     },
     "execution_count": 326,
     "metadata": {},
     "output_type": "execute_result"
    }
   ],
   "source": [
    "len(df)"
   ]
  },
  {
   "cell_type": "code",
   "execution_count": null,
   "metadata": {
    "collapsed": true
   },
   "outputs": [],
   "source": []
  }
 ],
 "metadata": {
  "kernelspec": {
   "display_name": "Python 3",
   "language": "python",
   "name": "python3"
  },
  "language_info": {
   "codemirror_mode": {
    "name": "ipython",
    "version": 3
   },
   "file_extension": ".py",
   "mimetype": "text/x-python",
   "name": "python",
   "nbconvert_exporter": "python",
   "pygments_lexer": "ipython3",
   "version": "3.6.1"
  }
 },
 "nbformat": 4,
 "nbformat_minor": 2
}
