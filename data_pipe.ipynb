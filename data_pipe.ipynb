{
 "cells": [
  {
   "cell_type": "code",
   "execution_count": 1,
   "metadata": {},
   "outputs": [],
   "source": [
    "import pandas as pd\n",
    "import numpy as np\n",
    "import gc \n",
    "\n",
    "import logging\n",
    "\n",
    "logging.basicConfig(format='%(asctime)s %(message)s', level=logging.INFO)\n",
    "\n",
    "\n",
    "from sklearn.base import BaseEstimator, TransformerMixin\n",
    "from sklearn.preprocessing import Imputer"
   ]
  },
  {
   "cell_type": "code",
   "execution_count": 214,
   "metadata": {},
   "outputs": [],
   "source": [
    "def load_data(path_to_data='data', sample_size = None):\n",
    "\tlogging.info('Reading Properties 2016...')\n",
    "\tprop_2016 = pd.read_csv('{}/properties_2016.csv'.format(path_to_data))\n",
    "\t\n",
    "\tlogging.info('Reading Properties 2017...')\n",
    "\tprop_2017 = pd.read_csv('{}/properties_2017.csv'.format(path_to_data))\n",
    "\t\n",
    "\tlogging.info('Reading Train 2016...')\n",
    "\ttarget_2016 = pd.read_csv('{}/train_2016_v2.csv'.format(path_to_data))\n",
    "\t\n",
    "\tlogging.info('Reading Train 2017..')\n",
    "\ttarget_2017 = pd.read_csv('{}/train_2017.csv'.format(path_to_data))\n",
    "\t\n",
    "\tlogging.info('Performing merge')\n",
    "\tjoined_data_2016 = pd.merge(target_2016,prop_2016,on=\"parcelid\",how=\"left\")\n",
    "\tjoined_data_2017 = pd.merge(target_2017, prop_2017,on='parcelid',how='left')\n",
    "\n",
    "\tjoined_data = pd.concat([joined_data_2016,joined_data_2017])\n",
    "\n",
    "\t# convert dates:\n",
    "\tjoined_data.transactiondate = pd.to_datetime(joined_data.transactiondate,format=\"%Y-%m-%d\")\n",
    "\n",
    "\tjoined_data['transaction_mth'] = joined_data.transactiondate.apply(lambda x:x.month)\n",
    "\tjoined_data['transaction_yr'] = joined_data.transactiondate.apply(lambda x: x.year)\n",
    "\tjoined_data['transaction_day_of_wk'] = joined_data.transactiondate.apply(lambda x: x.dayofweek)\n",
    "\tjoined_data=joined_data.drop('transactiondate',axis=1)\n",
    "\n",
    "\n",
    "\t# save memory\n",
    "\tfor c, dtype in zip(joined_data.columns, joined_data.dtypes):\n",
    "\t\tif dtype == np.float64:\n",
    "\t\t\tjoined_data[c] = joined_data[c].astype(np.float32)\n",
    "    \n",
    "\tdel target_2016\n",
    "\tdel target_2017\n",
    "\tdel prop_2016\n",
    "\tdel prop_2017\n",
    "\n",
    "\tgc.collect()\n",
    "\t\n",
    "\n",
    "\tif sample_size is not None:\n",
    "\t\tlogging.info('Sampling: {} of data'.format(sample_size))\n",
    "\t\tjoined_data = joined_data.sample(frac=sample_size)\n",
    "\n",
    "\treturn joined_data, joined_data['logerror'].values\n"
   ]
  },
  {
   "cell_type": "code",
   "execution_count": 215,
   "metadata": {
    "collapsed": true
   },
   "outputs": [],
   "source": [
    "def drop_columns(data, drop_cols):\n",
    "\t# mostly null\n",
    "\tdata = data.drop(drop_cols, axis=1)\n",
    "\tdata.drop_duplicates(inplace = True)\n",
    "\n",
    "\treturn data"
   ]
  },
  {
   "cell_type": "code",
   "execution_count": 216,
   "metadata": {
    "collapsed": true
   },
   "outputs": [],
   "source": [
    "def columns_after_drop(numeric, categorical, drop_columns):\n",
    "\tnumeric = list(set(numeric) - (set(numeric) & set(drop_columns)))\n",
    "\tcategorical = list(set(categorical) - (set(categorical) & set(drop_columns)))\n",
    "\n",
    "\treturn numeric, categorical"
   ]
  },
  {
   "cell_type": "code",
   "execution_count": 217,
   "metadata": {
    "collapsed": true
   },
   "outputs": [],
   "source": [
    "def impute_numerical_var(joined_data, numerical_cols):\n",
    "\tlogging.info('Filling numeric NAs')\n",
    "\n",
    "\t# numerical vars\n",
    "\tnumerical_data = joined_data.copy().reset_index()\n",
    "\tnumerical_data = numerical_data[numerical_cols]\n",
    "\tnumerical_data_cols = numerical_data.columns\n",
    "\n",
    "\tnumeric_imp  = Imputer(strategy='median', axis=0)     \n",
    "\tnumerical_data = pd.DataFrame(numeric_imp.fit_transform(numerical_data.values), columns=numerical_data_cols)\n",
    "\n",
    "\treturn numerical_data,  {key:val for key,val in  zip(numerical_data_cols, numeric_imp.statistics_)}"
   ]
  },
  {
   "cell_type": "code",
   "execution_count": 218,
   "metadata": {},
   "outputs": [],
   "source": [
    "def impute_categorical_var(joined_data, categorical_cols):\n",
    "\t# categorical vars\n",
    "\tcategorical_data = joined_data.copy().reset_index()\n",
    "\tcategorical_data  = categorical_data[categorical_cols]\n",
    "\n",
    "\tif 'hashottuborspa' in categorical_cols:\n",
    "\t\tcategorical_data['hashottuborspa']=categorical_data['hashottuborspa'].apply(lambda x: 1 if x == 'True' else 0)\n",
    "\n",
    "\tif 'taxdelinquencyflag' in categorical_cols:\n",
    "\t\tcategorical_data['taxdelinquencyflag']=categorical_data['hashottuborspa'].apply(lambda x: 1 if str(x).strip().lower() == 'y' else 0)\n",
    "\n",
    "\tfor c, dtype in zip(categorical_data.columns, categorical_data.dtypes):\n",
    "\t\tcategorical_data[c] = categorical_data[c].apply(lambda x: x if pd.isnull(x) else str(x))\n",
    "\n",
    "\tcategorical_data_cols = categorical_data.columns\n",
    "\n",
    "\tmost_frequent_lst = []\n",
    "    \n",
    "\tlogging.info('Using most frequent...')\n",
    "    \n",
    "\tfor col in categorical_data_cols:\n",
    "\t\tlogging.info(\"Filling NA: {}\".format(col))\n",
    "\t\t# logging.info(\"Filling NA: {}\".format(col))\n",
    "\t\tmk=categorical_data[col].notnull()\n",
    "\t\tvalue_counts = categorical_data[mk][col].value_counts()\n",
    "\t\tmost_frequent_lst.append(value_counts.index[0])\n",
    "\t\tcategorical_data[col].fillna(most_frequent_lst[-1], inplace=True)\n",
    "\n",
    "\treturn categorical_data, {key:val for key,val in zip(categorical_data_cols, most_frequent_lst)}"
   ]
  },
  {
   "cell_type": "code",
   "execution_count": 219,
   "metadata": {
    "collapsed": true
   },
   "outputs": [],
   "source": [
    "numeric_cols = ['assessmentyear','basementsqft',\t'bathroomcnt',\t'bedroomcnt',\t'calculatedbathnbr', \n",
    "                'calculatedfinishedsquarefeet',\t'finishedfloor1squarefeet',\t'finishedsquarefeet12',\n",
    "                'finishedsquarefeet13',\t'finishedsquarefeet15',\t'finishedsquarefeet50',\t'finishedsquarefeet6',\n",
    "                'fireplacecnt',\t'fullbathcnt',\t'garagecarcnt',\t'garagetotalsqft',\t'landtaxvaluedollarcnt',\n",
    "                'lotsizesquarefeet',\t'numberofstories',\t'poolcnt',\t'poolsizesum',\t'roomcnt',\n",
    "                'structuretaxvaluedollarcnt',\t'taxamount',\t'taxvaluedollarcnt',\t'threequarterbathnbr',\n",
    "                'unitcnt',\t'yardbuildingsqft17',\t'yardbuildingsqft26','transaction_day_of_wk','transaction_mth','transaction_yr',\n",
    "               'taxdelinquencyyear','yearbuilt','latitude','longitude']\n",
    "\n",
    "categorical_cols = ['airconditioningtypeid','architecturalstyletypeid','buildingclasstypeid','buildingqualitytypeid',\n",
    "'censustractandblock','decktypeid','fips','fireplaceflag','hashottuborspa',\n",
    " 'heatingorsystemtypeid','parcelid','pooltypeid10','pooltypeid2','pooltypeid7','propertycountylandusecode',\n",
    " 'propertylandusetypeid','propertyzoningdesc', 'rawcensustractandblock','regionidcity','regionidcounty','regionidneighborhood','regionidzip',\n",
    " 'storytypeid','taxdelinquencyflag','typeconstructiontypeid']\n",
    "\n",
    "drop_cols = ['buildingclasstypeid','propertyzoningdesc','garagetotalsqft',\t'garagecarcnt',\t'numberofstories',\t'poolcnt',\t'threequarterbathnbr',\t\n",
    "\t'fireplacecnt',\t'finishedfloor1squarefeet','finishedsquarefeet50','finishedsquarefeet15',\n",
    "\t'finishedsquarefeet12', 'yardbuildingsqft17',\t'poolsizesum',\t'finishedsquarefeet6',\t'yardbuildingsqft26',\t\n",
    "\t'basementsqft',\t'finishedsquarefeet13','assessmentyear','calculatedbathnbr','parcelid',\n",
    "\t'rawcensustractandblock', 'censustractandblock','regionidzip','regionidcounty','regionidcity','regionidneighborhood',\n",
    "\t'regionidneighborhood','taxvaluedollarcnt','buildingclasstypeid','fireplaceflag','storytypeid']\t"
   ]
  },
  {
   "cell_type": "code",
   "execution_count": 220,
   "metadata": {},
   "outputs": [
    {
     "name": "stderr",
     "output_type": "stream",
     "text": [
      "2017-10-10 13:26:26,964 Reading Properties 2016...\n",
      "/anaconda/lib/python3.6/site-packages/IPython/core/interactiveshell.py:2821: DtypeWarning: Columns (22,32,34,49,55) have mixed types. Specify dtype option on import or set low_memory=False.\n",
      "  if self.run_code(code, result):\n",
      "2017-10-10 13:26:48,288 Reading Properties 2017...\n",
      "/anaconda/lib/python3.6/site-packages/IPython/core/interactiveshell.py:2821: DtypeWarning: Columns (49) have mixed types. Specify dtype option on import or set low_memory=False.\n",
      "  if self.run_code(code, result):\n",
      "2017-10-10 13:27:09,753 Reading Train 2016...\n",
      "2017-10-10 13:27:09,834 Reading Train 2017..\n",
      "2017-10-10 13:27:09,889 Performing merge\n",
      "2017-10-10 13:27:20,170 Sampling: 0.1 of data\n"
     ]
    }
   ],
   "source": [
    "joined_data, logerror_var = load_data(path_to_data='data', sample_size=0.1)\n"
   ]
  },
  {
   "cell_type": "code",
   "execution_count": 221,
   "metadata": {},
   "outputs": [
    {
     "data": {
      "text/plain": [
       "(16789, 16789)"
      ]
     },
     "execution_count": 221,
     "metadata": {},
     "output_type": "execute_result"
    }
   ],
   "source": [
    "len(joined_data),len(logerror_var)"
   ]
  },
  {
   "cell_type": "code",
   "execution_count": 222,
   "metadata": {},
   "outputs": [],
   "source": [
    "joined_data = drop_columns(joined_data, drop_cols)"
   ]
  },
  {
   "cell_type": "code",
   "execution_count": 223,
   "metadata": {},
   "outputs": [],
   "source": [
    "# if you need to drop a column, add it to drop_cols\n",
    "numeric_cols, categorical_cols = columns_after_drop(numeric_cols, categorical_cols, drop_cols)"
   ]
  },
  {
   "cell_type": "code",
   "execution_count": 224,
   "metadata": {},
   "outputs": [
    {
     "name": "stderr",
     "output_type": "stream",
     "text": [
      "2017-10-10 13:27:24,491 Filling numeric NAs\n"
     ]
    }
   ],
   "source": [
    "numeric_data, imputations_numeric = impute_numerical_var(joined_data, numeric_cols)"
   ]
  },
  {
   "cell_type": "code",
   "execution_count": 225,
   "metadata": {},
   "outputs": [
    {
     "data": {
      "text/html": [
       "<div>\n",
       "<style>\n",
       "    .dataframe thead tr:only-child th {\n",
       "        text-align: right;\n",
       "    }\n",
       "\n",
       "    .dataframe thead th {\n",
       "        text-align: left;\n",
       "    }\n",
       "\n",
       "    .dataframe tbody tr th {\n",
       "        vertical-align: top;\n",
       "    }\n",
       "</style>\n",
       "<table border=\"1\" class=\"dataframe\">\n",
       "  <thead>\n",
       "    <tr style=\"text-align: right;\">\n",
       "      <th></th>\n",
       "      <th>transaction_mth</th>\n",
       "      <th>yearbuilt</th>\n",
       "      <th>roomcnt</th>\n",
       "      <th>taxamount</th>\n",
       "      <th>bedroomcnt</th>\n",
       "      <th>fullbathcnt</th>\n",
       "      <th>calculatedfinishedsquarefeet</th>\n",
       "      <th>bathroomcnt</th>\n",
       "      <th>structuretaxvaluedollarcnt</th>\n",
       "      <th>taxdelinquencyyear</th>\n",
       "      <th>longitude</th>\n",
       "      <th>transaction_day_of_wk</th>\n",
       "      <th>lotsizesquarefeet</th>\n",
       "      <th>landtaxvaluedollarcnt</th>\n",
       "      <th>unitcnt</th>\n",
       "      <th>latitude</th>\n",
       "      <th>transaction_yr</th>\n",
       "    </tr>\n",
       "  </thead>\n",
       "  <tbody>\n",
       "    <tr>\n",
       "      <th>0</th>\n",
       "      <td>6.0</td>\n",
       "      <td>1971.0</td>\n",
       "      <td>6.0</td>\n",
       "      <td>5074.060059</td>\n",
       "      <td>3.0</td>\n",
       "      <td>1.0</td>\n",
       "      <td>1121.0</td>\n",
       "      <td>1.5</td>\n",
       "      <td>69258.0</td>\n",
       "      <td>14.0</td>\n",
       "      <td>-117850552.0</td>\n",
       "      <td>3.0</td>\n",
       "      <td>1453.0</td>\n",
       "      <td>297742.0</td>\n",
       "      <td>1.0</td>\n",
       "      <td>33905404.0</td>\n",
       "      <td>2016.0</td>\n",
       "    </tr>\n",
       "    <tr>\n",
       "      <th>1</th>\n",
       "      <td>8.0</td>\n",
       "      <td>1989.0</td>\n",
       "      <td>0.0</td>\n",
       "      <td>2276.600098</td>\n",
       "      <td>2.0</td>\n",
       "      <td>2.0</td>\n",
       "      <td>975.0</td>\n",
       "      <td>2.0</td>\n",
       "      <td>125044.0</td>\n",
       "      <td>14.0</td>\n",
       "      <td>-117744560.0</td>\n",
       "      <td>1.0</td>\n",
       "      <td>2392.0</td>\n",
       "      <td>95410.0</td>\n",
       "      <td>1.0</td>\n",
       "      <td>33599748.0</td>\n",
       "      <td>2016.0</td>\n",
       "    </tr>\n",
       "    <tr>\n",
       "      <th>2</th>\n",
       "      <td>6.0</td>\n",
       "      <td>1979.0</td>\n",
       "      <td>0.0</td>\n",
       "      <td>5003.439941</td>\n",
       "      <td>2.0</td>\n",
       "      <td>3.0</td>\n",
       "      <td>1417.0</td>\n",
       "      <td>3.0</td>\n",
       "      <td>159885.0</td>\n",
       "      <td>14.0</td>\n",
       "      <td>-118182632.0</td>\n",
       "      <td>4.0</td>\n",
       "      <td>88080.0</td>\n",
       "      <td>254327.0</td>\n",
       "      <td>1.0</td>\n",
       "      <td>34099472.0</td>\n",
       "      <td>2017.0</td>\n",
       "    </tr>\n",
       "    <tr>\n",
       "      <th>3</th>\n",
       "      <td>2.0</td>\n",
       "      <td>1969.0</td>\n",
       "      <td>0.0</td>\n",
       "      <td>3504.340088</td>\n",
       "      <td>3.0</td>\n",
       "      <td>2.0</td>\n",
       "      <td>1221.0</td>\n",
       "      <td>2.0</td>\n",
       "      <td>73519.0</td>\n",
       "      <td>14.0</td>\n",
       "      <td>-118075000.0</td>\n",
       "      <td>0.0</td>\n",
       "      <td>7214.0</td>\n",
       "      <td>202350.0</td>\n",
       "      <td>1.0</td>\n",
       "      <td>33785200.0</td>\n",
       "      <td>2017.0</td>\n",
       "    </tr>\n",
       "    <tr>\n",
       "      <th>4</th>\n",
       "      <td>9.0</td>\n",
       "      <td>1987.0</td>\n",
       "      <td>0.0</td>\n",
       "      <td>3023.610107</td>\n",
       "      <td>3.0</td>\n",
       "      <td>2.0</td>\n",
       "      <td>1140.0</td>\n",
       "      <td>2.0</td>\n",
       "      <td>155940.0</td>\n",
       "      <td>15.0</td>\n",
       "      <td>-118256568.0</td>\n",
       "      <td>4.0</td>\n",
       "      <td>5582.0</td>\n",
       "      <td>86083.0</td>\n",
       "      <td>1.0</td>\n",
       "      <td>34070128.0</td>\n",
       "      <td>2016.0</td>\n",
       "    </tr>\n",
       "  </tbody>\n",
       "</table>\n",
       "</div>"
      ],
      "text/plain": [
       "   transaction_mth  yearbuilt  roomcnt    taxamount  bedroomcnt  fullbathcnt  \\\n",
       "0              6.0     1971.0      6.0  5074.060059         3.0          1.0   \n",
       "1              8.0     1989.0      0.0  2276.600098         2.0          2.0   \n",
       "2              6.0     1979.0      0.0  5003.439941         2.0          3.0   \n",
       "3              2.0     1969.0      0.0  3504.340088         3.0          2.0   \n",
       "4              9.0     1987.0      0.0  3023.610107         3.0          2.0   \n",
       "\n",
       "   calculatedfinishedsquarefeet  bathroomcnt  structuretaxvaluedollarcnt  \\\n",
       "0                        1121.0          1.5                     69258.0   \n",
       "1                         975.0          2.0                    125044.0   \n",
       "2                        1417.0          3.0                    159885.0   \n",
       "3                        1221.0          2.0                     73519.0   \n",
       "4                        1140.0          2.0                    155940.0   \n",
       "\n",
       "   taxdelinquencyyear    longitude  transaction_day_of_wk  lotsizesquarefeet  \\\n",
       "0                14.0 -117850552.0                    3.0             1453.0   \n",
       "1                14.0 -117744560.0                    1.0             2392.0   \n",
       "2                14.0 -118182632.0                    4.0            88080.0   \n",
       "3                14.0 -118075000.0                    0.0             7214.0   \n",
       "4                15.0 -118256568.0                    4.0             5582.0   \n",
       "\n",
       "   landtaxvaluedollarcnt  unitcnt    latitude  transaction_yr  \n",
       "0               297742.0      1.0  33905404.0          2016.0  \n",
       "1                95410.0      1.0  33599748.0          2016.0  \n",
       "2               254327.0      1.0  34099472.0          2017.0  \n",
       "3               202350.0      1.0  33785200.0          2017.0  \n",
       "4                86083.0      1.0  34070128.0          2016.0  "
      ]
     },
     "execution_count": 225,
     "metadata": {},
     "output_type": "execute_result"
    }
   ],
   "source": [
    "numeric_data.head()"
   ]
  },
  {
   "cell_type": "code",
   "execution_count": 226,
   "metadata": {},
   "outputs": [
    {
     "data": {
      "text/plain": [
       "{'bathroomcnt': 2.0,\n",
       " 'bedroomcnt': 3.0,\n",
       " 'calculatedfinishedsquarefeet': 1534.0,\n",
       " 'fullbathcnt': 2.0,\n",
       " 'landtaxvaluedollarcnt': 198152.0,\n",
       " 'latitude': 34024556.0,\n",
       " 'longitude': -118178908.0,\n",
       " 'lotsizesquarefeet': 7214.0,\n",
       " 'roomcnt': 0.0,\n",
       " 'structuretaxvaluedollarcnt': 134433.0,\n",
       " 'taxamount': 4491.1201171875,\n",
       " 'taxdelinquencyyear': 14.0,\n",
       " 'transaction_day_of_wk': 2.0,\n",
       " 'transaction_mth': 6.0,\n",
       " 'transaction_yr': 2016.0,\n",
       " 'unitcnt': 1.0,\n",
       " 'yearbuilt': 1970.0}"
      ]
     },
     "execution_count": 226,
     "metadata": {},
     "output_type": "execute_result"
    }
   ],
   "source": [
    "imputations_numeric"
   ]
  },
  {
   "cell_type": "code",
   "execution_count": 227,
   "metadata": {},
   "outputs": [
    {
     "name": "stderr",
     "output_type": "stream",
     "text": [
      "2017-10-10 13:27:26,155 Using most frequent...\n",
      "2017-10-10 13:27:26,156 Filling NA: hashottuborspa\n",
      "2017-10-10 13:27:26,184 Filling NA: typeconstructiontypeid\n",
      "2017-10-10 13:27:26,189 Filling NA: airconditioningtypeid\n",
      "2017-10-10 13:27:26,200 Filling NA: heatingorsystemtypeid\n",
      "2017-10-10 13:27:26,212 Filling NA: pooltypeid7\n",
      "2017-10-10 13:27:26,221 Filling NA: decktypeid\n",
      "2017-10-10 13:27:26,225 Filling NA: pooltypeid2\n",
      "2017-10-10 13:27:26,234 Filling NA: buildingqualitytypeid\n",
      "2017-10-10 13:27:26,245 Filling NA: taxdelinquencyflag\n",
      "2017-10-10 13:27:26,262 Filling NA: fips\n",
      "2017-10-10 13:27:26,278 Filling NA: architecturalstyletypeid\n",
      "2017-10-10 13:27:26,283 Filling NA: pooltypeid10\n",
      "2017-10-10 13:27:26,291 Filling NA: propertycountylandusecode\n",
      "2017-10-10 13:27:26,305 Filling NA: propertylandusetypeid\n"
     ]
    }
   ],
   "source": [
    "categorical_data, imputations_categorical = impute_categorical_var(joined_data, categorical_cols)"
   ]
  },
  {
   "cell_type": "code",
   "execution_count": 228,
   "metadata": {},
   "outputs": [
    {
     "data": {
      "text/html": [
       "<div>\n",
       "<style>\n",
       "    .dataframe thead tr:only-child th {\n",
       "        text-align: right;\n",
       "    }\n",
       "\n",
       "    .dataframe thead th {\n",
       "        text-align: left;\n",
       "    }\n",
       "\n",
       "    .dataframe tbody tr th {\n",
       "        vertical-align: top;\n",
       "    }\n",
       "</style>\n",
       "<table border=\"1\" class=\"dataframe\">\n",
       "  <thead>\n",
       "    <tr style=\"text-align: right;\">\n",
       "      <th></th>\n",
       "      <th>hashottuborspa</th>\n",
       "      <th>typeconstructiontypeid</th>\n",
       "      <th>airconditioningtypeid</th>\n",
       "      <th>heatingorsystemtypeid</th>\n",
       "      <th>pooltypeid7</th>\n",
       "      <th>decktypeid</th>\n",
       "      <th>pooltypeid2</th>\n",
       "      <th>buildingqualitytypeid</th>\n",
       "      <th>taxdelinquencyflag</th>\n",
       "      <th>fips</th>\n",
       "      <th>architecturalstyletypeid</th>\n",
       "      <th>pooltypeid10</th>\n",
       "      <th>propertycountylandusecode</th>\n",
       "      <th>propertylandusetypeid</th>\n",
       "    </tr>\n",
       "  </thead>\n",
       "  <tbody>\n",
       "    <tr>\n",
       "      <th>0</th>\n",
       "      <td>0</td>\n",
       "      <td>6.0</td>\n",
       "      <td>1.0</td>\n",
       "      <td>2.0</td>\n",
       "      <td>1.0</td>\n",
       "      <td>66.0</td>\n",
       "      <td>1.0</td>\n",
       "      <td>7.0</td>\n",
       "      <td>0</td>\n",
       "      <td>6059.0</td>\n",
       "      <td>7.0</td>\n",
       "      <td>1.0</td>\n",
       "      <td>122</td>\n",
       "      <td>261.0</td>\n",
       "    </tr>\n",
       "    <tr>\n",
       "      <th>1</th>\n",
       "      <td>0</td>\n",
       "      <td>6.0</td>\n",
       "      <td>1.0</td>\n",
       "      <td>2.0</td>\n",
       "      <td>1.0</td>\n",
       "      <td>66.0</td>\n",
       "      <td>1.0</td>\n",
       "      <td>7.0</td>\n",
       "      <td>0</td>\n",
       "      <td>6059.0</td>\n",
       "      <td>7.0</td>\n",
       "      <td>1.0</td>\n",
       "      <td>34</td>\n",
       "      <td>266.0</td>\n",
       "    </tr>\n",
       "    <tr>\n",
       "      <th>2</th>\n",
       "      <td>0</td>\n",
       "      <td>6.0</td>\n",
       "      <td>1.0</td>\n",
       "      <td>2.0</td>\n",
       "      <td>1.0</td>\n",
       "      <td>66.0</td>\n",
       "      <td>1.0</td>\n",
       "      <td>8.0</td>\n",
       "      <td>0</td>\n",
       "      <td>6037.0</td>\n",
       "      <td>7.0</td>\n",
       "      <td>1.0</td>\n",
       "      <td>010C</td>\n",
       "      <td>266.0</td>\n",
       "    </tr>\n",
       "    <tr>\n",
       "      <th>3</th>\n",
       "      <td>0</td>\n",
       "      <td>6.0</td>\n",
       "      <td>1.0</td>\n",
       "      <td>2.0</td>\n",
       "      <td>1.0</td>\n",
       "      <td>66.0</td>\n",
       "      <td>1.0</td>\n",
       "      <td>7.0</td>\n",
       "      <td>0</td>\n",
       "      <td>6059.0</td>\n",
       "      <td>7.0</td>\n",
       "      <td>1.0</td>\n",
       "      <td>34</td>\n",
       "      <td>266.0</td>\n",
       "    </tr>\n",
       "    <tr>\n",
       "      <th>4</th>\n",
       "      <td>0</td>\n",
       "      <td>6.0</td>\n",
       "      <td>1.0</td>\n",
       "      <td>2.0</td>\n",
       "      <td>1.0</td>\n",
       "      <td>66.0</td>\n",
       "      <td>1.0</td>\n",
       "      <td>7.0</td>\n",
       "      <td>0</td>\n",
       "      <td>6037.0</td>\n",
       "      <td>7.0</td>\n",
       "      <td>1.0</td>\n",
       "      <td>0100</td>\n",
       "      <td>261.0</td>\n",
       "    </tr>\n",
       "  </tbody>\n",
       "</table>\n",
       "</div>"
      ],
      "text/plain": [
       "  hashottuborspa typeconstructiontypeid airconditioningtypeid  \\\n",
       "0              0                    6.0                   1.0   \n",
       "1              0                    6.0                   1.0   \n",
       "2              0                    6.0                   1.0   \n",
       "3              0                    6.0                   1.0   \n",
       "4              0                    6.0                   1.0   \n",
       "\n",
       "  heatingorsystemtypeid pooltypeid7 decktypeid pooltypeid2  \\\n",
       "0                   2.0         1.0       66.0         1.0   \n",
       "1                   2.0         1.0       66.0         1.0   \n",
       "2                   2.0         1.0       66.0         1.0   \n",
       "3                   2.0         1.0       66.0         1.0   \n",
       "4                   2.0         1.0       66.0         1.0   \n",
       "\n",
       "  buildingqualitytypeid taxdelinquencyflag    fips architecturalstyletypeid  \\\n",
       "0                   7.0                  0  6059.0                      7.0   \n",
       "1                   7.0                  0  6059.0                      7.0   \n",
       "2                   8.0                  0  6037.0                      7.0   \n",
       "3                   7.0                  0  6059.0                      7.0   \n",
       "4                   7.0                  0  6037.0                      7.0   \n",
       "\n",
       "  pooltypeid10 propertycountylandusecode propertylandusetypeid  \n",
       "0          1.0                       122                 261.0  \n",
       "1          1.0                        34                 266.0  \n",
       "2          1.0                      010C                 266.0  \n",
       "3          1.0                        34                 266.0  \n",
       "4          1.0                      0100                 261.0  "
      ]
     },
     "execution_count": 228,
     "metadata": {},
     "output_type": "execute_result"
    }
   ],
   "source": [
    "categorical_data.head()"
   ]
  },
  {
   "cell_type": "code",
   "execution_count": 229,
   "metadata": {},
   "outputs": [
    {
     "data": {
      "text/plain": [
       "{'airconditioningtypeid': '1.0',\n",
       " 'architecturalstyletypeid': '7.0',\n",
       " 'buildingqualitytypeid': '7.0',\n",
       " 'decktypeid': '66.0',\n",
       " 'fips': '6037.0',\n",
       " 'hashottuborspa': '0',\n",
       " 'heatingorsystemtypeid': '2.0',\n",
       " 'pooltypeid10': '1.0',\n",
       " 'pooltypeid2': '1.0',\n",
       " 'pooltypeid7': '1.0',\n",
       " 'propertycountylandusecode': '0100',\n",
       " 'propertylandusetypeid': '261.0',\n",
       " 'taxdelinquencyflag': '0',\n",
       " 'typeconstructiontypeid': '6.0'}"
      ]
     },
     "execution_count": 229,
     "metadata": {},
     "output_type": "execute_result"
    }
   ],
   "source": [
    "imputations_categorical"
   ]
  },
  {
   "cell_type": "code",
   "execution_count": 230,
   "metadata": {
    "collapsed": true
   },
   "outputs": [],
   "source": [
    "cat_dummies = pd.get_dummies(categorical_data, drop_first=True)"
   ]
  },
  {
   "cell_type": "code",
   "execution_count": 231,
   "metadata": {},
   "outputs": [],
   "source": [
    "joined_after_imputation = pd.concat([numeric_data,cat_dummies], axis=1)"
   ]
  },
  {
   "cell_type": "code",
   "execution_count": 232,
   "metadata": {},
   "outputs": [
    {
     "data": {
      "text/plain": [
       "16789"
      ]
     },
     "execution_count": 232,
     "metadata": {},
     "output_type": "execute_result"
    }
   ],
   "source": [
    "len(joined_after_imputation)"
   ]
  },
  {
   "cell_type": "code",
   "execution_count": 233,
   "metadata": {
    "scrolled": false
   },
   "outputs": [],
   "source": [
    "joined_after_imputation['logerror_var'] = pd.Series(logerror_var)"
   ]
  },
  {
   "cell_type": "code",
   "execution_count": 234,
   "metadata": {},
   "outputs": [
    {
     "data": {
      "text/html": [
       "<div>\n",
       "<style>\n",
       "    .dataframe thead tr:only-child th {\n",
       "        text-align: right;\n",
       "    }\n",
       "\n",
       "    .dataframe thead th {\n",
       "        text-align: left;\n",
       "    }\n",
       "\n",
       "    .dataframe tbody tr th {\n",
       "        vertical-align: top;\n",
       "    }\n",
       "</style>\n",
       "<table border=\"1\" class=\"dataframe\">\n",
       "  <thead>\n",
       "    <tr style=\"text-align: right;\">\n",
       "      <th></th>\n",
       "      <th>transaction_mth</th>\n",
       "      <th>yearbuilt</th>\n",
       "      <th>roomcnt</th>\n",
       "      <th>taxamount</th>\n",
       "      <th>bedroomcnt</th>\n",
       "      <th>fullbathcnt</th>\n",
       "      <th>calculatedfinishedsquarefeet</th>\n",
       "      <th>bathroomcnt</th>\n",
       "      <th>structuretaxvaluedollarcnt</th>\n",
       "      <th>taxdelinquencyyear</th>\n",
       "      <th>...</th>\n",
       "      <th>propertylandusetypeid_248.0</th>\n",
       "      <th>propertylandusetypeid_260.0</th>\n",
       "      <th>propertylandusetypeid_261.0</th>\n",
       "      <th>propertylandusetypeid_263.0</th>\n",
       "      <th>propertylandusetypeid_265.0</th>\n",
       "      <th>propertylandusetypeid_266.0</th>\n",
       "      <th>propertylandusetypeid_267.0</th>\n",
       "      <th>propertylandusetypeid_269.0</th>\n",
       "      <th>propertylandusetypeid_275.0</th>\n",
       "      <th>logerror_var</th>\n",
       "    </tr>\n",
       "  </thead>\n",
       "  <tbody>\n",
       "    <tr>\n",
       "      <th>0</th>\n",
       "      <td>6.0</td>\n",
       "      <td>1971.0</td>\n",
       "      <td>6.0</td>\n",
       "      <td>5074.060059</td>\n",
       "      <td>3.0</td>\n",
       "      <td>1.0</td>\n",
       "      <td>1121.0</td>\n",
       "      <td>1.5</td>\n",
       "      <td>69258.0</td>\n",
       "      <td>14.0</td>\n",
       "      <td>...</td>\n",
       "      <td>0</td>\n",
       "      <td>0</td>\n",
       "      <td>1</td>\n",
       "      <td>0</td>\n",
       "      <td>0</td>\n",
       "      <td>0</td>\n",
       "      <td>0</td>\n",
       "      <td>0</td>\n",
       "      <td>0</td>\n",
       "      <td>-0.026300</td>\n",
       "    </tr>\n",
       "    <tr>\n",
       "      <th>1</th>\n",
       "      <td>8.0</td>\n",
       "      <td>1989.0</td>\n",
       "      <td>0.0</td>\n",
       "      <td>2276.600098</td>\n",
       "      <td>2.0</td>\n",
       "      <td>2.0</td>\n",
       "      <td>975.0</td>\n",
       "      <td>2.0</td>\n",
       "      <td>125044.0</td>\n",
       "      <td>14.0</td>\n",
       "      <td>...</td>\n",
       "      <td>0</td>\n",
       "      <td>0</td>\n",
       "      <td>0</td>\n",
       "      <td>0</td>\n",
       "      <td>0</td>\n",
       "      <td>1</td>\n",
       "      <td>0</td>\n",
       "      <td>0</td>\n",
       "      <td>0</td>\n",
       "      <td>0.042100</td>\n",
       "    </tr>\n",
       "    <tr>\n",
       "      <th>2</th>\n",
       "      <td>6.0</td>\n",
       "      <td>1979.0</td>\n",
       "      <td>0.0</td>\n",
       "      <td>5003.439941</td>\n",
       "      <td>2.0</td>\n",
       "      <td>3.0</td>\n",
       "      <td>1417.0</td>\n",
       "      <td>3.0</td>\n",
       "      <td>159885.0</td>\n",
       "      <td>14.0</td>\n",
       "      <td>...</td>\n",
       "      <td>0</td>\n",
       "      <td>0</td>\n",
       "      <td>0</td>\n",
       "      <td>0</td>\n",
       "      <td>0</td>\n",
       "      <td>1</td>\n",
       "      <td>0</td>\n",
       "      <td>0</td>\n",
       "      <td>0</td>\n",
       "      <td>0.011746</td>\n",
       "    </tr>\n",
       "    <tr>\n",
       "      <th>3</th>\n",
       "      <td>2.0</td>\n",
       "      <td>1969.0</td>\n",
       "      <td>0.0</td>\n",
       "      <td>3504.340088</td>\n",
       "      <td>3.0</td>\n",
       "      <td>2.0</td>\n",
       "      <td>1221.0</td>\n",
       "      <td>2.0</td>\n",
       "      <td>73519.0</td>\n",
       "      <td>14.0</td>\n",
       "      <td>...</td>\n",
       "      <td>0</td>\n",
       "      <td>0</td>\n",
       "      <td>0</td>\n",
       "      <td>0</td>\n",
       "      <td>0</td>\n",
       "      <td>1</td>\n",
       "      <td>0</td>\n",
       "      <td>0</td>\n",
       "      <td>0</td>\n",
       "      <td>-0.029979</td>\n",
       "    </tr>\n",
       "    <tr>\n",
       "      <th>4</th>\n",
       "      <td>9.0</td>\n",
       "      <td>1987.0</td>\n",
       "      <td>0.0</td>\n",
       "      <td>3023.610107</td>\n",
       "      <td>3.0</td>\n",
       "      <td>2.0</td>\n",
       "      <td>1140.0</td>\n",
       "      <td>2.0</td>\n",
       "      <td>155940.0</td>\n",
       "      <td>15.0</td>\n",
       "      <td>...</td>\n",
       "      <td>0</td>\n",
       "      <td>0</td>\n",
       "      <td>1</td>\n",
       "      <td>0</td>\n",
       "      <td>0</td>\n",
       "      <td>0</td>\n",
       "      <td>0</td>\n",
       "      <td>0</td>\n",
       "      <td>0</td>\n",
       "      <td>-0.182700</td>\n",
       "    </tr>\n",
       "  </tbody>\n",
       "</table>\n",
       "<p>5 rows × 109 columns</p>\n",
       "</div>"
      ],
      "text/plain": [
       "   transaction_mth  yearbuilt  roomcnt    taxamount  bedroomcnt  fullbathcnt  \\\n",
       "0              6.0     1971.0      6.0  5074.060059         3.0          1.0   \n",
       "1              8.0     1989.0      0.0  2276.600098         2.0          2.0   \n",
       "2              6.0     1979.0      0.0  5003.439941         2.0          3.0   \n",
       "3              2.0     1969.0      0.0  3504.340088         3.0          2.0   \n",
       "4              9.0     1987.0      0.0  3023.610107         3.0          2.0   \n",
       "\n",
       "   calculatedfinishedsquarefeet  bathroomcnt  structuretaxvaluedollarcnt  \\\n",
       "0                        1121.0          1.5                     69258.0   \n",
       "1                         975.0          2.0                    125044.0   \n",
       "2                        1417.0          3.0                    159885.0   \n",
       "3                        1221.0          2.0                     73519.0   \n",
       "4                        1140.0          2.0                    155940.0   \n",
       "\n",
       "   taxdelinquencyyear      ...       propertylandusetypeid_248.0  \\\n",
       "0                14.0      ...                                 0   \n",
       "1                14.0      ...                                 0   \n",
       "2                14.0      ...                                 0   \n",
       "3                14.0      ...                                 0   \n",
       "4                15.0      ...                                 0   \n",
       "\n",
       "   propertylandusetypeid_260.0  propertylandusetypeid_261.0  \\\n",
       "0                            0                            1   \n",
       "1                            0                            0   \n",
       "2                            0                            0   \n",
       "3                            0                            0   \n",
       "4                            0                            1   \n",
       "\n",
       "   propertylandusetypeid_263.0  propertylandusetypeid_265.0  \\\n",
       "0                            0                            0   \n",
       "1                            0                            0   \n",
       "2                            0                            0   \n",
       "3                            0                            0   \n",
       "4                            0                            0   \n",
       "\n",
       "   propertylandusetypeid_266.0  propertylandusetypeid_267.0  \\\n",
       "0                            0                            0   \n",
       "1                            1                            0   \n",
       "2                            1                            0   \n",
       "3                            1                            0   \n",
       "4                            0                            0   \n",
       "\n",
       "   propertylandusetypeid_269.0  propertylandusetypeid_275.0  logerror_var  \n",
       "0                            0                            0     -0.026300  \n",
       "1                            0                            0      0.042100  \n",
       "2                            0                            0      0.011746  \n",
       "3                            0                            0     -0.029979  \n",
       "4                            0                            0     -0.182700  \n",
       "\n",
       "[5 rows x 109 columns]"
      ]
     },
     "execution_count": 234,
     "metadata": {},
     "output_type": "execute_result"
    }
   ],
   "source": [
    "joined_after_imputation.head()"
   ]
  },
  {
   "cell_type": "markdown",
   "metadata": {},
   "source": [
    "## Feature importance"
   ]
  },
  {
   "cell_type": "code",
   "execution_count": 235,
   "metadata": {
    "collapsed": true
   },
   "outputs": [],
   "source": [
    "from sklearn.model_selection import train_test_split"
   ]
  },
  {
   "cell_type": "code",
   "execution_count": 236,
   "metadata": {},
   "outputs": [],
   "source": [
    "X_train, X_test, y_train, y_test = train_test_split(joined_after_imputation.drop('logerror_var', axis=1).values,\n",
    "                                                    joined_after_imputation['logerror_var'].values,\n",
    "                                                    test_size=0.2, random_state=4)"
   ]
  },
  {
   "cell_type": "code",
   "execution_count": 237,
   "metadata": {},
   "outputs": [
    {
     "data": {
      "text/plain": [
       "(13431, 3358)"
      ]
     },
     "execution_count": 237,
     "metadata": {},
     "output_type": "execute_result"
    }
   ],
   "source": [
    "len(X_train), len(X_test)"
   ]
  },
  {
   "cell_type": "code",
   "execution_count": 238,
   "metadata": {
    "collapsed": true
   },
   "outputs": [],
   "source": [
    "from sklearn.linear_model import Lasso"
   ]
  },
  {
   "cell_type": "code",
   "execution_count": 239,
   "metadata": {},
   "outputs": [
    {
     "data": {
      "text/plain": [
       "108"
      ]
     },
     "execution_count": 239,
     "metadata": {},
     "output_type": "execute_result"
    }
   ],
   "source": [
    "all_vars = [col for col in joined_after_imputation.drop('logerror_var', axis=1).columns]\n",
    "len(all_vars)"
   ]
  },
  {
   "cell_type": "code",
   "execution_count": 240,
   "metadata": {
    "collapsed": true
   },
   "outputs": [],
   "source": [
    "lasso_reg = Lasso(alpha=0.0001)"
   ]
  },
  {
   "cell_type": "code",
   "execution_count": 241,
   "metadata": {},
   "outputs": [
    {
     "data": {
      "text/plain": [
       "Lasso(alpha=0.0001, copy_X=True, fit_intercept=True, max_iter=1000,\n",
       "   normalize=False, positive=False, precompute=False, random_state=None,\n",
       "   selection='cyclic', tol=0.0001, warm_start=False)"
      ]
     },
     "execution_count": 241,
     "metadata": {},
     "output_type": "execute_result"
    }
   ],
   "source": [
    "lasso_reg.fit(X_train, y_train)"
   ]
  },
  {
   "cell_type": "code",
   "execution_count": 242,
   "metadata": {
    "scrolled": false
   },
   "outputs": [],
   "source": [
    "all_var_dict = {var:coeff for var,coeff in zip(all_vars, lasso_reg.coef_) if coeff != 0}\n",
    "all_var_dict=sorted(all_var_dict.items(), key=lambda x: np.abs(x[1]))"
   ]
  },
  {
   "cell_type": "code",
   "execution_count": 210,
   "metadata": {},
   "outputs": [
    {
     "data": {
      "text/plain": [
       "[('lotsizesquarefeet', -3.8122527250570593e-09),\n",
       " ('structuretaxvaluedollarcnt', -7.6757558005120995e-09),\n",
       " ('longitude', 7.8510234284182427e-09),\n",
       " ('latitude', 9.5071629164452201e-09),\n",
       " ('landtaxvaluedollarcnt', 2.369367770381383e-08),\n",
       " ('taxamount', -1.3499263462390239e-06),\n",
       " ('yearbuilt', 1.324246844513963e-05),\n",
       " ('calculatedfinishedsquarefeet', 1.7735282082377871e-05),\n",
       " ('roomcnt', 0.00024057264413665831),\n",
       " ('fullbathcnt', -0.0003011648662250127),\n",
       " ('unitcnt', -0.00031788767677477857),\n",
       " ('transaction_day_of_wk', 0.00038144041973245553),\n",
       " ('transaction_mth', 0.00078437879616370318),\n",
       " ('propertycountylandusecode_0300', -0.0009920080505423179),\n",
       " ('transaction_yr', 0.0013468662697211278),\n",
       " ('buildingqualitytypeid_7.0', 0.001365274637010838),\n",
       " ('propertycountylandusecode_1128', 0.0014760996588195729),\n",
       " ('bathroomcnt', 0.0016616814333212709),\n",
       " ('buildingqualitytypeid_8.0', -0.0022709429046287102),\n",
       " ('buildingqualitytypeid_4.0', 0.0024804242424680653),\n",
       " ('propertycountylandusecode_1', 0.0033593784396350585),\n",
       " ('heatingorsystemtypeid_7.0', 0.0035925797050909754),\n",
       " ('propertycountylandusecode_122', 0.0036660819954291816),\n",
       " ('bedroomcnt', -0.0043551369465781066),\n",
       " ('propertycountylandusecode_010C', 0.0045492628144969604),\n",
       " ('propertylandusetypeid_261.0', 0.0081523794745455447),\n",
       " ('propertylandusetypeid_248.0', -0.0086097725237369912),\n",
       " ('heatingorsystemtypeid_6.0', -0.0086503502298881166),\n",
       " ('propertycountylandusecode_34', -0.0090815330944052156),\n",
       " ('taxdelinquencyyear', -0.012305484650179265),\n",
       " ('propertylandusetypeid_266.0', 0.012960573480566678),\n",
       " ('propertylandusetypeid_265.0', 0.013296642561459338),\n",
       " ('propertycountylandusecode_0101', -0.013455248871029616),\n",
       " ('fips_6111.0', 0.013489273476938872),\n",
       " ('propertycountylandusecode_1111', -0.014269731322296249),\n",
       " ('buildingqualitytypeid_10.0', -0.018131725731813521),\n",
       " ('buildingqualitytypeid_11.0', -0.020179476421699139),\n",
       " ('propertycountylandusecode_0200', -0.027877495874768256),\n",
       " ('buildingqualitytypeid_5.0', 0.032597689036598071),\n",
       " ('propertycountylandusecode_012C', -0.05247688940791672),\n",
       " ('propertycountylandusecode_0109', 0.4705202723300464)]"
      ]
     },
     "execution_count": 210,
     "metadata": {},
     "output_type": "execute_result"
    }
   ],
   "source": [
    "all_var_dict"
   ]
  },
  {
   "cell_type": "code",
   "execution_count": null,
   "metadata": {
    "collapsed": true
   },
   "outputs": [],
   "source": []
  }
 ],
 "metadata": {
  "kernelspec": {
   "display_name": "Python 3",
   "language": "python",
   "name": "python3"
  },
  "language_info": {
   "codemirror_mode": {
    "name": "ipython",
    "version": 3
   },
   "file_extension": ".py",
   "mimetype": "text/x-python",
   "name": "python",
   "nbconvert_exporter": "python",
   "pygments_lexer": "ipython3",
   "version": "3.6.1"
  }
 },
 "nbformat": 4,
 "nbformat_minor": 2
}
