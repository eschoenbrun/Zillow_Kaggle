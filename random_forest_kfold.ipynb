{
 "cells": [
  {
   "cell_type": "code",
   "execution_count": 1,
   "metadata": {
    "collapsed": true
   },
   "outputs": [],
   "source": [
    "import pandas as pd\n",
    "import numpy as np\n",
    "from sklearn import model_selection\n",
    "from sklearn.ensemble import RandomForestRegressor"
   ]
  },
  {
   "cell_type": "code",
   "execution_count": 2,
   "metadata": {
    "collapsed": true,
    "scrolled": false
   },
   "outputs": [],
   "source": [
    "df = pd.read_csv('data/train-ml_v2.csv')"
   ]
  },
  {
   "cell_type": "code",
   "execution_count": 3,
   "metadata": {},
   "outputs": [
    {
     "data": {
      "text/html": [
       "<div>\n",
       "<style>\n",
       "    .dataframe thead tr:only-child th {\n",
       "        text-align: right;\n",
       "    }\n",
       "\n",
       "    .dataframe thead th {\n",
       "        text-align: left;\n",
       "    }\n",
       "\n",
       "    .dataframe tbody tr th {\n",
       "        vertical-align: top;\n",
       "    }\n",
       "</style>\n",
       "<table border=\"1\" class=\"dataframe\">\n",
       "  <thead>\n",
       "    <tr style=\"text-align: right;\">\n",
       "      <th></th>\n",
       "      <th>longitude</th>\n",
       "      <th>lotsizesquarefeet</th>\n",
       "      <th>landtaxvaluedollarcnt</th>\n",
       "      <th>latitude</th>\n",
       "      <th>structuretaxvaluedollarcnt</th>\n",
       "      <th>taxamount</th>\n",
       "      <th>calculatedfinishedsquarefeet</th>\n",
       "      <th>yearbuilt</th>\n",
       "      <th>roomcnt</th>\n",
       "      <th>buildingqualitytypeid_8.0</th>\n",
       "      <th>...</th>\n",
       "      <th>transaction_mth</th>\n",
       "      <th>propertycountylandusecode_122</th>\n",
       "      <th>transaction_day_of_wk</th>\n",
       "      <th>bedroomcnt</th>\n",
       "      <th>buildingqualitytypeid_6.0</th>\n",
       "      <th>heatingorsystemtypeid_7.0</th>\n",
       "      <th>propertycountylandusecode_010C</th>\n",
       "      <th>buildingqualitytypeid_4.0</th>\n",
       "      <th>transaction_yr</th>\n",
       "      <th>logerror</th>\n",
       "    </tr>\n",
       "  </thead>\n",
       "  <tbody>\n",
       "    <tr>\n",
       "      <th>0</th>\n",
       "      <td>-118488536.0</td>\n",
       "      <td>7528.0</td>\n",
       "      <td>237416.0</td>\n",
       "      <td>34280992.0</td>\n",
       "      <td>122754.0</td>\n",
       "      <td>6735.879883</td>\n",
       "      <td>1684.0</td>\n",
       "      <td>1959.0</td>\n",
       "      <td>0.0</td>\n",
       "      <td>0</td>\n",
       "      <td>...</td>\n",
       "      <td>1.0</td>\n",
       "      <td>0</td>\n",
       "      <td>4.0</td>\n",
       "      <td>3.0</td>\n",
       "      <td>0</td>\n",
       "      <td>0</td>\n",
       "      <td>0</td>\n",
       "      <td>1</td>\n",
       "      <td>2016.0</td>\n",
       "      <td>0.0276</td>\n",
       "    </tr>\n",
       "    <tr>\n",
       "      <th>1</th>\n",
       "      <td>-117677552.0</td>\n",
       "      <td>3643.0</td>\n",
       "      <td>239071.0</td>\n",
       "      <td>33668120.0</td>\n",
       "      <td>346458.0</td>\n",
       "      <td>10153.019531</td>\n",
       "      <td>2263.0</td>\n",
       "      <td>2014.0</td>\n",
       "      <td>0.0</td>\n",
       "      <td>0</td>\n",
       "      <td>...</td>\n",
       "      <td>1.0</td>\n",
       "      <td>0</td>\n",
       "      <td>4.0</td>\n",
       "      <td>4.0</td>\n",
       "      <td>0</td>\n",
       "      <td>0</td>\n",
       "      <td>0</td>\n",
       "      <td>0</td>\n",
       "      <td>2016.0</td>\n",
       "      <td>-0.1684</td>\n",
       "    </tr>\n",
       "    <tr>\n",
       "      <th>2</th>\n",
       "      <td>-118175032.0</td>\n",
       "      <td>11423.0</td>\n",
       "      <td>57912.0</td>\n",
       "      <td>34136312.0</td>\n",
       "      <td>61994.0</td>\n",
       "      <td>11484.480469</td>\n",
       "      <td>2217.0</td>\n",
       "      <td>1940.0</td>\n",
       "      <td>0.0</td>\n",
       "      <td>0</td>\n",
       "      <td>...</td>\n",
       "      <td>1.0</td>\n",
       "      <td>0</td>\n",
       "      <td>4.0</td>\n",
       "      <td>2.0</td>\n",
       "      <td>0</td>\n",
       "      <td>0</td>\n",
       "      <td>0</td>\n",
       "      <td>1</td>\n",
       "      <td>2016.0</td>\n",
       "      <td>-0.0040</td>\n",
       "    </tr>\n",
       "    <tr>\n",
       "      <th>3</th>\n",
       "      <td>-118309000.0</td>\n",
       "      <td>70859.0</td>\n",
       "      <td>73362.0</td>\n",
       "      <td>33755800.0</td>\n",
       "      <td>171518.0</td>\n",
       "      <td>3048.739990</td>\n",
       "      <td>839.0</td>\n",
       "      <td>1987.0</td>\n",
       "      <td>0.0</td>\n",
       "      <td>0</td>\n",
       "      <td>...</td>\n",
       "      <td>1.0</td>\n",
       "      <td>0</td>\n",
       "      <td>5.0</td>\n",
       "      <td>2.0</td>\n",
       "      <td>0</td>\n",
       "      <td>0</td>\n",
       "      <td>1</td>\n",
       "      <td>1</td>\n",
       "      <td>2016.0</td>\n",
       "      <td>0.0218</td>\n",
       "    </tr>\n",
       "    <tr>\n",
       "      <th>4</th>\n",
       "      <td>-117700232.0</td>\n",
       "      <td>6000.0</td>\n",
       "      <td>264977.0</td>\n",
       "      <td>33485644.0</td>\n",
       "      <td>169574.0</td>\n",
       "      <td>5488.959961</td>\n",
       "      <td>2283.0</td>\n",
       "      <td>1981.0</td>\n",
       "      <td>8.0</td>\n",
       "      <td>0</td>\n",
       "      <td>...</td>\n",
       "      <td>1.0</td>\n",
       "      <td>1</td>\n",
       "      <td>5.0</td>\n",
       "      <td>4.0</td>\n",
       "      <td>0</td>\n",
       "      <td>0</td>\n",
       "      <td>0</td>\n",
       "      <td>0</td>\n",
       "      <td>2016.0</td>\n",
       "      <td>-0.0050</td>\n",
       "    </tr>\n",
       "  </tbody>\n",
       "</table>\n",
       "<p>5 rows × 22 columns</p>\n",
       "</div>"
      ],
      "text/plain": [
       "     longitude  lotsizesquarefeet  landtaxvaluedollarcnt    latitude  \\\n",
       "0 -118488536.0             7528.0               237416.0  34280992.0   \n",
       "1 -117677552.0             3643.0               239071.0  33668120.0   \n",
       "2 -118175032.0            11423.0                57912.0  34136312.0   \n",
       "3 -118309000.0            70859.0                73362.0  33755800.0   \n",
       "4 -117700232.0             6000.0               264977.0  33485644.0   \n",
       "\n",
       "   structuretaxvaluedollarcnt     taxamount  calculatedfinishedsquarefeet  \\\n",
       "0                    122754.0   6735.879883                        1684.0   \n",
       "1                    346458.0  10153.019531                        2263.0   \n",
       "2                     61994.0  11484.480469                        2217.0   \n",
       "3                    171518.0   3048.739990                         839.0   \n",
       "4                    169574.0   5488.959961                        2283.0   \n",
       "\n",
       "   yearbuilt  roomcnt  buildingqualitytypeid_8.0    ...     transaction_mth  \\\n",
       "0     1959.0      0.0                          0    ...                 1.0   \n",
       "1     2014.0      0.0                          0    ...                 1.0   \n",
       "2     1940.0      0.0                          0    ...                 1.0   \n",
       "3     1987.0      0.0                          0    ...                 1.0   \n",
       "4     1981.0      8.0                          0    ...                 1.0   \n",
       "\n",
       "   propertycountylandusecode_122  transaction_day_of_wk  bedroomcnt  \\\n",
       "0                              0                    4.0         3.0   \n",
       "1                              0                    4.0         4.0   \n",
       "2                              0                    4.0         2.0   \n",
       "3                              0                    5.0         2.0   \n",
       "4                              1                    5.0         4.0   \n",
       "\n",
       "   buildingqualitytypeid_6.0  heatingorsystemtypeid_7.0  \\\n",
       "0                          0                          0   \n",
       "1                          0                          0   \n",
       "2                          0                          0   \n",
       "3                          0                          0   \n",
       "4                          0                          0   \n",
       "\n",
       "   propertycountylandusecode_010C  buildingqualitytypeid_4.0  transaction_yr  \\\n",
       "0                               0                          1          2016.0   \n",
       "1                               0                          0          2016.0   \n",
       "2                               0                          1          2016.0   \n",
       "3                               1                          1          2016.0   \n",
       "4                               0                          0          2016.0   \n",
       "\n",
       "   logerror  \n",
       "0    0.0276  \n",
       "1   -0.1684  \n",
       "2   -0.0040  \n",
       "3    0.0218  \n",
       "4   -0.0050  \n",
       "\n",
       "[5 rows x 22 columns]"
      ]
     },
     "execution_count": 3,
     "metadata": {},
     "output_type": "execute_result"
    }
   ],
   "source": [
    "df.head()"
   ]
  },
  {
   "cell_type": "code",
   "execution_count": 4,
   "metadata": {
    "collapsed": true
   },
   "outputs": [],
   "source": [
    "def reduce_mem_usage(props):\n",
    "    start_mem_usg = props.memory_usage().sum() / 1024**2 \n",
    "    print(\"Memory usage of properties dataframe is :\",start_mem_usg,\" MB\")\n",
    "    NAlist = [] # Keeps track of columns that have missing values filled in. \n",
    "    for col in props.columns:\n",
    "        if props[col].dtype != object:  # Exclude strings\n",
    "            \n",
    "            # Print current column type\n",
    "            print(\"******************************\")\n",
    "            print(\"Column: \",col)\n",
    "            print(\"dtype before: \",props[col].dtype)\n",
    "            \n",
    "            # make variables for Int, max and min\n",
    "            IsInt = False\n",
    "            mx = props[col].max()\n",
    "            mn = props[col].min()\n",
    "            \n",
    "            # Integer does not support NA, therefore, NA needs to be filled\n",
    "            if not np.isfinite(props[col]).all(): \n",
    "                NAlist.append(col)\n",
    "                props[col].fillna(mn-1,inplace=True)  \n",
    "                   \n",
    "            # test if column can be converted to an integer\n",
    "            asint = props[col].fillna(0).astype(np.int64)\n",
    "            result = (props[col] - asint)\n",
    "            result = result.sum()\n",
    "            if result > -0.01 and result < 0.01:\n",
    "                IsInt = True\n",
    "\n",
    "            \n",
    "            # Make Integer/unsigned Integer datatypes\n",
    "            if IsInt:\n",
    "                if mn >= 0:\n",
    "                    if mx < 255:\n",
    "                        props[col] = props[col].astype(np.uint8)\n",
    "                    elif mx < 65535:\n",
    "                        props[col] = props[col].astype(np.uint16)\n",
    "                    elif mx < 4294967295:\n",
    "                        props[col] = props[col].astype(np.uint32)\n",
    "                    else:\n",
    "                        props[col] = props[col].astype(np.uint64)\n",
    "                else:\n",
    "                    if mn > np.iinfo(np.int8).min and mx < np.iinfo(np.int8).max:\n",
    "                        props[col] = props[col].astype(np.int8)\n",
    "                    elif mn > np.iinfo(np.int16).min and mx < np.iinfo(np.int16).max:\n",
    "                        props[col] = props[col].astype(np.int16)\n",
    "                    elif mn > np.iinfo(np.int32).min and mx < np.iinfo(np.int32).max:\n",
    "                        props[col] = props[col].astype(np.int32)\n",
    "                    elif mn > np.iinfo(np.int64).min and mx < np.iinfo(np.int64).max:\n",
    "                        props[col] = props[col].astype(np.int64)    \n",
    "            \n",
    "            # Make float datatypes 32 bit\n",
    "            else:\n",
    "                props[col] = props[col].astype(np.float32)\n",
    "            \n",
    "            # Print new column type\n",
    "            print(\"dtype after: \",props[col].dtype)\n",
    "            print(\"******************************\")\n",
    "    \n",
    "    # Print final result\n",
    "    print(\"___MEMORY USAGE AFTER COMPLETION:___\")\n",
    "    mem_usg = props.memory_usage().sum() / 1024**2 \n",
    "    print(\"Memory usage is: \",mem_usg,\" MB\")\n",
    "    print(\"This is \",100*mem_usg/start_mem_usg,\"% of the initial size\")\n",
    "    return props, NAlist"
   ]
  },
  {
   "cell_type": "code",
   "execution_count": 5,
   "metadata": {
    "scrolled": false
   },
   "outputs": [
    {
     "name": "stdout",
     "output_type": "stream",
     "text": [
      "Memory usage of properties dataframe is : 28.178512573242188  MB\n",
      "******************************\n",
      "Column:  longitude\n",
      "dtype before:  float64\n",
      "dtype after:  int32\n",
      "******************************\n",
      "******************************\n",
      "Column:  lotsizesquarefeet\n",
      "dtype before:  float64\n",
      "dtype after:  float32\n",
      "******************************\n",
      "******************************\n",
      "Column:  landtaxvaluedollarcnt\n",
      "dtype before:  float64\n",
      "dtype after:  uint32\n",
      "******************************\n",
      "******************************\n",
      "Column:  latitude\n",
      "dtype before:  float64\n",
      "dtype after:  uint32\n",
      "******************************\n",
      "******************************\n",
      "Column:  structuretaxvaluedollarcnt\n",
      "dtype before:  float64\n",
      "dtype after:  uint32\n",
      "******************************\n",
      "******************************\n",
      "Column:  taxamount\n",
      "dtype before:  float64\n",
      "dtype after:  float32\n",
      "******************************\n",
      "******************************\n",
      "Column:  calculatedfinishedsquarefeet\n",
      "dtype before:  float64\n",
      "dtype after:  uint16\n",
      "******************************\n",
      "******************************\n",
      "Column:  yearbuilt\n",
      "dtype before:  float64\n",
      "dtype after:  uint16\n",
      "******************************\n",
      "******************************\n",
      "Column:  roomcnt\n",
      "dtype before:  float64\n",
      "dtype after:  uint8\n",
      "******************************\n",
      "******************************\n",
      "Column:  buildingqualitytypeid_8.0\n",
      "dtype before:  int64\n",
      "dtype after:  uint8\n",
      "******************************\n",
      "******************************\n",
      "Column:  propertycountylandusecode_0100\n",
      "dtype before:  int64\n",
      "dtype after:  uint8\n",
      "******************************\n",
      "******************************\n",
      "Column:  unitcnt\n",
      "dtype before:  float64\n",
      "dtype after:  uint8\n",
      "******************************\n",
      "******************************\n",
      "Column:  transaction_mth\n",
      "dtype before:  float64\n",
      "dtype after:  uint8\n",
      "******************************\n",
      "******************************\n",
      "Column:  propertycountylandusecode_122\n",
      "dtype before:  int64\n",
      "dtype after:  uint8\n",
      "******************************\n",
      "******************************\n",
      "Column:  transaction_day_of_wk\n",
      "dtype before:  float64\n",
      "dtype after:  uint8\n",
      "******************************\n",
      "******************************\n",
      "Column:  bedroomcnt\n",
      "dtype before:  float64\n",
      "dtype after:  uint8\n",
      "******************************\n",
      "******************************\n",
      "Column:  buildingqualitytypeid_6.0\n",
      "dtype before:  int64\n",
      "dtype after:  uint8\n",
      "******************************\n",
      "******************************\n",
      "Column:  heatingorsystemtypeid_7.0\n",
      "dtype before:  int64\n",
      "dtype after:  uint8\n",
      "******************************\n",
      "******************************\n",
      "Column:  propertycountylandusecode_010C\n",
      "dtype before:  int64\n",
      "dtype after:  uint8\n",
      "******************************\n",
      "******************************\n",
      "Column:  buildingqualitytypeid_4.0\n",
      "dtype before:  int64\n",
      "dtype after:  uint8\n",
      "******************************\n",
      "******************************\n",
      "Column:  transaction_yr\n",
      "dtype before:  float64\n",
      "dtype after:  uint16\n",
      "******************************\n",
      "******************************\n",
      "Column:  logerror\n",
      "dtype before:  float64\n",
      "dtype after:  float32\n",
      "******************************\n",
      "___MEMORY USAGE AFTER COMPLETION:___\n",
      "Memory usage is:  7.364894866943359  MB\n",
      "This is  26.136563623790888 % of the initial size\n"
     ]
    }
   ],
   "source": [
    "props, NAlist = reduce_mem_usage(df)"
   ]
  },
  {
   "cell_type": "code",
   "execution_count": 41,
   "metadata": {
    "collapsed": true
   },
   "outputs": [],
   "source": [
    "df_sample1 = df.sample(frac=0.01)"
   ]
  },
  {
   "cell_type": "code",
   "execution_count": 42,
   "metadata": {},
   "outputs": [
    {
     "data": {
      "text/plain": [
       "1679"
      ]
     },
     "execution_count": 42,
     "metadata": {},
     "output_type": "execute_result"
    }
   ],
   "source": [
    "len(df_sample1)"
   ]
  },
  {
   "cell_type": "code",
   "execution_count": 43,
   "metadata": {
    "collapsed": true
   },
   "outputs": [],
   "source": [
    "from sklearn.model_selection import train_test_split"
   ]
  },
  {
   "cell_type": "code",
   "execution_count": 44,
   "metadata": {
    "collapsed": true
   },
   "outputs": [],
   "source": [
    "train, test = train_test_split(df_sample1,test_size=0.2, random_state=4)"
   ]
  },
  {
   "cell_type": "code",
   "execution_count": 45,
   "metadata": {
    "collapsed": true
   },
   "outputs": [],
   "source": [
    "X_train = train.drop('logerror', axis=1).values\n",
    "y_train = train['logerror'].values"
   ]
  },
  {
   "cell_type": "code",
   "execution_count": 46,
   "metadata": {},
   "outputs": [
    {
     "data": {
      "text/plain": [
       "(1343, 1343)"
      ]
     },
     "execution_count": 46,
     "metadata": {},
     "output_type": "execute_result"
    }
   ],
   "source": [
    "len(X_train), len(y_train)"
   ]
  },
  {
   "cell_type": "code",
   "execution_count": 47,
   "metadata": {
    "collapsed": true
   },
   "outputs": [],
   "source": [
    "from sklearn.metrics import mean_absolute_error"
   ]
  },
  {
   "cell_type": "code",
   "execution_count": 51,
   "metadata": {
    "collapsed": true
   },
   "outputs": [],
   "source": [
    "rf = RandomForestRegressor(criterion='mae',min_samples_leaf=10,n_estimators=20,n_jobs=-1)"
   ]
  },
  {
   "cell_type": "code",
   "execution_count": 52,
   "metadata": {},
   "outputs": [
    {
     "data": {
      "text/plain": [
       "RandomForestRegressor(bootstrap=True, criterion='mae', max_depth=None,\n",
       "           max_features='auto', max_leaf_nodes=None,\n",
       "           min_impurity_split=1e-07, min_samples_leaf=10,\n",
       "           min_samples_split=2, min_weight_fraction_leaf=0.0,\n",
       "           n_estimators=20, n_jobs=-1, oob_score=False, random_state=None,\n",
       "           verbose=0, warm_start=False)"
      ]
     },
     "execution_count": 52,
     "metadata": {},
     "output_type": "execute_result"
    }
   ],
   "source": [
    "rf.fit(X_train, y_train)"
   ]
  },
  {
   "cell_type": "code",
   "execution_count": 53,
   "metadata": {
    "collapsed": true
   },
   "outputs": [],
   "source": [
    "X_test = test.drop('logerror',axis=1).values\n",
    "y_test = test['logerror'].values"
   ]
  },
  {
   "cell_type": "code",
   "execution_count": 54,
   "metadata": {
    "collapsed": true
   },
   "outputs": [],
   "source": [
    "y_preds = rf.predict(X_test)"
   ]
  },
  {
   "cell_type": "code",
   "execution_count": 55,
   "metadata": {},
   "outputs": [
    {
     "data": {
      "text/plain": [
       "336"
      ]
     },
     "execution_count": 55,
     "metadata": {},
     "output_type": "execute_result"
    }
   ],
   "source": [
    "len(y_preds)"
   ]
  },
  {
   "cell_type": "code",
   "execution_count": 56,
   "metadata": {
    "collapsed": true
   },
   "outputs": [],
   "source": [
    "ys = rf.predict(X_train)"
   ]
  },
  {
   "cell_type": "code",
   "execution_count": 57,
   "metadata": {},
   "outputs": [
    {
     "data": {
      "text/plain": [
       "0.076562669574224182"
      ]
     },
     "execution_count": 57,
     "metadata": {},
     "output_type": "execute_result"
    }
   ],
   "source": [
    "mean_absolute_error(y_test, y_preds)"
   ]
  },
  {
   "cell_type": "code",
   "execution_count": 58,
   "metadata": {
    "collapsed": true
   },
   "outputs": [],
   "source": [
    "num_splits = 10\n",
    "seed = 7"
   ]
  },
  {
   "cell_type": "code",
   "execution_count": 59,
   "metadata": {
    "collapsed": true
   },
   "outputs": [],
   "source": [
    "kfold = model_selection.KFold(n_splits = num_splits, random_state=seed)"
   ]
  },
  {
   "cell_type": "code",
   "execution_count": 60,
   "metadata": {
    "collapsed": true
   },
   "outputs": [],
   "source": [
    "model = RandomForestRegressor(criterion='mae',min_samples_leaf=10,n_estimators=20,n_jobs=-1)"
   ]
  },
  {
   "cell_type": "code",
   "execution_count": 61,
   "metadata": {
    "collapsed": true
   },
   "outputs": [],
   "source": [
    "results = model_selection.cross_val_score(model,X_train , y_train, cv=num_splits,\n",
    "                                          n_jobs=-1,scoring='neg_mean_absolute_error')"
   ]
  },
  {
   "cell_type": "code",
   "execution_count": 62,
   "metadata": {},
   "outputs": [
    {
     "data": {
      "text/plain": [
       "-0.070521681309162532"
      ]
     },
     "execution_count": 62,
     "metadata": {},
     "output_type": "execute_result"
    }
   ],
   "source": [
    "results.mean()\n"
   ]
  },
  {
   "cell_type": "code",
   "execution_count": 63,
   "metadata": {
    "collapsed": true
   },
   "outputs": [],
   "source": [
    "from sklearn.model_selection import GridSearchCV"
   ]
  },
  {
   "cell_type": "code",
   "execution_count": 66,
   "metadata": {
    "collapsed": true
   },
   "outputs": [],
   "source": [
    "grid = [{'n_estimators':[3,10,30], 'max_features':[2,4,6,8]},\n",
    "       {'bootstrap':[False],'n_estimators':[3,10],'max_features':[2,3,4]},]"
   ]
  },
  {
   "cell_type": "code",
   "execution_count": 67,
   "metadata": {
    "collapsed": true
   },
   "outputs": [],
   "source": [
    "randn_forest = RandomForestRegressor()"
   ]
  },
  {
   "cell_type": "code",
   "execution_count": 69,
   "metadata": {
    "collapsed": true
   },
   "outputs": [],
   "source": [
    "grid_search = GridSearchCV(randn_forest, grid, cv=5,scoring='neg_mean_absolute_error')"
   ]
  },
  {
   "cell_type": "code",
   "execution_count": 70,
   "metadata": {},
   "outputs": [
    {
     "data": {
      "text/plain": [
       "GridSearchCV(cv=5, error_score='raise',\n",
       "       estimator=RandomForestRegressor(bootstrap=True, criterion='mse', max_depth=None,\n",
       "           max_features='auto', max_leaf_nodes=None,\n",
       "           min_impurity_split=1e-07, min_samples_leaf=1,\n",
       "           min_samples_split=2, min_weight_fraction_leaf=0.0,\n",
       "           n_estimators=10, n_jobs=1, oob_score=False, random_state=None,\n",
       "           verbose=0, warm_start=False),\n",
       "       fit_params={}, iid=True, n_jobs=1,\n",
       "       param_grid=[{'n_estimators': [3, 10, 30], 'max_features': [2, 4, 6, 8]}, {'bootstrap': [False], 'n_estimators': [3, 10], 'max_features': [2, 3, 4]}],\n",
       "       pre_dispatch='2*n_jobs', refit=True, return_train_score=True,\n",
       "       scoring='neg_mean_absolute_error', verbose=0)"
      ]
     },
     "execution_count": 70,
     "metadata": {},
     "output_type": "execute_result"
    }
   ],
   "source": [
    "grid_search.fit(X_train, y_train)"
   ]
  },
  {
   "cell_type": "code",
   "execution_count": null,
   "metadata": {
    "collapsed": true
   },
   "outputs": [],
   "source": []
  }
 ],
 "metadata": {
  "kernelspec": {
   "display_name": "Python [default]",
   "language": "python",
   "name": "python3"
  },
  "language_info": {
   "codemirror_mode": {
    "name": "ipython",
    "version": 3
   },
   "file_extension": ".py",
   "mimetype": "text/x-python",
   "name": "python",
   "nbconvert_exporter": "python",
   "pygments_lexer": "ipython3",
   "version": "3.6.3"
  }
 },
 "nbformat": 4,
 "nbformat_minor": 2
}
